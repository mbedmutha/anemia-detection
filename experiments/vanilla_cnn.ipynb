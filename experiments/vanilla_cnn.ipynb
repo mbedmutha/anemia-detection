{
 "cells": [
  {
   "cell_type": "markdown",
   "metadata": {},
   "source": [
    "# Vanilla CNN\n",
    "\n",
    "Code for Vanilla CNN based baseline model\n",
    "\n",
    "## Imports"
   ]
  },
  {
   "cell_type": "code",
   "execution_count": 1,
   "metadata": {
    "id": "llAsTiO03Z0a"
   },
   "outputs": [],
   "source": [
    "import numpy as np\n",
    "import pandas as pd\n",
    "import os, random\n",
    "import cv2\n",
    "import matplotlib.pyplot as plt\n",
    "from tqdm import tqdm"
   ]
  },
  {
   "cell_type": "code",
   "execution_count": 2,
   "metadata": {},
   "outputs": [
    {
     "name": "stdout",
     "output_type": "stream",
     "text": [
      "Defaulting to user installation because normal site-packages is not writeable\n",
      "Requirement already satisfied: wandb in /home/ssaoji/.local/lib/python3.9/site-packages (0.12.17)\n",
      "Requirement already satisfied: docker-pycreds>=0.4.0 in /home/ssaoji/.local/lib/python3.9/site-packages (from wandb) (0.4.0)\n",
      "Requirement already satisfied: setuptools in /opt/conda/lib/python3.9/site-packages (from wandb) (49.6.0.post20210108)\n",
      "Requirement already satisfied: promise<3,>=2.0 in /home/ssaoji/.local/lib/python3.9/site-packages (from wandb) (2.3)\n",
      "Requirement already satisfied: GitPython>=1.0.0 in /home/ssaoji/.local/lib/python3.9/site-packages (from wandb) (3.1.27)\n",
      "Requirement already satisfied: PyYAML in /opt/conda/lib/python3.9/site-packages (from wandb) (5.4.1)\n",
      "Requirement already satisfied: psutil>=5.0.0 in /opt/conda/lib/python3.9/site-packages (from wandb) (5.8.0)\n",
      "Requirement already satisfied: protobuf<4.0dev,>=3.12.0 in /opt/conda/lib/python3.9/site-packages (from wandb) (3.17.2)\n",
      "Requirement already satisfied: python-dateutil>=2.6.1 in /opt/conda/lib/python3.9/site-packages (from wandb) (2.8.2)\n",
      "Requirement already satisfied: shortuuid>=0.5.0 in /home/ssaoji/.local/lib/python3.9/site-packages (from wandb) (1.0.9)\n",
      "Requirement already satisfied: setproctitle in /home/ssaoji/.local/lib/python3.9/site-packages (from wandb) (1.2.3)\n",
      "Requirement already satisfied: six>=1.13.0 in /opt/conda/lib/python3.9/site-packages (from wandb) (1.15.0)\n",
      "Requirement already satisfied: pathtools in /home/ssaoji/.local/lib/python3.9/site-packages (from wandb) (0.1.2)\n",
      "Requirement already satisfied: requests<3,>=2.0.0 in /opt/conda/lib/python3.9/site-packages (from wandb) (2.26.0)\n",
      "Requirement already satisfied: Click!=8.0.0,>=7.0 in /opt/conda/lib/python3.9/site-packages (from wandb) (8.0.1)\n",
      "Requirement already satisfied: sentry-sdk>=1.0.0 in /home/ssaoji/.local/lib/python3.9/site-packages (from wandb) (1.5.12)\n",
      "Requirement already satisfied: gitdb<5,>=4.0.1 in /home/ssaoji/.local/lib/python3.9/site-packages (from GitPython>=1.0.0->wandb) (4.0.9)\n",
      "Requirement already satisfied: smmap<6,>=3.0.1 in /home/ssaoji/.local/lib/python3.9/site-packages (from gitdb<5,>=4.0.1->GitPython>=1.0.0->wandb) (5.0.0)\n",
      "Requirement already satisfied: certifi>=2017.4.17 in /opt/conda/lib/python3.9/site-packages (from requests<3,>=2.0.0->wandb) (2021.10.8)\n",
      "Requirement already satisfied: urllib3<1.27,>=1.21.1 in /opt/conda/lib/python3.9/site-packages (from requests<3,>=2.0.0->wandb) (1.26.6)\n",
      "Requirement already satisfied: idna<4,>=2.5 in /opt/conda/lib/python3.9/site-packages (from requests<3,>=2.0.0->wandb) (3.1)\n",
      "Requirement already satisfied: charset-normalizer~=2.0.0 in /opt/conda/lib/python3.9/site-packages (from requests<3,>=2.0.0->wandb) (2.0.0)\n",
      "/bin/bash: wandb: command not found\n"
     ]
    },
    {
     "name": "stderr",
     "output_type": "stream",
     "text": [
      "Failed to detect the name of this notebook, you can set it manually with the WANDB_NOTEBOOK_NAME environment variable to enable code saving.\n",
      "\u001b[34m\u001b[1mwandb\u001b[0m: Currently logged in as: \u001b[33mszddhant\u001b[0m. Use \u001b[1m`wandb login --relogin`\u001b[0m to force relogin\n"
     ]
    },
    {
     "data": {
      "text/html": [
       "Tracking run with wandb version 0.12.17"
      ],
      "text/plain": [
       "<IPython.core.display.HTML object>"
      ]
     },
     "metadata": {},
     "output_type": "display_data"
    },
    {
     "data": {
      "text/html": [
       "Run data is saved locally in <code>/home/ssaoji/228_Project/wandb/run-20220601_130051-36mfcqo1</code>"
      ],
      "text/plain": [
       "<IPython.core.display.HTML object>"
      ]
     },
     "metadata": {},
     "output_type": "display_data"
    },
    {
     "data": {
      "text/html": [
       "Syncing run <strong><a href=\"https://wandb.ai/szddhant/228-project/runs/36mfcqo1\" target=\"_blank\">scarlet-energy-22</a></strong> to <a href=\"https://wandb.ai/szddhant/228-project\" target=\"_blank\">Weights & Biases</a> (<a href=\"https://wandb.me/run\" target=\"_blank\">docs</a>)<br/>"
      ],
      "text/plain": [
       "<IPython.core.display.HTML object>"
      ]
     },
     "metadata": {},
     "output_type": "display_data"
    },
    {
     "name": "stdout",
     "output_type": "stream",
     "text": [
      "Wed Jun  1 13:00:55 2022       \r\n",
      "+-----------------------------------------------------------------------------+\r\n",
      "| NVIDIA-SMI 384.81                 Driver Version: 460.67                    |\r\n",
      "|-------------------------------+----------------------+----------------------+\r\n",
      "| GPU  Name        Persistence-M| Bus-Id        Disp.A | Volatile Uncorr. ECC |\r\n",
      "| Fan  Temp  Perf  Pwr:Usage/Cap|         Memory-Usage | GPU-Util  Compute M. |\r\n",
      "|===============================+======================+======================|\r\n",
      "|   0  GeForce RTX 208...  Off  | 00000000:61:00.0 Off |                  N/A |\r\n",
      "|  0%   41C    P8     1W / 260W |      0MiB / 11019MiB |      0%      Default |\r\n",
      "+-------------------------------+----------------------+----------------------+\r\n",
      "                                                                               \r\n",
      "+-----------------------------------------------------------------------------+\r\n",
      "| Processes:                                                       GPU Memory |\r\n",
      "|  GPU       PID   Type   Process name                             Usage      |\r\n",
      "|=============================================================================|\r\n",
      "Internal error\r\n"
     ]
    }
   ],
   "source": [
    "!pip install openpyxl\n",
    "\n",
    "!pip install wandb\n",
    "!wandb login\n",
    "import wandb\n",
    "\n",
    "wandb.init(project=\"228-project\", entity=\"szddhant\")\n",
    "!nvidia-smi"
   ]
  },
  {
   "cell_type": "markdown",
   "metadata": {},
   "source": [
    "## Dataloader"
   ]
  },
  {
   "cell_type": "code",
   "execution_count": 3,
   "metadata": {
    "colab": {
     "base_uri": "https://localhost:8080/"
    },
    "id": "VGoYgphv3gDA",
    "outputId": "aa9a7771-6dbd-4048-bec2-b608145f40a4"
   },
   "outputs": [
    {
     "name": "stdout",
     "output_type": "stream",
     "text": [
      "211\n"
     ]
    }
   ],
   "source": [
    "path = \"/home/ssaoji/228_Project/Aug_Seg/Augmented_Segmented_data/\"#Final_Augmented_Data/\" # path to augmented data\n",
    "folders = ['Scale']#['Flip','Rotate','Scale','Translation']\n",
    "for f in folders:\n",
    "  print(len(os.listdir(path+f)))"
   ]
  },
  {
   "cell_type": "code",
   "execution_count": 4,
   "metadata": {
    "id": "UFAFgfbp4-Oq"
   },
   "outputs": [],
   "source": [
    "class DataLoader():\n",
    "  def __init__(self) -> None:\n",
    "      self.path = \"/home/ssaoji/228_Project/Aug_Seg/Augmented_Segmented_data/\" # path to augmented data#\"/content/drive/MyDrive/Course_files/228/dataset_anemia/Final_Augmented_Data/\" # path to augmented data\n",
    "      self.folders = ['Flip','Rotate','Scale','Translation']\n",
    "      self.y_india = pd.read_excel(r'/home/ssaoji/228_Project/dataset_anemia/India/India.xlsx')#np.load(\"/content/drive/MyDrive/Course_files/228/dataset_anemia/y_india.npy\")\n",
    "      self.y_italy = pd.read_excel(r'/home/ssaoji/228_Project/dataset_anemia/Italy/Italy_copy.xlsx')#np.load(\"/content/drive/MyDrive/Course_files/228/dataset_anemia/y_base_italy.npy\")\n",
    "      # self.split = 1#0.5 #italy/india split\n",
    "      self.skip = 95 #Skip value in Italy (No value)\n",
    "      self.split = [0.8,0.1,0.1] #train,val,test\n",
    "  def sample(self,num,j):\n",
    "    # num_italy = int(num*self.split)\n",
    "    # num_india = num - num_italy\n",
    "    X = np.zeros((num,640,480,3))\n",
    "    Y = np.zeros(num)\n",
    "    seen =[]\n",
    "    for i in range(num):\n",
    "      f = np.random.randint(0,len(folders))\n",
    "      path = self.path+self.folders[f]\n",
    "      l = os.listdir(path)\n",
    "      if j ==0:\n",
    "        im_p = os.listdir(path)[0:int(len(l)*self.split[j])]\n",
    "      else:\n",
    "        im_p = os.listdir(path)[int(len(l)*self.split[j-1]):int(len(l)*self.split[j])]\n",
    "      image = random.choice(os.listdir(path))\n",
    "      name_list = image.replace(\".jpg\",\"\").split('_')\n",
    "      country = name_list[0]\n",
    "      id = int(name_list[1])\n",
    "      if country =='italy':\n",
    "        try:\n",
    "          s = d.y_italy[\"Number\"]==id\n",
    "          s[s==True].index[-1]\n",
    "          Y[i] = float(self.y_italy['Hgb'][s])/20\n",
    "        except:\n",
    "          continue\n",
    "      elif country =='india':\n",
    "        s = d.y_india[\"Number\"]==float(id)\n",
    "        s[s==True].index[-1]\n",
    "        Y[i] = float(self.y_india['Hgb'][s])/20\n",
    "#         temp =cv2.imread(path+'/' + image)\n",
    "#         X[i,:,:,:] = cv2.cvtColor(temp, cv2.COLOR_BGR2HSV)/255\n",
    "        img = cv2.imread(path+'/' + image)\n",
    "#         img_yuv = cv2.cvtColor(img, cv2.COLOR_BGR2YUV)\n",
    "#         # equalize the histogram of the Y channel\n",
    "#         img_yuv[:,:,0] = cv2.equalizeHist(img_yuv[:,:,0])\n",
    "#         # convert the YUV image back to RGB format\n",
    "#         img_output = cv2.cvtColor(img_yuv, cv2.COLOR_YUV2BGR)\n",
    "        X[i,:,:,:] =  img/255\n",
    "    X = np.array(X)\n",
    "    Y = np.array(Y)\n",
    "    return X,Y\n",
    "  def sample_v(self,num,j):\n",
    "    # num_italy = int(num*self.split)\n",
    "    # num_india = num - num_italy\n",
    "    X = np.zeros((num,640,480,3))\n",
    "    Y = np.zeros(num)\n",
    "    seen =[]\n",
    "    for i in range(num):\n",
    "      # f = np.random.randint(0,?len(folders))\n",
    "      path = self.path+\"Scale\"\n",
    "      l = os.listdir(path)\n",
    "      im_p = os.listdir(path)[int(len(l)*self.split[j-1]):int(len(l)*self.split[j])]\n",
    "      image = random.choice(os.listdir(path))\n",
    "      name_list = image.replace(\".jpg\",\"\").split('_')\n",
    "      country = name_list[0]\n",
    "      id = int(name_list[1])\n",
    "      if country =='italy':\n",
    "        try:\n",
    "          s = d.y_italy[\"Number\"]==id\n",
    "          s[s==True].index[-1]\n",
    "          Y[i] = float(self.y_italy['Hgb'][s])/20\n",
    "        except:\n",
    "          continue\n",
    "      elif country =='india':\n",
    "        s = d.y_india[\"Number\"]==float(id)\n",
    "        s[s==True].index[-1]\n",
    "        Y[i] = float(self.y_india['Hgb'][s])/20\n",
    "        temp =cv2.imread(path+'/' + image)\n",
    "# #         print(temp.shape)\n",
    "#         img_yuv = cv2.cvtColor(temp, cv2.COLOR_BGR2YUV)\n",
    "\n",
    "#         # equalize the histogram of the Y channel\n",
    "#         img_yuv[:,:,0] = cv2.equalizeHist(img_yuv[:,:,0])\n",
    "    \n",
    "#         # convert the YUV image back to RGB format\n",
    "#         temp = cv2.cvtColor(img_yuv, cv2.COLOR_YUV2BGR)\n",
    "        X[i,:,:,:] =  temp/255#cv2.cvtColor(temp, cv2.COLOR_BGR2HSV)/255\n",
    "\n",
    "#       cv::COLOR_BGR2Lab(temp)\n",
    "    X = np.array(X)\n",
    "    Y = np.array(Y)\n",
    "    return X,Y"
   ]
  },
  {
   "cell_type": "code",
   "execution_count": 5,
   "metadata": {
    "id": "s2ESCFB9Ega9"
   },
   "outputs": [
    {
     "name": "stdout",
     "output_type": "stream",
     "text": [
      "Defaulting to user installation because normal site-packages is not writeable\n",
      "Requirement already satisfied: openpyxl in /home/ssaoji/.local/lib/python3.9/site-packages (3.0.10)\n",
      "Requirement already satisfied: et-xmlfile in /home/ssaoji/.local/lib/python3.9/site-packages (from openpyxl) (1.1.0)\n"
     ]
    }
   ],
   "source": [
    "# s = d.y_italy[\"Number\"]==91\n",
    "# s[s==True].index[-1]\n",
    "d = DataLoader()\n",
    "# d.test()?"
   ]
  },
  {
   "cell_type": "code",
   "execution_count": 6,
   "metadata": {
    "id": "NXAFRpJh7Qqk"
   },
   "outputs": [],
   "source": [
    "# d = DataLoader()\n",
    "# z = 100\n",
    "# x,Y = d.sample(z,0)\n",
    "# X =np.zeros((z,3,640,480))\n",
    "# X[:,0,:,:] = x[:,:,:,0]\n",
    "# X[:,2,:,:] = x[:,:,:,1]\n",
    "# X[:,2,:,:] = x[:,:,:,2]\n",
    "# # # X.shape\n",
    "# # x.shape\n",
    "# # plt.imshow(x[0])"
   ]
  },
  {
   "cell_type": "code",
   "execution_count": 7,
   "metadata": {
    "id": "UeTyQPSLBlUQ"
   },
   "outputs": [],
   "source": [
    "import torch\n",
    "import torchvision\n",
    "import torchvision.transforms as transforms"
   ]
  },
  {
   "cell_type": "code",
   "execution_count": 8,
   "metadata": {
    "id": "Sx1hd3tM7fnu"
   },
   "outputs": [],
   "source": [
    "# train_split=0.9\n",
    "# val_split = 0.05\n",
    "# test_split = 1 - train_split - val_split\n",
    "# batch_size = 3\n",
    "# epochs = 10\n",
    "\n",
    "# X=X[:,:,:]\n",
    "# X_in = torch.tensor(X).float()\n",
    "# X_in.size()\n",
    "\n",
    "# y_in = torch.tensor(Y).float().unsqueeze(1)\n",
    "\n",
    "# print(X_in.shape, y_in.shape)"
   ]
  },
  {
   "cell_type": "markdown",
   "metadata": {
    "id": "pt991ldd-_Bj"
   },
   "source": [
    "## CNN model"
   ]
  },
  {
   "cell_type": "code",
   "execution_count": 9,
   "metadata": {
    "id": "5twZxZ_t_Tll"
   },
   "outputs": [],
   "source": [
    "import torch.nn as nn\n",
    "import torch.nn.functional as F\n",
    "\n",
    "\n",
    "class Net(nn.Module):\n",
    "    def __init__(self):\n",
    "        super().__init__()\n",
    "        self.conv1 = nn.Conv2d(3, 16, 5)\n",
    "        self.pool = nn.MaxPool2d(2, 2)\n",
    "        self.conv2 = nn.Conv2d(16, 16, 5)\n",
    "        self.fc1 = nn.Linear(293904, 120)\n",
    "        self.fc2 = nn.Linear(120, 84)\n",
    "        self.fc3 = nn.Linear(84, 1)\n",
    "        self.relu = nn.LeakyReLU()\n",
    "        self.sigmoid = nn.Sigmoid()\n",
    "        self.dropout = nn.Dropout(0.25)\n",
    "\n",
    "\n",
    "    def forward(self, x):\n",
    "        x = self.pool(self.relu(self.conv1(x)))\n",
    "        x = self.pool(self.relu(self.conv2(x)))\n",
    "        x = torch.flatten(x, 1) # flatten all dimensions except batch\n",
    "        x = self.relu(self.fc1(x))\n",
    "        x = self.dropout(x)\n",
    "        x = self.relu(self.fc2(x))\n",
    "        x = self.dropout(x)\n",
    "        x = self.sigmoid(self.fc3(x))\n",
    "        # x = self.fc3(x)\n",
    "        return x\n",
    "\n",
    "net = Net()\n",
    "net = net.cuda()"
   ]
  },
  {
   "cell_type": "markdown",
   "metadata": {},
   "source": [
    "## Model Training"
   ]
  },
  {
   "cell_type": "code",
   "execution_count": 10,
   "metadata": {
    "colab": {
     "base_uri": "https://localhost:8080/"
    },
    "id": "O9nlLReTA-jE",
    "outputId": "20c10c12-8ce9-4f16-a8e4-f4cae6fb27a0"
   },
   "outputs": [
    {
     "name": "stdout",
     "output_type": "stream",
     "text": [
      "cuda:0\n"
     ]
    }
   ],
   "source": [
    "import torch.optim as optim\n",
    "# check GPU availability\n",
    "device = torch.device(\"cuda:0\" if torch.cuda.is_available() else \"cpu\")\n",
    "print(device)"
   ]
  },
  {
   "cell_type": "code",
   "execution_count": 11,
   "metadata": {
    "id": "wGLjJaLXBFxC"
   },
   "outputs": [],
   "source": [
    "criterion = nn.MSELoss()\n",
    "criterion = criterion.cuda()\n",
    "# optimizer = optim.SGD(net.parameters(), lr=0.01, momentum=0.9)\n",
    "optimizer = optim.Adam(net.parameters(), lr=0.001)\n",
    "scheduler = optim.lr_scheduler.StepLR(optimizer, step_size=2, gamma=0.9)"
   ]
  },
  {
   "cell_type": "code",
   "execution_count": 12,
   "metadata": {
    "colab": {
     "base_uri": "https://localhost:8080/"
    },
    "id": "YnZ-tGKBBLAj",
    "outputId": "78189276-1987-4734-b9f0-13120d52abdc"
   },
   "outputs": [
    {
     "name": "stderr",
     "output_type": "stream",
     "text": [
      "  0%|          | 0/20 [00:00<?, ?it/s]/opt/conda/lib/python3.9/site-packages/torch/nn/functional.py:718: UserWarning: Named tensors and all their associated APIs are an experimental feature and subject to change. Please do not use them for anything important until they are released as stable. (Triggered internally at  /pytorch/c10/core/TensorImpl.h:1156.)\n",
      "  return torch.max_pool2d(input, kernel_size, stride, padding, dilation, ceil_mode)\n",
      "  5%|▌         | 1/20 [00:25<08:09, 25.75s/it]"
     ]
    },
    {
     "name": "stdout",
     "output_type": "stream",
     "text": [
      "tensor([[0.6593],\n",
      "        [0.6920],\n",
      "        [0.6878],\n",
      "        [0.7038],\n",
      "        [0.6656],\n",
      "        [0.6480],\n",
      "        [0.6370],\n",
      "        [0.5932],\n",
      "        [0.6376],\n",
      "        [0.6103]], device='cuda:0')\n"
     ]
    },
    {
     "name": "stderr",
     "output_type": "stream",
     "text": [
      " 10%|█         | 2/20 [00:54<08:12, 27.36s/it]"
     ]
    },
    {
     "name": "stdout",
     "output_type": "stream",
     "text": [
      "tensor([[0.6518],\n",
      "        [0.6232],\n",
      "        [0.6347],\n",
      "        [0.5839],\n",
      "        [0.7510],\n",
      "        [0.5148],\n",
      "        [0.5727],\n",
      "        [0.6868],\n",
      "        [0.5810],\n",
      "        [0.6684]], device='cuda:0')\n"
     ]
    },
    {
     "name": "stderr",
     "output_type": "stream",
     "text": [
      " 15%|█▌        | 3/20 [01:21<07:44, 27.33s/it]"
     ]
    },
    {
     "name": "stdout",
     "output_type": "stream",
     "text": [
      "tensor([[0.6885],\n",
      "        [0.6532],\n",
      "        [0.7409],\n",
      "        [0.6462],\n",
      "        [0.7139],\n",
      "        [0.6090],\n",
      "        [0.5523],\n",
      "        [0.7585],\n",
      "        [0.6067],\n",
      "        [0.7017]], device='cuda:0')\n"
     ]
    },
    {
     "name": "stderr",
     "output_type": "stream",
     "text": [
      " 20%|██        | 4/20 [01:49<07:20, 27.54s/it]"
     ]
    },
    {
     "name": "stdout",
     "output_type": "stream",
     "text": [
      "tensor([[0.7463],\n",
      "        [0.6172],\n",
      "        [0.6234],\n",
      "        [0.6895],\n",
      "        [0.7120],\n",
      "        [0.6520],\n",
      "        [0.5796],\n",
      "        [0.7101],\n",
      "        [0.6259],\n",
      "        [0.6360]], device='cuda:0')\n"
     ]
    },
    {
     "name": "stderr",
     "output_type": "stream",
     "text": [
      " 25%|██▌       | 5/20 [02:16<06:49, 27.28s/it]"
     ]
    },
    {
     "name": "stdout",
     "output_type": "stream",
     "text": [
      "tensor([[0.5958],\n",
      "        [0.6562],\n",
      "        [0.6357],\n",
      "        [0.5849],\n",
      "        [0.6219],\n",
      "        [0.6543],\n",
      "        [0.5544],\n",
      "        [0.6446],\n",
      "        [0.5690],\n",
      "        [0.6387]], device='cuda:0')\n"
     ]
    },
    {
     "name": "stderr",
     "output_type": "stream",
     "text": [
      " 30%|███       | 6/20 [02:43<06:22, 27.31s/it]"
     ]
    },
    {
     "name": "stdout",
     "output_type": "stream",
     "text": [
      "tensor([[0.6600],\n",
      "        [0.6460],\n",
      "        [0.7014],\n",
      "        [0.6450],\n",
      "        [0.6658],\n",
      "        [0.5946],\n",
      "        [0.5511],\n",
      "        [0.6615],\n",
      "        [0.6116],\n",
      "        [0.6370]], device='cuda:0')\n"
     ]
    },
    {
     "name": "stderr",
     "output_type": "stream",
     "text": [
      " 35%|███▌      | 7/20 [03:10<05:54, 27.27s/it]"
     ]
    },
    {
     "name": "stdout",
     "output_type": "stream",
     "text": [
      "tensor([[0.6240],\n",
      "        [0.6646],\n",
      "        [0.7046],\n",
      "        [0.6344],\n",
      "        [0.6218],\n",
      "        [0.6781],\n",
      "        [0.5966],\n",
      "        [0.6809],\n",
      "        [0.6219],\n",
      "        [0.7018]], device='cuda:0')\n"
     ]
    },
    {
     "name": "stderr",
     "output_type": "stream",
     "text": [
      " 40%|████      | 8/20 [03:36<05:23, 26.93s/it]"
     ]
    },
    {
     "name": "stdout",
     "output_type": "stream",
     "text": [
      "tensor([[0.6457],\n",
      "        [0.6769],\n",
      "        [0.6239],\n",
      "        [0.6003],\n",
      "        [0.7015],\n",
      "        [0.6316],\n",
      "        [0.5968],\n",
      "        [0.7433],\n",
      "        [0.6038],\n",
      "        [0.7640]], device='cuda:0')\n"
     ]
    },
    {
     "name": "stderr",
     "output_type": "stream",
     "text": [
      " 45%|████▌     | 9/20 [04:04<04:59, 27.24s/it]"
     ]
    },
    {
     "name": "stdout",
     "output_type": "stream",
     "text": [
      "tensor([[0.7024],\n",
      "        [0.6160],\n",
      "        [0.6694],\n",
      "        [0.6648],\n",
      "        [0.7128],\n",
      "        [0.6186],\n",
      "        [0.5127],\n",
      "        [0.6938],\n",
      "        [0.5824],\n",
      "        [0.6749]], device='cuda:0')\n"
     ]
    },
    {
     "name": "stderr",
     "output_type": "stream",
     "text": [
      " 50%|█████     | 10/20 [04:30<04:26, 26.65s/it]"
     ]
    },
    {
     "name": "stdout",
     "output_type": "stream",
     "text": [
      "tensor([[0.6801],\n",
      "        [0.6733],\n",
      "        [0.6955],\n",
      "        [0.6592],\n",
      "        [0.6796],\n",
      "        [0.6836],\n",
      "        [0.6109],\n",
      "        [0.7182],\n",
      "        [0.6398],\n",
      "        [0.7094]], device='cuda:0')\n"
     ]
    },
    {
     "name": "stderr",
     "output_type": "stream",
     "text": [
      " 55%|█████▌    | 11/20 [04:56<03:58, 26.55s/it]"
     ]
    },
    {
     "name": "stdout",
     "output_type": "stream",
     "text": [
      "tensor([[0.6527],\n",
      "        [0.6190],\n",
      "        [0.6522],\n",
      "        [0.6337],\n",
      "        [0.7181],\n",
      "        [0.6025],\n",
      "        [0.5495],\n",
      "        [0.7273],\n",
      "        [0.5764],\n",
      "        [0.6539]], device='cuda:0')\n"
     ]
    },
    {
     "name": "stderr",
     "output_type": "stream",
     "text": [
      " 60%|██████    | 12/20 [05:22<03:30, 26.28s/it]"
     ]
    },
    {
     "name": "stdout",
     "output_type": "stream",
     "text": [
      "tensor([[0.7452],\n",
      "        [0.6296],\n",
      "        [0.6823],\n",
      "        [0.6395],\n",
      "        [0.7205],\n",
      "        [0.6809],\n",
      "        [0.6254],\n",
      "        [0.7041],\n",
      "        [0.6370],\n",
      "        [0.6880]], device='cuda:0')\n"
     ]
    },
    {
     "name": "stderr",
     "output_type": "stream",
     "text": [
      " 65%|██████▌   | 13/20 [05:47<03:01, 25.96s/it]"
     ]
    },
    {
     "name": "stdout",
     "output_type": "stream",
     "text": [
      "tensor([[0.6582],\n",
      "        [0.6511],\n",
      "        [0.6640],\n",
      "        [0.6152],\n",
      "        [0.7480],\n",
      "        [0.6917],\n",
      "        [0.6093],\n",
      "        [0.6200],\n",
      "        [0.6502],\n",
      "        [0.6959]], device='cuda:0')\n"
     ]
    },
    {
     "name": "stderr",
     "output_type": "stream",
     "text": [
      " 70%|███████   | 14/20 [06:14<02:37, 26.23s/it]"
     ]
    },
    {
     "name": "stdout",
     "output_type": "stream",
     "text": [
      "tensor([[0.6596],\n",
      "        [0.6502],\n",
      "        [0.6655],\n",
      "        [0.6578],\n",
      "        [0.6664],\n",
      "        [0.6710],\n",
      "        [0.6281],\n",
      "        [0.6422],\n",
      "        [0.7113],\n",
      "        [0.6486]], device='cuda:0')\n"
     ]
    },
    {
     "name": "stderr",
     "output_type": "stream",
     "text": [
      " 75%|███████▌  | 15/20 [06:40<02:11, 26.26s/it]"
     ]
    },
    {
     "name": "stdout",
     "output_type": "stream",
     "text": [
      "tensor([[0.6761],\n",
      "        [0.6191],\n",
      "        [0.6944],\n",
      "        [0.6579],\n",
      "        [0.6707],\n",
      "        [0.6499],\n",
      "        [0.5837],\n",
      "        [0.6434],\n",
      "        [0.6515],\n",
      "        [0.6760]], device='cuda:0')\n"
     ]
    },
    {
     "name": "stderr",
     "output_type": "stream",
     "text": [
      " 80%|████████  | 16/20 [07:07<01:46, 26.57s/it]"
     ]
    },
    {
     "name": "stdout",
     "output_type": "stream",
     "text": [
      "tensor([[0.7163],\n",
      "        [0.5704],\n",
      "        [0.6503],\n",
      "        [0.6858],\n",
      "        [0.6522],\n",
      "        [0.6895],\n",
      "        [0.6328],\n",
      "        [0.6473],\n",
      "        [0.7014],\n",
      "        [0.7218]], device='cuda:0')\n"
     ]
    },
    {
     "name": "stderr",
     "output_type": "stream",
     "text": [
      " 85%|████████▌ | 17/20 [07:33<01:18, 26.22s/it]"
     ]
    },
    {
     "name": "stdout",
     "output_type": "stream",
     "text": [
      "tensor([[0.7026],\n",
      "        [0.6139],\n",
      "        [0.6867],\n",
      "        [0.7017],\n",
      "        [0.6520],\n",
      "        [0.7236],\n",
      "        [0.6670],\n",
      "        [0.6789],\n",
      "        [0.6417],\n",
      "        [0.6571]], device='cuda:0')\n"
     ]
    },
    {
     "name": "stderr",
     "output_type": "stream",
     "text": [
      " 90%|█████████ | 18/20 [07:59<00:52, 26.25s/it]"
     ]
    },
    {
     "name": "stdout",
     "output_type": "stream",
     "text": [
      "tensor([[0.6803],\n",
      "        [0.6668],\n",
      "        [0.6951],\n",
      "        [0.6662],\n",
      "        [0.6647],\n",
      "        [0.6969],\n",
      "        [0.6436],\n",
      "        [0.6754],\n",
      "        [0.7038],\n",
      "        [0.7068]], device='cuda:0')\n"
     ]
    },
    {
     "name": "stderr",
     "output_type": "stream",
     "text": [
      " 95%|█████████▌| 19/20 [08:24<00:25, 25.85s/it]"
     ]
    },
    {
     "name": "stdout",
     "output_type": "stream",
     "text": [
      "tensor([[0.6901],\n",
      "        [0.6413],\n",
      "        [0.7152],\n",
      "        [0.6460],\n",
      "        [0.6446],\n",
      "        [0.7547],\n",
      "        [0.6026],\n",
      "        [0.6850],\n",
      "        [0.6779],\n",
      "        [0.7041]], device='cuda:0')\n"
     ]
    },
    {
     "name": "stderr",
     "output_type": "stream",
     "text": [
      "100%|██████████| 20/20 [08:49<00:00, 26.46s/it]"
     ]
    },
    {
     "name": "stdout",
     "output_type": "stream",
     "text": [
      "tensor([[0.6981],\n",
      "        [0.6847],\n",
      "        [0.6694],\n",
      "        [0.6773],\n",
      "        [0.6514],\n",
      "        [0.6896],\n",
      "        [0.6144],\n",
      "        [0.7036],\n",
      "        [0.6915],\n",
      "        [0.6612]], device='cuda:0')\n"
     ]
    },
    {
     "name": "stderr",
     "output_type": "stream",
     "text": [
      "\n"
     ]
    }
   ],
   "source": [
    "batch_size = 100\n",
    "epochs = 20\n",
    "batches = 10\n",
    "wandb.config = {\n",
    "  \"learning_rate\": 0.001,\n",
    "  \"epochs\": epochs,\n",
    "  \"batch_size\": batch_size,\n",
    "  \"batches\" : batches\n",
    "}\n",
    "\n",
    "\n",
    "d = DataLoader()\n",
    "x,Y = d.sample_v(10,1)\n",
    "X =np.zeros((10,3,640,480))\n",
    "X[:,0,:,:] = x[:,:,:,0]\n",
    "X[:,1,:,:] = x[:,:,:,1]\n",
    "X[:,2,:,:] = x[:,:,:,2]\n",
    "y_val = torch.tensor(Y).float().unsqueeze(1).to(device)\n",
    "X_val = torch.tensor(X).float().to(device)\n",
    "\n",
    "for epoch in tqdm(range(epochs)):  # loop over the dataset multiple times\n",
    "    running_loss = 0.0\n",
    "    validation_loss = 0.0\n",
    "    # iters = (len(X_train)//batch_size)+1\n",
    "    for i in range(batches):\n",
    "      x,Y = d.sample(batch_size,0)\n",
    "      X =np.zeros((batch_size,3,640,480))\n",
    "      X[:,0,:,:] = x[:,:,:,0]\n",
    "      X[:,1,:,:] = x[:,:,:,1]\n",
    "      X[:,2,:,:] = x[:,:,:,2]\n",
    "      X=X[:,:,:]\n",
    "      inputs = torch.tensor(X).float().to(device)\n",
    "      labels = torch.tensor(Y).float().unsqueeze(1).to(device)\n",
    "      optimizer.zero_grad()\n",
    "\n",
    "      # forward + backward + optimize\n",
    "      outputs = net(inputs)\n",
    "      loss = criterion(outputs, labels)\n",
    "      loss.backward()\n",
    "      optimizer.step()\n",
    "      \n",
    "      # print statistics\n",
    "      running_loss += loss.item()\n",
    "        \n",
    "    with torch.no_grad():\n",
    "      y_pred_val = net(X_val)\n",
    "      print(y_pred_val)\n",
    "      val_loss = criterion(y_pred_val, y_val)\n",
    "#       val_loss20 = criterion(y_pred_val*20, y_val*20)\n",
    "      validation_loss += val_loss.item()    \n",
    "      wandb.log({\"loss\": running_loss/batches,\"loss_scaled\": 400*(running_loss/batches),\"val_loss\":val_loss,\"val_loss_scaled\":val_loss*400})\n",
    "      wandb.watch(net)\n",
    "\n",
    "\n",
    "#       print(f'[{epoch + 1}] loss: {running_loss :.9f}, val_loss: {val_loss.item():.3f}, val_loss20: {val_loss20.item():.3f}')\n",
    "        # running_loss = 0.0\n",
    "        # validation_loss = 0.0\n",
    "      scheduler.step()"
   ]
  },
  {
   "cell_type": "code",
   "execution_count": 18,
   "metadata": {},
   "outputs": [
    {
     "name": "stdout",
     "output_type": "stream",
     "text": [
      "tensor([[13.3513],\n",
      "        [12.7423],\n",
      "        [13.1603],\n",
      "        [12.3455],\n",
      "        [13.6965],\n",
      "        [14.4038],\n",
      "        [12.2098],\n",
      "        [14.2865],\n",
      "        [13.4996],\n",
      "        [13.4088]], device='cuda:0')\n",
      "tensor([[15.4000],\n",
      "        [13.0000],\n",
      "        [15.5000],\n",
      "        [12.9000],\n",
      "        [13.5000],\n",
      "        [12.2000],\n",
      "        [ 9.2000],\n",
      "        [14.7000],\n",
      "        [15.5000],\n",
      "        [15.1000]], device='cuda:0')\n"
     ]
    }
   ],
   "source": [
    "with torch.no_grad():\n",
    "    print(net(X_val)*20)\n",
    "print(y_val*20)"
   ]
  },
  {
   "cell_type": "code",
   "execution_count": null,
   "metadata": {
    "id": "p-mx1EJjM1Ol"
   },
   "outputs": [],
   "source": []
  },
  {
   "cell_type": "code",
   "execution_count": null,
   "metadata": {
    "id": "GchDXRkHUrNd"
   },
   "outputs": [],
   "source": []
  },
  {
   "cell_type": "code",
   "execution_count": null,
   "metadata": {
    "id": "fnJ_46I31r9-"
   },
   "outputs": [],
   "source": []
  }
 ],
 "metadata": {
  "accelerator": "GPU",
  "colab": {
   "name": "data_loader.ipynb",
   "provenance": []
  },
  "interpreter": {
   "hash": "bf658181bf53a4bb900e3130d33239a49a3d8bc6d5119a0639656e60970d3f9f"
  },
  "kernelspec": {
   "display_name": "Python 3 (ipykernel)",
   "language": "python",
   "name": "python3"
  },
  "language_info": {
   "codemirror_mode": {
    "name": "ipython",
    "version": 3
   },
   "file_extension": ".py",
   "mimetype": "text/x-python",
   "name": "python",
   "nbconvert_exporter": "python",
   "pygments_lexer": "ipython3",
   "version": "3.9.7"
  }
 },
 "nbformat": 4,
 "nbformat_minor": 1
}
