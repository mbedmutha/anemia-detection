{
 "cells": [
  {
   "cell_type": "markdown",
   "metadata": {},
   "source": [
    "# Data Visualization\n",
    "\n",
    "This notebook walks through akk the visualization and analysis\n",
    "\n",
    "## Imports"
   ]
  },
  {
   "cell_type": "code",
   "execution_count": null,
   "metadata": {
    "colab": {
     "base_uri": "https://localhost:8080/"
    },
    "executionInfo": {
     "elapsed": 18987,
     "status": "ok",
     "timestamp": 1654068274834,
     "user": {
      "displayName": "Jainish Chauhan",
      "userId": "04715573827778009519"
     },
     "user_tz": 420
    },
    "id": "8DqOw6Yuv2Tq",
    "outputId": "31f96c57-b61c-4b60-c840-693d4947c72a"
   },
   "outputs": [],
   "source": [
    "from google.colab import drive\n",
    "drive.mount('/content/drive')"
   ]
  },
  {
   "cell_type": "code",
   "execution_count": null,
   "metadata": {
    "executionInfo": {
     "elapsed": 916,
     "status": "ok",
     "timestamp": 1654068278737,
     "user": {
      "displayName": "Jainish Chauhan",
      "userId": "04715573827778009519"
     },
     "user_tz": 420
    },
    "id": "khvt4OxUbvm3"
   },
   "outputs": [],
   "source": [
    "from matplotlib import pyplot as plt\n",
    "import cv2\n",
    "import numpy as np\n",
    "import pandas as pd\n",
    "from tqdm import tqdm\n",
    "import numpy as np"
   ]
  },
  {
   "cell_type": "markdown",
   "metadata": {},
   "source": [
    "## Load Data"
   ]
  },
  {
   "cell_type": "code",
   "execution_count": null,
   "metadata": {
    "executionInfo": {
     "elapsed": 3958,
     "status": "ok",
     "timestamp": 1654068282691,
     "user": {
      "displayName": "Jainish Chauhan",
      "userId": "04715573827778009519"
     },
     "user_tz": 420
    },
    "id": "CmeGM7YabznO"
   },
   "outputs": [],
   "source": [
    "a = pd.read_excel('/content/drive/MyDrive/Project/dataset_anemia/India/India.xlsx', index_col=0, dtype={'Hgb': float, 'Gender': str,'Age': float})  \n",
    "df = pd.DataFrame(data=a)\n",
    "b = pd.read_excel('/content/drive/MyDrive/Project/TRIAL/Italy_new.xlsx', index_col=0, dtype={'Hgb': float, 'Gender': str,'Age': float})  \n",
    "df2 = pd.DataFrame(data=b)\n",
    "data = pd.concat([df,df2])"
   ]
  },
  {
   "cell_type": "code",
   "execution_count": null,
   "metadata": {
    "colab": {
     "base_uri": "https://localhost:8080/",
     "height": 450
    },
    "executionInfo": {
     "elapsed": 22,
     "status": "ok",
     "timestamp": 1654068282699,
     "user": {
      "displayName": "Jainish Chauhan",
      "userId": "04715573827778009519"
     },
     "user_tz": 420
    },
    "id": "juBGxz0gGbzV",
    "outputId": "9d6ce4cf-df92-4414-afdd-2bca3c47c06a"
   },
   "outputs": [],
   "source": [
    "df"
   ]
  },
  {
   "cell_type": "code",
   "execution_count": null,
   "metadata": {
    "colab": {
     "base_uri": "https://localhost:8080/"
    },
    "executionInfo": {
     "elapsed": 18,
     "status": "ok",
     "timestamp": 1654068282699,
     "user": {
      "displayName": "Jainish Chauhan",
      "userId": "04715573827778009519"
     },
     "user_tz": 420
    },
    "id": "N1MMfinTF1pA",
    "outputId": "9e80e27e-b948-4cfe-dcdb-f32bb21a0f54"
   },
   "outputs": [],
   "source": [
    "df2.shape\n",
    "print(df2)"
   ]
  },
  {
   "cell_type": "code",
   "execution_count": null,
   "metadata": {
    "colab": {
     "base_uri": "https://localhost:8080/",
     "height": 450
    },
    "executionInfo": {
     "elapsed": 13,
     "status": "ok",
     "timestamp": 1654068282700,
     "user": {
      "displayName": "Jainish Chauhan",
      "userId": "04715573827778009519"
     },
     "user_tz": 420
    },
    "id": "RXXvXkGSGf6i",
    "outputId": "7d426641-034e-438e-e198-ab3a08176b5b"
   },
   "outputs": [],
   "source": [
    "data"
   ]
  },
  {
   "cell_type": "markdown",
   "metadata": {},
   "source": [
    "## Analysis"
   ]
  },
  {
   "cell_type": "code",
   "execution_count": null,
   "metadata": {
    "colab": {
     "base_uri": "https://localhost:8080/",
     "height": 111
    },
    "executionInfo": {
     "elapsed": 178,
     "status": "ok",
     "timestamp": 1654068285403,
     "user": {
      "displayName": "Jainish Chauhan",
      "userId": "04715573827778009519"
     },
     "user_tz": 420
    },
    "id": "YhPTnDOUFMre",
    "outputId": "e5de8f2f-0a6d-4ebd-a0ae-9e8b2edc3026"
   },
   "outputs": [],
   "source": [
    "data[data['Hgb']==0]"
   ]
  },
  {
   "cell_type": "code",
   "execution_count": null,
   "metadata": {
    "executionInfo": {
     "elapsed": 2,
     "status": "ok",
     "timestamp": 1654068286069,
     "user": {
      "displayName": "Jainish Chauhan",
      "userId": "04715573827778009519"
     },
     "user_tz": 420
    },
    "id": "_5_qetT_IoBq"
   },
   "outputs": [],
   "source": [
    "data = data.drop([93])"
   ]
  },
  {
   "cell_type": "code",
   "execution_count": null,
   "metadata": {
    "colab": {
     "base_uri": "https://localhost:8080/",
     "height": 80
    },
    "executionInfo": {
     "elapsed": 9,
     "status": "ok",
     "timestamp": 1654068286235,
     "user": {
      "displayName": "Jainish Chauhan",
      "userId": "04715573827778009519"
     },
     "user_tz": 420
    },
    "id": "7KBO_FKMI6gd",
    "outputId": "436f9fe1-5336-46e6-897e-f70dfc4237e4"
   },
   "outputs": [],
   "source": [
    "data[data['Hgb']==0]"
   ]
  },
  {
   "cell_type": "code",
   "execution_count": null,
   "metadata": {
    "colab": {
     "base_uri": "https://localhost:8080/",
     "height": 297
    },
    "executionInfo": {
     "elapsed": 575,
     "status": "ok",
     "timestamp": 1654068290431,
     "user": {
      "displayName": "Jainish Chauhan",
      "userId": "04715573827778009519"
     },
     "user_tz": 420
    },
    "id": "dhgH5bNfctCv",
    "outputId": "60ff6e46-2a78-4164-af94-f901f7f5cb61"
   },
   "outputs": [],
   "source": [
    "fig, (ax1,ax2) = plt.subplots(1,2, figsize=(10,4))  # 1 row, 2 columns\n",
    "df[\"Hgb\"].hist(ax=ax1)\n",
    "df2[\"Hgb\"].hist(ax=ax2)\n",
    "\n",
    "ax1.set_title(\"Hb level Histogram: India\")\n",
    "ax2.set_title(\"Italy\")\n",
    "plt.tight_layout()"
   ]
  },
  {
   "cell_type": "code",
   "execution_count": null,
   "metadata": {
    "colab": {
     "base_uri": "https://localhost:8080/",
     "height": 542
    },
    "executionInfo": {
     "elapsed": 294,
     "status": "ok",
     "timestamp": 1654068584048,
     "user": {
      "displayName": "Jainish Chauhan",
      "userId": "04715573827778009519"
     },
     "user_tz": 420
    },
    "id": "Y8OFHBc8KDtv",
    "outputId": "320bdb79-5bd2-4f81-9dc5-ff40debc2c62"
   },
   "outputs": [],
   "source": [
    "import plotly.express as px\n",
    "\n",
    "fig = px.histogram(data, x=\"Hgb\", title='Hgb Level Histogram')\n",
    "fig.show()"
   ]
  },
  {
   "cell_type": "code",
   "execution_count": null,
   "metadata": {
    "colab": {
     "base_uri": "https://localhost:8080/",
     "height": 297
    },
    "executionInfo": {
     "elapsed": 476,
     "status": "ok",
     "timestamp": 1654068294064,
     "user": {
      "displayName": "Jainish Chauhan",
      "userId": "04715573827778009519"
     },
     "user_tz": 420
    },
    "id": "Isji8W_jD7_m",
    "outputId": "9c38f9ba-b6bf-492f-f2bc-73c772cbb9f3"
   },
   "outputs": [],
   "source": [
    "#fig, (ax1,ax2) = plt.subplots(1,2, figsize=(10,4))  # 1 row, 2 columns\n",
    "data[\"Hgb\"].hist()\n",
    "plt.title(\"Hgb level Histogram\")\n",
    "plt.xlabel(\"Hgb level\")\n",
    "plt.ylabel(\"No. of samples\")\n",
    "plt.tight_layout()"
   ]
  },
  {
   "cell_type": "code",
   "execution_count": null,
   "metadata": {
    "colab": {
     "base_uri": "https://localhost:8080/",
     "height": 297
    },
    "executionInfo": {
     "elapsed": 914,
     "status": "ok",
     "timestamp": 1651792448708,
     "user": {
      "displayName": "Siddhant Saoji",
      "userId": "08768881672515074167"
     },
     "user_tz": 420
    },
    "id": "b9oPZZybdJAs",
    "outputId": "8b20fb1d-903e-4835-b060-0fdae32aa2fa"
   },
   "outputs": [],
   "source": [
    "fig, (ax1,ax2) = plt.subplots(1,2, figsize=(10,4))  # 1 row, 2 columns\n",
    "df[\"Gender\"].hist(ax=ax1)\n",
    "df2[\"Gender\"].hist(ax=ax2)\n",
    "plt.tight_layout()"
   ]
  },
  {
   "cell_type": "code",
   "execution_count": null,
   "metadata": {
    "colab": {
     "base_uri": "https://localhost:8080/",
     "height": 542
    },
    "executionInfo": {
     "elapsed": 153,
     "status": "ok",
     "timestamp": 1654068665939,
     "user": {
      "displayName": "Jainish Chauhan",
      "userId": "04715573827778009519"
     },
     "user_tz": 420
    },
    "id": "j4qKhAYUK_8e",
    "outputId": "85194a99-ae92-47ed-cfd4-ba1a87711782"
   },
   "outputs": [],
   "source": [
    "fig = px.histogram(data, x=\"Gender\", title='Gender Statistics')\n",
    "fig.show()"
   ]
  },
  {
   "cell_type": "code",
   "execution_count": null,
   "metadata": {
    "colab": {
     "base_uri": "https://localhost:8080/",
     "height": 312
    },
    "executionInfo": {
     "elapsed": 689,
     "status": "ok",
     "timestamp": 1652141740896,
     "user": {
      "displayName": "Jainish Chauhan",
      "userId": "04715573827778009519"
     },
     "user_tz": 420
    },
    "id": "RiCDdiHaJKPe",
    "outputId": "9792a045-0732-418d-de51-0a1b85a38284"
   },
   "outputs": [],
   "source": [
    "#fig, (ax1,ax2) = plt.subplots(1,2, figsize=(10,4))  # 1 row, 2 columns\n",
    "data[\"Gender\"].hist()\n",
    "plt.title(\"Gender Statistics\")\n",
    "plt.xlabel(\"Gender\")\n",
    "plt.ylabel(\"No. of samples\")\n",
    "plt.tight_layout()"
   ]
  },
  {
   "cell_type": "code",
   "execution_count": null,
   "metadata": {
    "colab": {
     "base_uri": "https://localhost:8080/",
     "height": 297
    },
    "executionInfo": {
     "elapsed": 902,
     "status": "ok",
     "timestamp": 1651792475347,
     "user": {
      "displayName": "Siddhant Saoji",
      "userId": "08768881672515074167"
     },
     "user_tz": 420
    },
    "id": "4Qmm5TwIdwlZ",
    "outputId": "e7e8361f-d70d-4fcd-f33f-c57e7811687c"
   },
   "outputs": [],
   "source": [
    "fig, (ax1,ax2) = plt.subplots(1,2, figsize=(10,4))  # 1 row, 2 columns\n",
    "df[\"Age\"].hist(ax=ax1)\n",
    "df2[\"Age\"].hist(ax=ax2)\n",
    "plt.tight_layout()"
   ]
  },
  {
   "cell_type": "code",
   "execution_count": null,
   "metadata": {
    "colab": {
     "base_uri": "https://localhost:8080/",
     "height": 542
    },
    "executionInfo": {
     "elapsed": 389,
     "status": "ok",
     "timestamp": 1654070059393,
     "user": {
      "displayName": "Jainish Chauhan",
      "userId": "04715573827778009519"
     },
     "user_tz": 420
    },
    "id": "2sW7jjqiQgmB",
    "outputId": "39473c0e-aa24-4336-9a54-a35ad6bc4875"
   },
   "outputs": [],
   "source": [
    "fig = px.histogram(data, x=\"Age\", title='Age Statistics')\n",
    "fig.show()"
   ]
  },
  {
   "cell_type": "code",
   "execution_count": null,
   "metadata": {
    "colab": {
     "base_uri": "https://localhost:8080/",
     "height": 297
    },
    "executionInfo": {
     "elapsed": 663,
     "status": "ok",
     "timestamp": 1652139233223,
     "user": {
      "displayName": "Jainish Chauhan",
      "userId": "04715573827778009519"
     },
     "user_tz": 420
    },
    "id": "EZ-57HL3JjGG",
    "outputId": "484c4ad0-a445-428e-8b7a-533fca7a4e34"
   },
   "outputs": [],
   "source": [
    "data[\"Age\"].hist()\n",
    "plt.title(\"Age Statistics\")\n",
    "plt.xlabel(\"Age\")\n",
    "plt.ylabel(\"No. of samples\")\n",
    "plt.tight_layout()"
   ]
  },
  {
   "cell_type": "code",
   "execution_count": null,
   "metadata": {
    "colab": {
     "base_uri": "https://localhost:8080/",
     "height": 542
    },
    "executionInfo": {
     "elapsed": 254,
     "status": "ok",
     "timestamp": 1654070207339,
     "user": {
      "displayName": "Jainish Chauhan",
      "userId": "04715573827778009519"
     },
     "user_tz": 420
    },
    "id": "WldDJn0LQnZV",
    "outputId": "7c360b56-398a-4894-dcf4-92775df24804"
   },
   "outputs": [],
   "source": [
    "Age = data['Age'].astype(np.float32)\n",
    "Hgb = data['Hgb'].astype(np.float32)\n",
    "fig = px.scatter(Age, Hgb,title=\"Hemoglobin level as a function of Age\")\n",
    "fig.show()"
   ]
  },
  {
   "cell_type": "code",
   "execution_count": null,
   "metadata": {
    "colab": {
     "base_uri": "https://localhost:8080/",
     "height": 296
    },
    "executionInfo": {
     "elapsed": 493,
     "status": "ok",
     "timestamp": 1651796657121,
     "user": {
      "displayName": "Jainish Chauhan",
      "userId": "04715573827778009519"
     },
     "user_tz": 420
    },
    "id": "oKScI1jMvVu1",
    "outputId": "1cb2f4c3-aede-4c74-aad8-8c90f115588a"
   },
   "outputs": [],
   "source": [
    "Age = df['Age'].astype(np.float32)\n",
    "Hgb = df['Hgb'].astype(np.float32)\n",
    "plt.scatter(Age,Hgb)\n",
    "plt.xlabel('Age')\n",
    "plt.ylabel('Hgb')\n",
    "plt.tight_layout()"
   ]
  },
  {
   "cell_type": "code",
   "execution_count": null,
   "metadata": {
    "colab": {
     "base_uri": "https://localhost:8080/",
     "height": 296
    },
    "executionInfo": {
     "elapsed": 432,
     "status": "ok",
     "timestamp": 1651796664024,
     "user": {
      "displayName": "Jainish Chauhan",
      "userId": "04715573827778009519"
     },
     "user_tz": 420
    },
    "id": "cz713_tFvirK",
    "outputId": "c1e0c5bb-fb77-4205-a1e0-3e62a7ab53c0"
   },
   "outputs": [],
   "source": [
    "Age2 = df2['Age'].astype(np.float32)\n",
    "Hgb2 = df2['Hgb'].astype(np.float32)\n",
    "plt.scatter(Age2,Hgb2)\n",
    "plt.xlabel('Age')\n",
    "plt.ylabel('Hgb')"
   ]
  },
  {
   "cell_type": "code",
   "execution_count": null,
   "metadata": {
    "colab": {
     "base_uri": "https://localhost:8080/",
     "height": 297
    },
    "executionInfo": {
     "elapsed": 575,
     "status": "ok",
     "timestamp": 1652139504556,
     "user": {
      "displayName": "Jainish Chauhan",
      "userId": "04715573827778009519"
     },
     "user_tz": 420
    },
    "id": "VygMNPGrLMJr",
    "outputId": "87f0cf2a-6783-4992-d694-256740b2ac97"
   },
   "outputs": [],
   "source": [
    "Age = data['Age'].astype(np.float32)\n",
    "Hgb = data['Hgb'].astype(np.float32)\n",
    "plt.scatter(Age,Hgb)\n",
    "plt.xlabel('Age')\n",
    "plt.ylabel('Hgb')\n",
    "plt.title(\"Hemoglobin level as a function of Age\")\n",
    "plt.tight_layout()"
   ]
  },
  {
   "cell_type": "code",
   "execution_count": null,
   "metadata": {
    "colab": {
     "base_uri": "https://localhost:8080/",
     "height": 542
    },
    "executionInfo": {
     "elapsed": 266,
     "status": "ok",
     "timestamp": 1654070482147,
     "user": {
      "displayName": "Jainish Chauhan",
      "userId": "04715573827778009519"
     },
     "user_tz": 420
    },
    "id": "Mda6zPOsRVJR",
    "outputId": "d9ffbf64-967b-4a65-9d11-329260035e64"
   },
   "outputs": [],
   "source": [
    "fig = px.bar(data, x='Gender', y='Hgb',title=\"Hemoglobin level as a function of Gender\")\n",
    "fig.show()"
   ]
  },
  {
   "cell_type": "code",
   "execution_count": null,
   "metadata": {
    "colab": {
     "base_uri": "https://localhost:8080/",
     "height": 296
    },
    "executionInfo": {
     "elapsed": 609,
     "status": "ok",
     "timestamp": 1651796668124,
     "user": {
      "displayName": "Jainish Chauhan",
      "userId": "04715573827778009519"
     },
     "user_tz": 420
    },
    "id": "37Y4hmIFvefb",
    "outputId": "540fd627-42ac-4360-fa9a-b0726393889f"
   },
   "outputs": [],
   "source": [
    "gender = df['Gender']\n",
    "Hgb = df['Hgb'].astype(np.float32)\n",
    "plt.bar(gender,Hgb)\n",
    "plt.xlabel('gender')\n",
    "plt.ylabel('Hgb')"
   ]
  },
  {
   "cell_type": "code",
   "execution_count": null,
   "metadata": {
    "colab": {
     "base_uri": "https://localhost:8080/",
     "height": 296
    },
    "executionInfo": {
     "elapsed": 1690,
     "status": "ok",
     "timestamp": 1651796685261,
     "user": {
      "displayName": "Jainish Chauhan",
      "userId": "04715573827778009519"
     },
     "user_tz": 420
    },
    "id": "Y16W1AwAvnFb",
    "outputId": "e678740e-071e-4b8a-9f19-2f596514a96a"
   },
   "outputs": [],
   "source": [
    "gender2 = df2['Gender']\n",
    "Hgb2 = df2['Hgb'].astype(np.float32)\n",
    "plt.bar(gender2,Hgb2)\n",
    "plt.xlabel('gender')\n",
    "plt.ylabel('Hgb')"
   ]
  },
  {
   "cell_type": "code",
   "execution_count": null,
   "metadata": {
    "colab": {
     "base_uri": "https://localhost:8080/"
    },
    "executionInfo": {
     "elapsed": 486,
     "status": "ok",
     "timestamp": 1654072937103,
     "user": {
      "displayName": "Jainish Chauhan",
      "userId": "04715573827778009519"
     },
     "user_tz": 420
    },
    "id": "SlGdeVSabK6y",
    "outputId": "641f0ca8-beaa-4a00-86d7-ddee16a38e25"
   },
   "outputs": [],
   "source": [
    "data['Gender']=='M'"
   ]
  },
  {
   "cell_type": "code",
   "execution_count": null,
   "metadata": {
    "colab": {
     "base_uri": "https://localhost:8080/",
     "height": 297
    },
    "executionInfo": {
     "elapsed": 1381,
     "status": "ok",
     "timestamp": 1654070717228,
     "user": {
      "displayName": "Jainish Chauhan",
      "userId": "04715573827778009519"
     },
     "user_tz": 420
    },
    "id": "Mp6tG3vUMXA6",
    "outputId": "dba41232-d457-42b2-eb02-8685e490f6c0"
   },
   "outputs": [],
   "source": [
    "Age = data['Gender']\n",
    "Hgb = data['Hgb'].astype(np.float32)\n",
    "plt.bar(Age,Hgb)\n",
    "plt.xlabel('Gender')\n",
    "plt.ylabel('Hgb')\n",
    "plt.title(\"Hemoglobin level as a function of Gender\")\n",
    "plt.tight_layout()"
   ]
  },
  {
   "cell_type": "code",
   "execution_count": null,
   "metadata": {
    "colab": {
     "base_uri": "https://localhost:8080/"
    },
    "executionInfo": {
     "elapsed": 149,
     "status": "ok",
     "timestamp": 1652140036313,
     "user": {
      "displayName": "Jainish Chauhan",
      "userId": "04715573827778009519"
     },
     "user_tz": 420
    },
    "id": "eodUkezxNBFx",
    "outputId": "d02e277e-8695-4629-92b1-300b0428efca"
   },
   "outputs": [],
   "source": [
    "np.median(data['Hgb'])"
   ]
  },
  {
   "cell_type": "code",
   "execution_count": null,
   "metadata": {
    "colab": {
     "base_uri": "https://localhost:8080/",
     "height": 286
    },
    "executionInfo": {
     "elapsed": 2883,
     "status": "ok",
     "timestamp": 1652140782764,
     "user": {
      "displayName": "Jainish Chauhan",
      "userId": "04715573827778009519"
     },
     "user_tz": 420
    },
    "id": "qECJcOy0eV_s",
    "outputId": "340f2a7e-d273-4bec-d879-6abc18880446"
   },
   "outputs": [],
   "source": [
    "x = np.load(\"/content/drive/MyDrive/Project/TRIAL/X_new_india_RGB.npy\")/255\n",
    "z = np.zeros((640,480,3))\n",
    "z[:,:,0] = x[0,:,:,2]\n",
    "z[:,:,1] = x[0,:,:,1]\n",
    "z[:,:,2] = x[0,:,:,0]\n",
    "plt.imshow(z)"
   ]
  },
  {
   "cell_type": "code",
   "execution_count": null,
   "metadata": {
    "colab": {
     "base_uri": "https://localhost:8080/",
     "height": 286
    },
    "executionInfo": {
     "elapsed": 2664,
     "status": "ok",
     "timestamp": 1652140806198,
     "user": {
      "displayName": "Jainish Chauhan",
      "userId": "04715573827778009519"
     },
     "user_tz": 420
    },
    "id": "5VlqJ_d8eeNp",
    "outputId": "6f67dff7-3ebe-4d17-80e8-65b737c623ae"
   },
   "outputs": [],
   "source": [
    "x2 = np.load(\"/content/drive/MyDrive/Project/TRIAL/X_new_RGB.npy\")/255\n",
    "z2 = np.zeros((640,480,3))\n",
    "z2[:,:,0] = x2[0,:,:,2]\n",
    "z2[:,:,1] = x2[0,:,:,1]\n",
    "z2[:,:,2] = x2[0,:,:,0]\n",
    "plt.imshow(z2)"
   ]
  },
  {
   "cell_type": "code",
   "execution_count": null,
   "metadata": {
    "id": "ZTMQHN2ORoAa"
   },
   "outputs": [],
   "source": [
    "import cv2"
   ]
  },
  {
   "cell_type": "code",
   "execution_count": null,
   "metadata": {
    "colab": {
     "base_uri": "https://localhost:8080/",
     "height": 286
    },
    "executionInfo": {
     "elapsed": 2892,
     "status": "ok",
     "timestamp": 1652141254724,
     "user": {
      "displayName": "Jainish Chauhan",
      "userId": "04715573827778009519"
     },
     "user_tz": 420
    },
    "id": "I0Os-dimRVTx",
    "outputId": "261b5cca-f60f-4007-b9be-ad2b9030bd16"
   },
   "outputs": [],
   "source": [
    "x = cv2.imread(\"/content/drive/MyDrive/Project/dataset_anemia/India/13/20200203_190841.jpg\")\n",
    "x = cv2.cvtColor(x, cv2.COLOR_BGR2RGB)\n",
    "plt.imshow(x)"
   ]
  },
  {
   "cell_type": "code",
   "execution_count": null,
   "metadata": {
    "colab": {
     "base_uri": "https://localhost:8080/",
     "height": 286
    },
    "executionInfo": {
     "elapsed": 799,
     "status": "ok",
     "timestamp": 1652141256559,
     "user": {
      "displayName": "Jainish Chauhan",
      "userId": "04715573827778009519"
     },
     "user_tz": 420
    },
    "id": "loWCjShWSRKC",
    "outputId": "ea049f83-0a2e-4bb1-a5ca-54c69c904350"
   },
   "outputs": [],
   "source": [
    "x = cv2.imread(\"/content/drive/MyDrive/Project/dataset_anemia/India/13/20200203_190841_forniceal.png\")\n",
    "x = cv2.cvtColor(x, cv2.COLOR_BGR2RGB)\n",
    "plt.imshow(x)"
   ]
  },
  {
   "cell_type": "code",
   "execution_count": null,
   "metadata": {
    "colab": {
     "base_uri": "https://localhost:8080/",
     "height": 286
    },
    "executionInfo": {
     "elapsed": 839,
     "status": "ok",
     "timestamp": 1652141341593,
     "user": {
      "displayName": "Jainish Chauhan",
      "userId": "04715573827778009519"
     },
     "user_tz": 420
    },
    "id": "T4e2YvaaSS1K",
    "outputId": "5e75c0b0-fb2e-4dcc-a972-2747f58bae47"
   },
   "outputs": [],
   "source": [
    "x = cv2.imread(\"/content/drive/MyDrive/Project/dataset_anemia/India/13/20200203_190841_forniceal_palpebral.png\")\n",
    "x = cv2.cvtColor(x, cv2.COLOR_BGR2RGB)\n",
    "plt.imshow(x)"
   ]
  },
  {
   "cell_type": "code",
   "execution_count": null,
   "metadata": {
    "colab": {
     "base_uri": "https://localhost:8080/",
     "height": 286
    },
    "executionInfo": {
     "elapsed": 864,
     "status": "ok",
     "timestamp": 1652141353893,
     "user": {
      "displayName": "Jainish Chauhan",
      "userId": "04715573827778009519"
     },
     "user_tz": 420
    },
    "id": "7PXjpEsjSUTk",
    "outputId": "411c434b-143d-4ef5-d400-0224160bd594"
   },
   "outputs": [],
   "source": [
    "x = cv2.imread(\"/content/drive/MyDrive/Project/dataset_anemia/India/13/20200203_190841_palpebral.png\")\n",
    "x = cv2.cvtColor(x, cv2.COLOR_BGR2RGB)\n",
    "plt.imshow(x)"
   ]
  },
  {
   "cell_type": "code",
   "execution_count": null,
   "metadata": {
    "id": "kRB3LlVZg-8u"
   },
   "outputs": [],
   "source": [
    "#Tried so far\n",
    "'''\n",
    "LR\n",
    "Simple CNN with 2 CNN layers and 2 FC layers\n",
    "XGBoost\n",
    "SVM with extracted feats\n",
    "'''\n",
    "#Next\n",
    "'''\n",
    "Small data so classic ML preffered approach\n",
    "  Find new feats\n",
    "  data augmentation\n",
    "  model task in different way\n",
    "  try sgemented images\n",
    "Data oversampling using SMOTE\n",
    "\n",
    "try semi-supervised learning \n",
    "\n",
    "try transfer learning using VGG kind of model on some eye related data...\n",
    "'''"
   ]
  },
  {
   "cell_type": "code",
   "execution_count": null,
   "metadata": {
    "id": "gmLX-VVVIz0U"
   },
   "outputs": [],
   "source": [
    "#in milestone\n",
    "'''\n",
    "data props\n",
    "whats working and whats not\n",
    "focus more on exploring different approaches\n",
    "check website for details\n",
    "'''"
   ]
  },
  {
   "cell_type": "code",
   "execution_count": null,
   "metadata": {
    "id": "tE7A-H4z3XXv"
   },
   "outputs": [],
   "source": [
    "ind_data_path = \"/content/drive/MyDrive/Project/dataset_anemia/India\"\n",
    "it_data_path = \"/content/drive/MyDrive/Project/dataset_anemia/Italy\"\n",
    "final_path = \"/content/drive/MyDrive/Project/dataset_anemia/Final_Augmented_Data\""
   ]
  },
  {
   "cell_type": "code",
   "execution_count": null,
   "metadata": {
    "colab": {
     "base_uri": "https://localhost:8080/",
     "height": 105
    },
    "executionInfo": {
     "elapsed": 243,
     "status": "ok",
     "timestamp": 1653376084376,
     "user": {
      "displayName": "Jainish Chauhan",
      "userId": "04715573827778009519"
     },
     "user_tz": 420
    },
    "id": "tRJmMDDe3XJs",
    "outputId": "cd0d7974-9d26-4ce7-9b56-62536de90b9e"
   },
   "outputs": [],
   "source": [
    "import cv2\n",
    "import numpy as np\n",
    "\n",
    "Folder_name=final_path\n",
    "Extension=\".jpg\"\n",
    "\n",
    "def scale_image(image,name):\n",
    "    image = cv2.resize(image,(480,640), interpolation = cv2.INTER_CUBIC)\n",
    "    cv2.imwrite(Folder_name+\"/Scale/\"+name+Extension, image)\n",
    "    return image\n",
    "\n",
    "def translation_image(image,x,y,name):\n",
    "    rows, cols ,c= image.shape\n",
    "    M = np.float32([[1, 0, x], [0, 1, y]])\n",
    "    image = cv2.warpAffine(image, M, (cols, rows))\n",
    "    cv2.imwrite(Folder_name + \"/Translation/\"+name+\"_\"+ str(x) + str(y) + Extension, image)\n",
    "\n",
    "def rotate_image(image,deg,name):\n",
    "    rows, cols,c = image.shape\n",
    "    M = cv2.getRotationMatrix2D((cols/2,rows/2), deg, 1)\n",
    "    image = cv2.warpAffine(image, M, (cols, rows))\n",
    "    cv2.imwrite(Folder_name + \"/Rotate/\"+name+\"_\"+str(deg) + Extension, image)\n",
    "\n",
    "def flip_image(image,name):\n",
    "    imageh = cv2.flip(image, 0)\n",
    "    imagev = cv2.flip(image, 1)\n",
    "    cv2.imwrite(Folder_name + \"/Flip/\"+name+ \"_\"+str(0)+Extension, imageh)\n",
    "    cv2.imwrite(Folder_name + \"/Flip/\"+name+ \"_\"+str(1)+Extension, imagev)\n",
    "'''\n",
    "image_file=\"/content/drive/MyDrive/Project/dataset_anemia/India/1/20200118_164733.jpg\"\n",
    "image = cv2.imread(image_file)\n",
    "image=scale_image(image,'20200118_164733')\n",
    "\n",
    "translation_image(image,50,50,'20200118_164733')\n",
    "translation_image(image,-50,50,'20200118_164733')\n",
    "translation_image(image,50,-50,'20200118_164733')\n",
    "translation_image(image,-50,-50,'20200118_164733')\n",
    "\n",
    "rotate_image(image,45,'20200118_164733')\n",
    "rotate_image(image,90,'20200118_164733')\n",
    "rotate_image(image,135,'20200118_164733')\n",
    "rotate_image(image,180,'20200118_164733')\n",
    "rotate_image(image,225,'20200118_164733')\n",
    "rotate_image(image,270,'20200118_164733')\n",
    "rotate_image(image,315,'20200118_164733')\n",
    "\n",
    "flip_image(image,'20200118_164733')'''"
   ]
  },
  {
   "cell_type": "code",
   "execution_count": null,
   "metadata": {
    "id": "1RwlqvX4mCVN"
   },
   "outputs": [],
   "source": [
    "from google.colab.patches import cv2_imshow\n",
    "import os\n",
    "from tqdm import tqdm"
   ]
  },
  {
   "cell_type": "code",
   "execution_count": null,
   "metadata": {
    "colab": {
     "base_uri": "https://localhost:8080/"
    },
    "executionInfo": {
     "elapsed": 82416,
     "status": "ok",
     "timestamp": 1653376332654,
     "user": {
      "displayName": "Jainish Chauhan",
      "userId": "04715573827778009519"
     },
     "user_tz": 420
    },
    "id": "H5kgax2il-g2",
    "outputId": "800610b0-8f8f-4315-b63a-3fb992b616b1"
   },
   "outputs": [],
   "source": [
    "for fname in tqdm(os.listdir(ind_data_path)):\n",
    "    if fname==\"India.xlsx\":\n",
    "      continue\n",
    "    filename = 'india_'+str(fname)\n",
    "    f = os.path.join(ind_data_path, fname)\n",
    "    for i in os.listdir(f):\n",
    "      if i.split(\".\")[-1]=='jpg':\n",
    "        path = os.path.join(f, i)\n",
    "        image = cv2.imread(path)\n",
    "\n",
    "        image=scale_image(image,filename)\n",
    "\n",
    "        translation_image(image,50,50,filename)\n",
    "        translation_image(image,-50,50,filename)\n",
    "        translation_image(image,50,-50,filename)\n",
    "        translation_image(image,-50,-50,filename)\n",
    "\n",
    "        rotate_image(image,45,filename)\n",
    "        rotate_image(image,90,filename)\n",
    "        rotate_image(image,135,filename)\n",
    "        rotate_image(image,180,filename)\n",
    "        rotate_image(image,225,filename)\n",
    "        rotate_image(image,270,filename)\n",
    "        rotate_image(image,315,filename)\n",
    "\n",
    "        flip_image(image,filename)"
   ]
  },
  {
   "cell_type": "code",
   "execution_count": null,
   "metadata": {
    "colab": {
     "base_uri": "https://localhost:8080/"
    },
    "executionInfo": {
     "elapsed": 157475,
     "status": "ok",
     "timestamp": 1653376593722,
     "user": {
      "displayName": "Jainish Chauhan",
      "userId": "04715573827778009519"
     },
     "user_tz": 420
    },
    "id": "OY7hquArn6RT",
    "outputId": "1a0d078a-2ab4-45ab-ed8e-eb5934810951"
   },
   "outputs": [],
   "source": [
    "for fname in tqdm(os.listdir(it_data_path)):\n",
    "    if fname==\"~$Italy.xlsx\" or fname==\"Italy.xlsx\":\n",
    "      continue\n",
    "    filename = 'italy_'+str(fname)\n",
    "    f = os.path.join(it_data_path, fname)\n",
    "    for i in os.listdir(f):\n",
    "      if i.split(\".\")[-1]=='jpg':\n",
    "        path = os.path.join(f, i)\n",
    "        image = cv2.imread(path)\n",
    "\n",
    "        image=scale_image(image,filename)\n",
    "\n",
    "        translation_image(image,50,50,filename)\n",
    "        translation_image(image,-50,50,filename)\n",
    "        translation_image(image,50,-50,filename)\n",
    "        translation_image(image,-50,-50,filename)\n",
    "\n",
    "        rotate_image(image,45,filename)\n",
    "        rotate_image(image,90,filename)\n",
    "        rotate_image(image,135,filename)\n",
    "        rotate_image(image,180,filename)\n",
    "        rotate_image(image,225,filename)\n",
    "        rotate_image(image,270,filename)\n",
    "        rotate_image(image,315,filename)\n",
    "\n",
    "        flip_image(image,filename)"
   ]
  },
  {
   "cell_type": "code",
   "execution_count": null,
   "metadata": {
    "id": "2Hq_qRiv6Z_u"
   },
   "outputs": [],
   "source": []
  }
 ],
 "metadata": {
  "colab": {
   "collapsed_sections": [],
   "name": "Visualize.ipynb",
   "provenance": []
  },
  "kernelspec": {
   "display_name": "Python 3 (ipykernel)",
   "language": "python",
   "name": "python3"
  },
  "language_info": {
   "codemirror_mode": {
    "name": "ipython",
    "version": 3
   },
   "file_extension": ".py",
   "mimetype": "text/x-python",
   "name": "python",
   "nbconvert_exporter": "python",
   "pygments_lexer": "ipython3",
   "version": "3.9.7"
  }
 },
 "nbformat": 4,
 "nbformat_minor": 1
}
