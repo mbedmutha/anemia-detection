{
 "cells": [
  {
   "cell_type": "code",
   "execution_count": null,
   "metadata": {
    "id": "mm5kpDtpDsAo"
   },
   "outputs": [],
   "source": [
    "# import keras\n",
    "# Source for HAM10000: https://www.kaggle.com/alexako/cs200-1-u-net-skin-lesion-segmentation\n",
    "\n",
    "import cv2\n",
    "import numpy as np\n",
    "import pandas as pd\n",
    "import os\n",
    "import random"
   ]
  },
  {
   "cell_type": "code",
   "execution_count": null,
   "metadata": {
    "id": "-tsb64shHhCM"
   },
   "outputs": [],
   "source": [
    "from keras.models import Model, Sequential, load_model\n",
    "from keras.layers import Activation, Dense, BatchNormalization, Dropout, Conv2D, Conv2DTranspose, MaxPooling2D, UpSampling2D, Input, Reshape, GlobalAveragePooling2D\n",
    "from keras.callbacks import EarlyStopping\n",
    "from keras import backend as K\n",
    "from keras.optimizers import adam_v2 #, SGD\n",
    "import tensorflow as tf"
   ]
  },
  {
   "cell_type": "code",
   "execution_count": null,
   "metadata": {
    "id": "wnsHwDWRH3I-"
   },
   "outputs": [],
   "source": [
    "import matplotlib.pyplot as plt\n",
    "import cv2\n",
    "%matplotlib inline\n",
    "\n",
    "from keras.preprocessing.image import ImageDataGenerator\n",
    "from sklearn.model_selection import train_test_split\n",
    "from warnings import filterwarnings"
   ]
  },
  {
   "cell_type": "code",
   "execution_count": null,
   "metadata": {
    "colab": {
     "base_uri": "https://localhost:8080/"
    },
    "executionInfo": {
     "elapsed": 21192,
     "status": "ok",
     "timestamp": 1654064179749,
     "user": {
      "displayName": "Manas Bedmutha",
      "userId": "04322851682834695279"
     },
     "user_tz": 420
    },
    "id": "uHCZ35p2EH52",
    "outputId": "fa5e16dd-4a0e-484a-bc93-598aae59b092"
   },
   "outputs": [
    {
     "name": "stdout",
     "output_type": "stream",
     "text": [
      "Mounted at /content/drive\n"
     ]
    }
   ],
   "source": [
    "from google.colab import drive\n",
    "drive.mount('/content/drive')"
   ]
  },
  {
   "cell_type": "code",
   "execution_count": null,
   "metadata": {
    "id": "-Skq55Ic4y1T"
   },
   "outputs": [],
   "source": [
    "root_folder = r\"/content/drive/MyDrive/Spring 2022/Machine Learning for Physical Applications/Project/Manas Trials/Self-Supervised/\"\n",
    "dataset_folder = r\"/content/drive/MyDrive/Spring 2022/Machine Learning for Physical Applications/Project/dataset_anemia/Final_Augmented_Data/\""
   ]
  },
  {
   "cell_type": "code",
   "execution_count": null,
   "metadata": {
    "id": "Xgv01TGF4z0d"
   },
   "outputs": [],
   "source": [
    "italy_data = pd.read_excel(r\"/content/drive/MyDrive/Spring 2022/Machine Learning for Physical Applications/Project/TRIAL/Italy_new.xlsx\")\n",
    "india_data = pd.read_excel(r\"/content/drive/MyDrive/Spring 2022/Machine Learning for Physical Applications/Project/dataset_anemia/India/India.xlsx\")\n",
    "\n",
    "italy_data['Source'] = \"Italy\"\n",
    "india_data[\"Source\"] = \"India\" \n",
    "\n",
    "# italy_skip = [92]\n",
    "# italy_data.drop(italy_skip,0,inplace=True)\n",
    "\n",
    "india_root = r\"/content/drive/MyDrive/Spring 2022/Machine Learning for Physical Applications/Project/dataset_anemia/India/\"\n",
    "italy_root = r\"/content/drive/MyDrive/Spring 2022/Machine Learning for Physical Applications/Project/dataset_anemia/Italy/\"\n",
    "\n",
    "# india_data['Path'] = india_root + india_data['Number'].astype('str')\n",
    "\n",
    "df = pd.concat([italy_data, india_data])\n",
    "\n",
    "df['Number'] = df['Number'].astype('int').astype('str')\n",
    "df['Hgb'] = df['Hgb'].astype('float')\n",
    "df['Age'] = df['Age'].astype('float')\n",
    "\n",
    "df.loc[df[df.Gender == 'F'].index, 'Gender'] = 1.0\n",
    "df.loc[df[df.Gender == 'M'].index, 'Gender'] = 0.0\n",
    "\n",
    "df = df[df.Note.isna()][['Number', 'Source', 'Hgb', 'Gender', 'Age']]\n",
    "df = df.reset_index()\n",
    "\n",
    "X = []\n",
    "k = 100\n",
    "idx = random.choices(df.index, k=k)\n",
    "# hb = df.Hgb[idx].values\n",
    "# age = df.Age[idx].values\n",
    "# gen = df.Gender[idx].values\n",
    "\n",
    "for i in idx: #list(df.index):\n",
    "  if df.loc[i, 'Source'] == \"Italy\":\n",
    "    file_path = os.path.join(italy_root, df.loc[i, 'Number'])\n",
    "  else:\n",
    "    file_path = os.path.join(india_root, df.loc[i, 'Number'])\n",
    "  files = sorted(os.listdir(file_path))\n",
    "  img = cv2.imread(os.path.join(file_path, files[0]), 1)\n",
    "  img = cv2.resize(img, (480, 640))\n",
    "  X.append(img)\n",
    "\n",
    "X = np.array(X)/255.0"
   ]
  },
  {
   "cell_type": "code",
   "execution_count": null,
   "metadata": {
    "id": "unf8IldHdSO9"
   },
   "outputs": [],
   "source": [
    "y = df.loc[idx,['Hgb']].values/20 # , 'Gender', 'Age']"
   ]
  },
  {
   "cell_type": "code",
   "execution_count": null,
   "metadata": {
    "id": "hDnOu2vjIAJQ"
   },
   "outputs": [],
   "source": [
    "# def random_rotation(x_image):\n",
    "#     rows_x,cols_x, chl_x = x_image.shape\n",
    "#     rand_num = np.random.randint(-40,40)\n",
    "#     M1 = cv2.getRotationMatrix2D((cols_x/2,rows_x/2),rand_num,1)\n",
    "#     x_image = cv2.warpAffine(x_image,M1,(cols_x,rows_x))\n",
    "#     return x_image\n",
    "\n",
    "# def horizontal_flip(x_image):\n",
    "#     x_image = cv2.flip(x_image, 1)\n",
    "#     return x_image"
   ]
  },
  {
   "cell_type": "code",
   "execution_count": null,
   "metadata": {
    "id": "BDzMclzpIB_u"
   },
   "outputs": [],
   "source": [
    "# def img_augmentation(x_train, y_train):\n",
    "#   x_rotat = []\n",
    "#   y_rotat = []\n",
    "#   x_flip = []\n",
    "#   y_flip = []\n",
    "#   x_nois = []\n",
    "#   for idx in range(len(x_train)):\n",
    "#     y = y_train[idx]\n",
    "\n",
    "#     # Random Rot 1\n",
    "#     x = random_rotation(x_train[idx]) #, y_train[idx])\n",
    "#     x_rotat.append(x)\n",
    "#     y_rotat.append(y)\n",
    "\n",
    "#     # Random Rot 2\n",
    "#     x = random_rotation(x_train[idx]) #, y_train[idx])\n",
    "#     x_rotat.append(x)\n",
    "#     y_rotat.append(y)\n",
    "\n",
    "#     # Flip\n",
    "#     x = horizontal_flip(x_train[idx])\n",
    "#     x_flip.append(x)\n",
    "#     y_flip.append(y)\n",
    "\n",
    "#     # Rot + Flip\n",
    "#     x = random_rotation(x_train[idx])\n",
    "#     x = horizontal_flip(x)\n",
    "#     x_flip.append(x)\n",
    "#     y_flip.append(y)\n",
    "\n",
    "#   return np.array(x_rotat), np.array(y_rotat), np.array(x_flip), np.array(y_flip)"
   ]
  },
  {
   "cell_type": "code",
   "execution_count": null,
   "metadata": {
    "id": "AdGQTSLflcnN"
   },
   "outputs": [],
   "source": []
  },
  {
   "cell_type": "code",
   "execution_count": null,
   "metadata": {
    "id": "3X3VXGuMlcqz"
   },
   "outputs": [],
   "source": [
    "def random_rotation(x_image, y_image):\n",
    "    rows_x,cols_x, chl_x = x_image.shape\n",
    "    rows_y,cols_y = y_image.shape\n",
    "    rand_num = np.random.randint(-40,40)\n",
    "    M1 = cv2.getRotationMatrix2D((cols_x/2,rows_x/2),rand_num,1)\n",
    "    M2 = cv2.getRotationMatrix2D((cols_y/2,rows_y/2),rand_num,1)\n",
    "    x_image = cv2.warpAffine(x_image,M1,(cols_x,rows_x))\n",
    "    y_image = cv2.warpAffine(y_image.astype('float32'),M2,(cols_y,rows_y))\n",
    "    return x_image, y_image.astype('int')\n",
    "\n",
    "def horizontal_flip(x_image, y_image):\n",
    "    x_image = cv2.flip(x_image, 1)\n",
    "    y_image = cv2.flip(y_image.astype('float32'), 1)\n",
    "    return x_image, y_image.astype('int')"
   ]
  },
  {
   "cell_type": "code",
   "execution_count": null,
   "metadata": {
    "id": "Rbq8rLo-lcyL"
   },
   "outputs": [],
   "source": [
    "def img_augmentation(x_train, y_train):\n",
    "    x_rotat = []\n",
    "    y_rotat = []\n",
    "    x_flip = []\n",
    "    y_flip = []\n",
    "    x_nois = []\n",
    "    for idx in range(len(x_train)):\n",
    "        x,y = random_rotation(x_train[idx], y_train[idx])\n",
    "        x_rotat.append(x)\n",
    "        y_rotat.append(y)\n",
    "        \n",
    "        x,y = horizontal_flip(x_train[idx], y_train[idx])\n",
    "        x_flip.append(x)\n",
    "        y_flip.append(y)\n",
    "        return np.array(x_rotat), np.array(y_rotat), np.array(x_flip), np.array(y_flip)"
   ]
  },
  {
   "cell_type": "code",
   "execution_count": null,
   "metadata": {
    "id": "B70UQ5Pyljka"
   },
   "outputs": [],
   "source": [
    "x_rotated, y_rotated, x_flipped, y_flipped = img_augmentation(x_train, y_train)\n",
    "x_train_full = np.concatenate([x_train, x_rotated, x_flipped])"
   ]
  },
  {
   "cell_type": "code",
   "execution_count": null,
   "metadata": {
    "id": "d370dihnljnM"
   },
   "outputs": [],
   "source": [
    "del x_train\n",
    "del x_"
   ]
  },
  {
   "cell_type": "code",
   "execution_count": null,
   "metadata": {
    "id": "V864gPD1ljpx"
   },
   "outputs": [],
   "source": []
  },
  {
   "cell_type": "code",
   "execution_count": null,
   "metadata": {
    "id": "Ihb9bofWljs_"
   },
   "outputs": [],
   "source": []
  },
  {
   "cell_type": "code",
   "execution_count": null,
   "metadata": {
    "id": "YlLdchq0lc1m"
   },
   "outputs": [],
   "source": []
  },
  {
   "cell_type": "code",
   "execution_count": null,
   "metadata": {
    "id": "RRpdr3Jtd23t"
   },
   "outputs": [],
   "source": [
    "x_rotated, y_rotated, x_flipped, y_flipped = img_augmentation(X, y)\n",
    "\n",
    "X_clf = np.concatenate([X, x_rotated, x_flipped])\n",
    "y_clf = np.concatenate([y, y_rotated, y_flipped])"
   ]
  },
  {
   "cell_type": "code",
   "execution_count": null,
   "metadata": {
    "id": "uKlpuPa-Ymle"
   },
   "outputs": [],
   "source": [
    "# X_train, X_val, y_train, y_val = train_test_split(x_train_full, y_train_full, test_size = 0.30, random_state = 101)"
   ]
  },
  {
   "cell_type": "code",
   "execution_count": null,
   "metadata": {
    "colab": {
     "base_uri": "https://localhost:8080/"
    },
    "executionInfo": {
     "elapsed": 4,
     "status": "ok",
     "timestamp": 1654064551191,
     "user": {
      "displayName": "Manas Bedmutha",
      "userId": "04322851682834695279"
     },
     "user_tz": 420
    },
    "id": "n9PT34Zm4z3e",
    "outputId": "cc75a955-ffb2-4afc-9707-0d1453347131"
   },
   "outputs": [
    {
     "data": {
      "text/plain": [
       "((500, 640, 480, 3), (500, 1))"
      ]
     },
     "execution_count": 12,
     "metadata": {},
     "output_type": "execute_result"
    }
   ],
   "source": [
    "X_clf.shape, y_clf.shape"
   ]
  },
  {
   "cell_type": "code",
   "execution_count": null,
   "metadata": {
    "id": "Rc7-5pjv4z61"
   },
   "outputs": [],
   "source": []
  },
  {
   "cell_type": "code",
   "execution_count": null,
   "metadata": {
    "id": "8oPOdW_DIiTB"
   },
   "outputs": [],
   "source": [
    "def encoder(img_input):\n",
    "  x = Conv2D(64, (3, 3), padding='same', name='conv1',strides= (1,1))(img_input)\n",
    "  x = BatchNormalization(name='bn1')(x)\n",
    "  x = Activation('relu')(x)\n",
    "  x = Conv2D(64, (3, 3), padding='same', name='conv2')(x)\n",
    "  x = BatchNormalization(name='bn2')(x)\n",
    "  x = Activation('relu')(x)\n",
    "  x = MaxPooling2D()(x)\n",
    "\n",
    "  x = Conv2D(128, (3, 3), padding='same', name='conv3')(x)\n",
    "  x = BatchNormalization(name='bn3')(x)\n",
    "  x = Activation('relu')(x)\n",
    "  x = Conv2D(128, (3, 3), padding='same', name='conv4')(x)\n",
    "  x = BatchNormalization(name='bn4')(x)\n",
    "  x = Activation('relu')(x)\n",
    "  x = MaxPooling2D()(x)\n",
    "\n",
    "  x = Conv2D(256, (3, 3), padding='same', name='conv5')(x)\n",
    "  x = BatchNormalization(name='bn5')(x)\n",
    "  x = Activation('relu')(x)\n",
    "  x = Conv2D(256, (3, 3), padding='same', name='conv6')(x)\n",
    "  x = BatchNormalization(name='bn6')(x)\n",
    "  x = Activation('relu')(x)\n",
    "  x = Conv2D(256, (3, 3), padding='same', name='conv7')(x)\n",
    "  x = BatchNormalization(name='bn7')(x)\n",
    "  x = Activation('relu')(x)\n",
    "  x = MaxPooling2D()(x)\n",
    "\n",
    "  x = Conv2D(512, (3, 3), padding='same', name='conv8')(x)\n",
    "  x = BatchNormalization(name='bn8')(x)\n",
    "  x = Activation('relu')(x)\n",
    "  x = Conv2D(512, (3, 3), padding='same', name='conv9')(x)\n",
    "  x = BatchNormalization(name='bn9')(x)\n",
    "  x = Activation('relu')(x)\n",
    "  x = Conv2D(512, (3, 3), padding='same', name='conv10')(x)\n",
    "  x = BatchNormalization(name='bn10')(x)\n",
    "  x = Activation('relu')(x)\n",
    "  x = MaxPooling2D()(x)\n",
    "\n",
    "  x = Conv2D(512, (3, 3), padding='same', name='conv11')(x)\n",
    "  x = BatchNormalization(name='bn11')(x)\n",
    "  x = Activation('relu')(x)\n",
    "  x = Conv2D(512, (3, 3), padding='same', name='conv12')(x)\n",
    "  x = BatchNormalization(name='bn12')(x)\n",
    "  x = Activation('relu')(x)\n",
    "  x = Conv2D(512, (3, 3), padding='same', name='conv13')(x)\n",
    "  x = BatchNormalization(name='bn13')(x)\n",
    "  x = Activation('relu')(x)\n",
    "  x = MaxPooling2D()(x)\n",
    "\n",
    "  x = Dense(1024, activation = 'relu', name='fc1')(x)\n",
    "  x = Dense(1024, activation = 'relu', name='fc2')(x)\n",
    "\n",
    "  return x"
   ]
  },
  {
   "cell_type": "code",
   "execution_count": null,
   "metadata": {
    "id": "gJDL2-edI-5h"
   },
   "outputs": [],
   "source": [
    "def decoder(enc):\n",
    "  # Decoding Layer \n",
    "  x = UpSampling2D()(enc)\n",
    "  x = Conv2DTranspose(512, (3, 3), padding='same', name='deconv1')(x)\n",
    "  x = BatchNormalization(name='bn14')(x)\n",
    "  x = Activation('relu')(x)\n",
    "  x = Conv2DTranspose(512, (3, 3), padding='same', name='deconv2')(x)\n",
    "  x = BatchNormalization(name='bn15')(x)\n",
    "  x = Activation('relu')(x)\n",
    "  x = Conv2DTranspose(512, (3, 3), padding='same', name='deconv3')(x)\n",
    "  x = BatchNormalization(name='bn16')(x)\n",
    "  x = Activation('relu')(x)\n",
    "\n",
    "  x = UpSampling2D()(x)\n",
    "  x = Conv2DTranspose(512, (3, 3), padding='same', name='deconv4')(x)\n",
    "  x = BatchNormalization(name='bn17')(x)\n",
    "  x = Activation('relu')(x)\n",
    "  x = Conv2DTranspose(512, (3, 3), padding='same', name='deconv5')(x)\n",
    "  x = BatchNormalization(name='bn18')(x)\n",
    "  x = Activation('relu')(x)\n",
    "  x = Conv2DTranspose(256, (3, 3), padding='same', name='deconv6')(x)\n",
    "  x = BatchNormalization(name='bn19')(x)\n",
    "  x = Activation('relu')(x)\n",
    "\n",
    "  x = UpSampling2D()(x)\n",
    "  x = Conv2DTranspose(256, (3, 3), padding='same', name='deconv7')(x)\n",
    "  x = BatchNormalization(name='bn20')(x)\n",
    "  x = Activation('relu')(x)\n",
    "  x = Conv2DTranspose(256, (3, 3), padding='same', name='deconv8')(x)\n",
    "  x = BatchNormalization(name='bn21')(x)\n",
    "  x = Activation('relu')(x)\n",
    "  x = Conv2DTranspose(128, (3, 3), padding='same', name='deconv9')(x)\n",
    "  x = BatchNormalization(name='bn22')(x)\n",
    "  x = Activation('relu')(x)\n",
    "\n",
    "  x = UpSampling2D()(x)\n",
    "  x = Conv2DTranspose(128, (3, 3), padding='same', name='deconv10')(x)\n",
    "  x = BatchNormalization(name='bn23')(x)\n",
    "  x = Activation('relu')(x)\n",
    "  x = Conv2DTranspose(64, (3, 3), padding='same', name='deconv11')(x)\n",
    "  x = BatchNormalization(name='bn24')(x)\n",
    "  x = Activation('relu')(x)\n",
    "\n",
    "  x = UpSampling2D()(x)\n",
    "  x = Conv2DTranspose(64, (3, 3), padding='same', name='deconv12')(x)\n",
    "  x = BatchNormalization(name='bn25')(x)\n",
    "  x = Activation('relu')(x)\n",
    "  x = Conv2DTranspose(1, (3, 3), padding='same', name='deconv13')(x)\n",
    "  x = BatchNormalization(name='bn26')(x)\n",
    "  x = Activation('sigmoid')(x)\n",
    "  return x\n"
   ]
  },
  {
   "cell_type": "code",
   "execution_count": null,
   "metadata": {
    "id": "CpFDdEh28u7T"
   },
   "outputs": [],
   "source": [
    "def unet():\n",
    "\n",
    "    # Encoding layer\n",
    "#     img_input = Input(shape= (192, 256, 3))\n",
    "    img_input = Input(shape= (None, None, 3))\n",
    "    enc = encoder(img_input)\n",
    "    dec = decoder(enc)\n",
    "    pred = Reshape((192,256))(dec)\n",
    "    \n",
    "    model = Model(inputs=img_input, outputs=pred)\n",
    "    \n",
    "    model.compile(optimizer= adam_v2.Adam(learning_rate=0.001), loss= [\"binary_crossentropy\"])\n",
    "    # , momentum=0.9, decay=0.0005, nesterov=False)\n",
    "    print(\"Model compiled successfully\") #model.summary()\n",
    "    return model"
   ]
  },
  {
   "cell_type": "code",
   "execution_count": null,
   "metadata": {
    "id": "7Ti1uov0JT2A"
   },
   "outputs": [],
   "source": [
    "base_epochs = 100\n",
    "weight_path = os.path.join(root_folder,'unet_'+str(base_epochs)+'_epoch.h5')"
   ]
  },
  {
   "cell_type": "code",
   "execution_count": null,
   "metadata": {
    "colab": {
     "base_uri": "https://localhost:8080/"
    },
    "executionInfo": {
     "elapsed": 1659,
     "status": "ok",
     "timestamp": 1654064558485,
     "user": {
      "displayName": "Manas Bedmutha",
      "userId": "04322851682834695279"
     },
     "user_tz": 420
    },
    "id": "O4zGmeoLPCPe",
    "outputId": "dca4069d-83b3-4fae-d8cb-208723135eb8"
   },
   "outputs": [
    {
     "name": "stdout",
     "output_type": "stream",
     "text": [
      "Model compiled successfully\n"
     ]
    }
   ],
   "source": [
    "model = unet()"
   ]
  },
  {
   "cell_type": "code",
   "execution_count": null,
   "metadata": {
    "id": "BXvq_9A1QiSq"
   },
   "outputs": [],
   "source": [
    "enc_in_tensor = model.input\n",
    "enc_out_tensor = model.get_layer('bn10').output # fc2"
   ]
  },
  {
   "cell_type": "code",
   "execution_count": null,
   "metadata": {
    "id": "cNiNLULyQiWL"
   },
   "outputs": [],
   "source": [
    "encoder_model = Model(inputs = enc_in_tensor, outputs = enc_out_tensor)"
   ]
  },
  {
   "cell_type": "code",
   "execution_count": null,
   "metadata": {
    "id": "25A9_alaPCR9"
   },
   "outputs": [],
   "source": [
    "encoder_model.load_weights(weight_path, by_name=True)"
   ]
  },
  {
   "cell_type": "code",
   "execution_count": null,
   "metadata": {
    "id": "3cdvpFgqPCbu"
   },
   "outputs": [],
   "source": [
    "# 1: https://stackoverflow.com/questions/58465937/how-to-use-the-first-layers-of-a-pretrained-model-to-extract-features-inside-a-k\n",
    "# 2: https://stackoverflow.com/questions/58465937/how-to-use-the-first-layers-of-a-pretrained-model-to-extract-features-inside-a-k"
   ]
  },
  {
   "cell_type": "code",
   "execution_count": null,
   "metadata": {
    "id": "wOpBshNPPCfx"
   },
   "outputs": [],
   "source": [
    "def rms_loss20(y_true, y_pred):\n",
    "    y_true_f = 20*K.flatten(y_true)\n",
    "    y_pred_f = 20*K.flatten(y_pred)\n",
    "    return K.sqrt(K.mean(K.square(y_pred - y_true))) "
   ]
  },
  {
   "cell_type": "code",
   "execution_count": null,
   "metadata": {
    "id": "DJEjLE7dOy9n"
   },
   "outputs": [],
   "source": []
  },
  {
   "cell_type": "code",
   "execution_count": null,
   "metadata": {
    "id": "5-P7YafeMGjA"
   },
   "outputs": [],
   "source": [
    "from keras.layers.pooling import GlobalAveragePooling2D\n",
    "def raw_pred(img_input):\n",
    "  enc = encoder_model(img_input)\n",
    "  x = GlobalAveragePooling2D(name='gap0')(enc)\n",
    "  x = Dense(64, activation='relu', name='pred1')(x)\n",
    "  pred = Dense(1, activation='sigmoid', name='pred_final')(x)\n",
    "  model = Model(inputs=img_input, outputs=pred)\n",
    "  model.compile(loss=['mse'], optimizer=adam_v2.Adam(learning_rate=0.001), metrics=[rms_loss20])\n",
    "  print(\"Classifier compiled successfully\")\n",
    "  return model"
   ]
  },
  {
   "cell_type": "code",
   "execution_count": null,
   "metadata": {
    "id": "UO-x4kMc89wD"
   },
   "outputs": [],
   "source": [
    "def main_model(img_input, age, gen):\n",
    "  pred = raw_pred(img_input)\n",
    "  model = Model(inputs=[pred, age, gen])"
   ]
  },
  {
   "cell_type": "code",
   "execution_count": null,
   "metadata": {
    "id": "aQxagkbtTu4F"
   },
   "outputs": [],
   "source": [
    "X_clf_use, X_clf_test, y_clf_use, y_clf_test = train_test_split(X_clf, y_clf, test_size = 0.1, random_state = 101)\n",
    "X_clf_train, X_clf_val, y_clf_train, y_clf_val = train_test_split(X_clf_use, y_clf_use, test_size = 0.1, random_state = 101)\n",
    "# X_main = [X_clf, y[:,1], y[:,2]]\n",
    "# y[:,1]"
   ]
  },
  {
   "cell_type": "code",
   "execution_count": null,
   "metadata": {
    "colab": {
     "base_uri": "https://localhost:8080/"
    },
    "executionInfo": {
     "elapsed": 8,
     "status": "ok",
     "timestamp": 1654064570433,
     "user": {
      "displayName": "Manas Bedmutha",
      "userId": "04322851682834695279"
     },
     "user_tz": 420
    },
    "id": "0ijS996nMJMz",
    "outputId": "eb5e9e19-4182-48e1-a762-2d5247a50fcd"
   },
   "outputs": [
    {
     "data": {
      "text/plain": [
       "((405, 640, 480, 3),\n",
       " (45, 640, 480, 3),\n",
       " (50, 640, 480, 3),\n",
       " (405, 1),\n",
       " (45, 1),\n",
       " (50, 1))"
      ]
     },
     "execution_count": 26,
     "metadata": {},
     "output_type": "execute_result"
    }
   ],
   "source": [
    "X_clf_train.shape, X_clf_val.shape, X_clf_test.shape, y_clf_train.shape, y_clf_val.shape, y_clf_test.shape"
   ]
  },
  {
   "cell_type": "code",
   "execution_count": null,
   "metadata": {
    "id": "8TeOC435MJQT"
   },
   "outputs": [],
   "source": []
  },
  {
   "cell_type": "code",
   "execution_count": null,
   "metadata": {
    "id": "h_sOvQm4kfzJ"
   },
   "outputs": [],
   "source": []
  },
  {
   "cell_type": "code",
   "execution_count": null,
   "metadata": {
    "id": "Rx7FdOUZY78o"
   },
   "outputs": [],
   "source": [
    "def train_clf(epochs_num, savename):\n",
    "    model =  raw_pred(Input(shape= (None, None, 3))) #epochs_num, savename)\n",
    "    hist = model.fit(X_clf_use, y_clf_use, epochs= epochs_num, batch_size= 6, validation_data= (X_clf_val, y_clf_val), \n",
    "                     verbose=1)\n",
    "    model.save(savename)\n",
    "    return model,hist"
   ]
  },
  {
   "cell_type": "code",
   "execution_count": null,
   "metadata": {
    "id": "xJycyTfVk1Oj"
   },
   "outputs": [],
   "source": [
    "# del X_clf\n",
    "# del y_clf"
   ]
  },
  {
   "cell_type": "code",
   "execution_count": null,
   "metadata": {
    "colab": {
     "background_save": true,
     "base_uri": "https://localhost:8080/"
    },
    "id": "Dsjfa0KzZQb2",
    "outputId": "fe856c22-da9f-48a4-db9a-53d5cb9aaec7"
   },
   "outputs": [
    {
     "name": "stdout",
     "output_type": "stream",
     "text": [
      "Classifier compiled successfully\n",
      "Epoch 1/5\n",
      "75/75 [==============================] - 4496s 60s/step - loss: 152.6491 - rms_loss20: 12.3069 - val_loss: 137.0236 - val_rms_loss20: 11.6192\n",
      "Epoch 2/5\n",
      "75/75 [==============================] - 4484s 60s/step - loss: 151.9080 - rms_loss20: 12.2937 - val_loss: 137.8912 - val_rms_loss20: 11.6521\n",
      "Epoch 3/5\n"
     ]
    }
   ],
   "source": [
    "epochs = 5\n",
    "clf_weight_path = os.path.join(root_folder,'clf_'+str(epochs)+'_epoch.h5')\n",
    "clf_model, hist = train_clf(epochs, clf_weight_path)"
   ]
  },
  {
   "cell_type": "code",
   "execution_count": null,
   "metadata": {
    "id": "lVlJJ6_GaMo-"
   },
   "outputs": [],
   "source": [
    " X_clf_train.shape, y_clf_train.shape"
   ]
  },
  {
   "cell_type": "code",
   "execution_count": null,
   "metadata": {
    "id": "S7-P2VWBaP7f"
   },
   "outputs": [],
   "source": [
    "y_clf_test[2:5]"
   ]
  },
  {
   "cell_type": "code",
   "execution_count": null,
   "metadata": {
    "id": "ihwnBmpabs58"
   },
   "outputs": [],
   "source": [
    "rms_loss20(y_clf_test[12:15],clf_model(X_clf_test[12:15]))"
   ]
  },
  {
   "cell_type": "code",
   "execution_count": null,
   "metadata": {
    "id": "V8u-BVkjb00k"
   },
   "outputs": [],
   "source": [
    "clf_model(X_clf_test[12:15]), y_clf_test[12:15]"
   ]
  },
  {
   "cell_type": "code",
   "execution_count": null,
   "metadata": {
    "id": "t_jFslmOj1jf"
   },
   "outputs": [],
   "source": []
  },
  {
   "cell_type": "code",
   "execution_count": null,
   "metadata": {
    "id": "q_aVsf-mj7U7"
   },
   "outputs": [],
   "source": [
    "  "
   ]
  }
 ],
 "metadata": {
  "colab": {
   "authorship_tag": "ABX9TyPbmSVCm0oZLMoI9htxBgC1",
   "collapsed_sections": [],
   "mount_file_id": "1fPArYKWSdxfGM3WxQkTxRDHr5kOyuI3A",
   "name": "learning",
   "provenance": [
    {
     "file_id": "1fPArYKWSdxfGM3WxQkTxRDHr5kOyuI3A",
     "timestamp": 1654046469819
    }
   ]
  },
  "kernelspec": {
   "display_name": "Python 3 (ipykernel)",
   "language": "python",
   "name": "python3"
  },
  "language_info": {
   "codemirror_mode": {
    "name": "ipython",
    "version": 3
   },
   "file_extension": ".py",
   "mimetype": "text/x-python",
   "name": "python",
   "nbconvert_exporter": "python",
   "pygments_lexer": "ipython3",
   "version": "3.9.7"
  }
 },
 "nbformat": 4,
 "nbformat_minor": 1
}
