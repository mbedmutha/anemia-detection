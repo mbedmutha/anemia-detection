{
 "cells": [
  {
   "cell_type": "code",
   "execution_count": 1,
   "metadata": {
    "id": "mm5kpDtpDsAo"
   },
   "outputs": [],
   "source": [
    "# import keras\n",
    "# Source for HAM10000: https://www.kaggle.com/alexako/cs200-1-u-net-skin-lesion-segmentation\n",
    "\n",
    "import cv2\n",
    "import numpy as np\n",
    "import glob\n",
    "import os\n",
    "from pathlib import Path\n",
    "from PIL import Image\n",
    "import random"
   ]
  },
  {
   "cell_type": "code",
   "execution_count": 2,
   "metadata": {
    "id": "-tsb64shHhCM"
   },
   "outputs": [
    {
     "ename": "ModuleNotFoundError",
     "evalue": "No module named 'tensorflow'",
     "output_type": "error",
     "traceback": [
      "\u001b[1;31m---------------------------------------------------------------------------\u001b[0m",
      "\u001b[1;31mModuleNotFoundError\u001b[0m                       Traceback (most recent call last)",
      "\u001b[1;32m~\\AppData\\Local\\Temp/ipykernel_16824/2212467874.py\u001b[0m in \u001b[0;36m<module>\u001b[1;34m\u001b[0m\n\u001b[1;32m----> 1\u001b[1;33m \u001b[1;32mimport\u001b[0m \u001b[0mtensorflow\u001b[0m \u001b[1;32mas\u001b[0m \u001b[0mtf\u001b[0m\u001b[1;33m\u001b[0m\u001b[1;33m\u001b[0m\u001b[0m\n\u001b[0m\u001b[0;32m      2\u001b[0m \u001b[1;32mfrom\u001b[0m \u001b[0mtf\u001b[0m\u001b[1;33m.\u001b[0m\u001b[0mkeras\u001b[0m\u001b[1;33m.\u001b[0m\u001b[0mmodels\u001b[0m \u001b[1;32mimport\u001b[0m \u001b[0mModel\u001b[0m\u001b[1;33m,\u001b[0m \u001b[0mSequential\u001b[0m\u001b[1;33m\u001b[0m\u001b[1;33m\u001b[0m\u001b[0m\n\u001b[0;32m      3\u001b[0m \u001b[1;32mfrom\u001b[0m \u001b[0mtf\u001b[0m\u001b[1;33m.\u001b[0m\u001b[0mkeras\u001b[0m\u001b[1;33m.\u001b[0m\u001b[0mlayers\u001b[0m \u001b[1;32mimport\u001b[0m \u001b[0mActivation\u001b[0m\u001b[1;33m,\u001b[0m \u001b[0mDense\u001b[0m\u001b[1;33m,\u001b[0m \u001b[0mBatchNormalization\u001b[0m\u001b[1;33m,\u001b[0m \u001b[0mDropout\u001b[0m\u001b[1;33m,\u001b[0m \u001b[0mConv2D\u001b[0m\u001b[1;33m,\u001b[0m \u001b[0mConv2DTranspose\u001b[0m\u001b[1;33m,\u001b[0m \u001b[0mMaxPooling2D\u001b[0m\u001b[1;33m,\u001b[0m \u001b[0mUpSampling2D\u001b[0m\u001b[1;33m,\u001b[0m \u001b[0mInput\u001b[0m\u001b[1;33m,\u001b[0m \u001b[0mReshape\u001b[0m\u001b[1;33m,\u001b[0m \u001b[0mGlobalAveragePooling2D\u001b[0m\u001b[1;33m\u001b[0m\u001b[1;33m\u001b[0m\u001b[0m\n\u001b[0;32m      4\u001b[0m \u001b[1;32mfrom\u001b[0m \u001b[0mkeras\u001b[0m\u001b[1;33m.\u001b[0m\u001b[0mcallbacks\u001b[0m \u001b[1;32mimport\u001b[0m \u001b[0mEarlyStopping\u001b[0m\u001b[1;33m\u001b[0m\u001b[1;33m\u001b[0m\u001b[0m\n\u001b[0;32m      5\u001b[0m \u001b[1;32mfrom\u001b[0m \u001b[0mkeras\u001b[0m \u001b[1;32mimport\u001b[0m \u001b[0mbackend\u001b[0m \u001b[1;32mas\u001b[0m \u001b[0mK\u001b[0m\u001b[1;33m\u001b[0m\u001b[1;33m\u001b[0m\u001b[0m\n",
      "\u001b[1;31mModuleNotFoundError\u001b[0m: No module named 'tensorflow'"
     ]
    }
   ],
   "source": [
    "import tensorflow as tf\n",
    "from keras.models import Model, Sequential\n",
    "from keras.layers import Activation, Dense, BatchNormalization, Dropout, Conv2D, Conv2DTranspose, MaxPooling2D, UpSampling2D, Input, Reshape, GlobalAveragePooling2D\n",
    "from keras.callbacks import EarlyStopping\n",
    "from keras import backend as K\n",
    "from keras.optimizers import adam_v2 #, SGD"
   ]
  },
  {
   "cell_type": "code",
   "execution_count": null,
   "metadata": {
    "id": "wnsHwDWRH3I-"
   },
   "outputs": [],
   "source": [
    "import numpy as np\n",
    "import pandas as pd\n",
    "import glob\n",
    "import PIL\n",
    "from PIL import Image\n",
    "import matplotlib.pyplot as plt\n",
    "import cv2t\n",
    "%matplotlib inline\n",
    "\n",
    "from keras.preprocessing.image import ImageDataGenerator\n",
    "from sklearn.model_selection import train_test_split\n",
    "from warnings import filterwarnings\n",
    "\n"
   ]
  },
  {
   "cell_type": "code",
   "execution_count": null,
   "metadata": {
    "id": "uHCZ35p2EH52"
   },
   "outputs": [],
   "source": [
    "from google.colab import drive\n",
    "drive.mount('/content/drive')"
   ]
  },
  {
   "cell_type": "code",
   "execution_count": null,
   "metadata": {
    "id": "pnv-ODLmDtbN"
   },
   "outputs": [],
   "source": [
    "root_folder = r\"/content/drive/MyDrive/Spring 2022/Machine Learning for Physical Applications/Project/Manas Trials/Self-Supervised/\""
   ]
  },
  {
   "cell_type": "code",
   "execution_count": null,
   "metadata": {
    "id": "6isCfN2PEUum"
   },
   "outputs": [],
   "source": [
    "filelist_trainx = sorted(glob.glob(os.path.join(root_folder, \"archive/ph2_resized\", \"trainx\",\"*.bmp\"))) #, key=numericalSort\n",
    "X_train = np.array([np.array(Image.open(fname)) for fname in filelist_trainx])\n",
    "print(filelist_trainx[21])\n",
    "\n",
    "filelist_trainy = sorted(glob.glob(os.path.join(root_folder, \"archive/ph2_resized\", \"trainy\",\"*.bmp\"))) # , key=numericalSort\n",
    "Y_train = np.array([np.array(Image.open(fname)) for fname in filelist_trainy])"
   ]
  },
  {
   "cell_type": "code",
   "execution_count": null,
   "metadata": {
    "id": "0afU7zyKIOdH"
   },
   "outputs": [],
   "source": [
    "x_train, x_test, y_train, y_test = train_test_split(X_train, Y_train, test_size = 0.25, random_state = 101)"
   ]
  },
  {
   "cell_type": "code",
   "execution_count": null,
   "metadata": {
    "id": "MviLGzAUElKh"
   },
   "outputs": [],
   "source": [
    "# glob.glob(os.path.join(root_folder, \"archive/ph2_resized\", \"trainx\",\"*.bmp\"))\n",
    "def iou(y_true, y_pred, smooth = 100):\n",
    "    intersection = K.sum(K.abs(y_true * y_pred), axis=-1)\n",
    "    sum_ = K.sum(K.square(y_true), axis = -1) + K.sum(K.square(y_pred), axis=-1)\n",
    "    jac = (intersection + smooth) / (sum_ - intersection + smooth)\n",
    "    return jac"
   ]
  },
  {
   "cell_type": "code",
   "execution_count": null,
   "metadata": {
    "id": "o2J-Yh3gE3mj"
   },
   "outputs": [],
   "source": [
    "def dice_coef(y_true, y_pred, smooth = 100):\n",
    "    y_true_f = K.flatten(y_true)\n",
    "    y_pred_f = K.flatten(y_pred)\n",
    "    intersection = K.sum(y_true_f * y_pred_f)\n",
    "    return (2. * intersection + smooth) / (K.sum(y_true_f) + K.sum(y_pred_f) + smooth)"
   ]
  },
  {
   "cell_type": "code",
   "execution_count": null,
   "metadata": {
    "id": "-tlyIzqaH7GP"
   },
   "outputs": [],
   "source": [
    "def precision(y_true, y_pred):\n",
    "    '''Calculates the precision, a metric for multi-label classification of\n",
    "    how many selected items are relevant.\n",
    "    '''\n",
    "    true_positives = K.sum(K.round(K.clip(y_true * y_pred, 0, 1)))\n",
    "    predicted_positives = K.sum(K.round(K.clip(y_pred, 0, 1)))\n",
    "    precision = true_positives / (predicted_positives + K.epsilon())\n",
    "    return precision"
   ]
  },
  {
   "cell_type": "code",
   "execution_count": null,
   "metadata": {
    "id": "KG-iodcyH8vF"
   },
   "outputs": [],
   "source": [
    "def recall(y_true, y_pred):\n",
    "    '''Calculates the recall, a metric for multi-label classification of\n",
    "    how many relevant items are selected.\n",
    "    '''\n",
    "    true_positives = K.sum(K.round(K.clip(y_true * y_pred, 0, 1)))\n",
    "    possible_positives = K.sum(K.round(K.clip(y_true, 0, 1)))\n",
    "    recall = true_positives / (possible_positives + K.epsilon())\n",
    "    return recall"
   ]
  },
  {
   "cell_type": "code",
   "execution_count": null,
   "metadata": {
    "id": "Av5jBDAoH-ZJ"
   },
   "outputs": [],
   "source": [
    "def accuracy(y_true, y_pred):\n",
    "    '''Calculates the mean accuracy rate across all predictions for binary\n",
    "    classification problems.\n",
    "    '''\n",
    "    return K.mean(K.equal(y_true, K.round(y_pred)))"
   ]
  },
  {
   "cell_type": "code",
   "execution_count": null,
   "metadata": {
    "id": "hDnOu2vjIAJQ"
   },
   "outputs": [],
   "source": [
    "def random_rotation(x_image, y_image):\n",
    "    rows_x,cols_x, chl_x = x_image.shape\n",
    "    rows_y,cols_y = y_image.shape\n",
    "    rand_num = np.random.randint(-40,40)\n",
    "    M1 = cv2.getRotationMatrix2D((cols_x/2,rows_x/2),rand_num,1)\n",
    "    M2 = cv2.getRotationMatrix2D((cols_y/2,rows_y/2),rand_num,1)\n",
    "    x_image = cv2.warpAffine(x_image,M1,(cols_x,rows_x))\n",
    "    y_image = cv2.warpAffine(y_image.astype('float32'),M2,(cols_y,rows_y))\n",
    "    return x_image, y_image.astype('int')\n",
    "\n",
    "def horizontal_flip(x_image, y_image):\n",
    "    x_image = cv2.flip(x_image, 1)\n",
    "    y_image = cv2.flip(y_image.astype('float32'), 1)\n",
    "    return x_image, y_image.astype('int')"
   ]
  },
  {
   "cell_type": "code",
   "execution_count": null,
   "metadata": {
    "id": "BDzMclzpIB_u"
   },
   "outputs": [],
   "source": [
    "def img_augmentation(x_train, y_train):\n",
    "    x_rotat = []\n",
    "    y_rotat = []\n",
    "    x_flip = []\n",
    "    y_flip = []\n",
    "    x_nois = []\n",
    "    for idx in range(len(x_train)):\n",
    "        x,y = random_rotation(x_train[idx], y_train[idx])\n",
    "        x_rotat.append(x)\n",
    "        y_rotat.append(y)\n",
    "        \n",
    "        x,y = horizontal_flip(x_train[idx], y_train[idx])\n",
    "        x_flip.append(x)\n",
    "        y_flip.append(y)\n",
    "        return np.array(x_rotat), np.array(y_rotat), np.array(x_flip), np.array(y_flip)"
   ]
  },
  {
   "cell_type": "code",
   "execution_count": null,
   "metadata": {
    "id": "dqdVEeQCIDm0"
   },
   "outputs": [],
   "source": [
    "def img_augmentation(x_test, y_test):\n",
    "    x_rotat = []\n",
    "    y_rotat = []\n",
    "    x_flip = []\n",
    "    y_flip = []\n",
    "    x_nois = []\n",
    "    for idx in range(len(x_test)):\n",
    "        x,y = random_rotation(x_test[idx], y_test[idx])\n",
    "        x_rotat.append(x)\n",
    "        y_rotat.append(y)\n",
    "        \n",
    "        x,y = horizontal_flip(x_test[idx], y_test[idx])\n",
    "        x_flip.append(x)\n",
    "        y_flip.append(y)\n",
    "\n",
    "    return np.array(x_rotat), np.array(y_rotat), np.array(x_flip), np.array(y_flip)"
   ]
  },
  {
   "cell_type": "code",
   "execution_count": null,
   "metadata": {
    "id": "CXHxJ92fIFJO"
   },
   "outputs": [],
   "source": [
    "x_rotated, y_rotated, x_flipped, y_flipped = img_augmentation(x_train, y_train)\n",
    "x_rotated_t, y_rotated_t, x_flipped_t, y_flipped_t = img_augmentation(x_test, y_test)"
   ]
  },
  {
   "cell_type": "code",
   "execution_count": null,
   "metadata": {
    "id": "7LR4S9gxIHv_"
   },
   "outputs": [],
   "source": [
    "# For training Set\n",
    "x_train_full = np.concatenate([x_train, x_rotated, x_flipped])\n",
    "y_train_full = np.concatenate([y_train, y_rotated, y_flipped])"
   ]
  },
  {
   "cell_type": "code",
   "execution_count": null,
   "metadata": {
    "id": "T_MMDjHzIZGM"
   },
   "outputs": [],
   "source": [
    "x_train, x_val, y_train, y_val = train_test_split(x_train_full, y_train_full, test_size = 0.30, random_state = 101)"
   ]
  },
  {
   "cell_type": "code",
   "execution_count": null,
   "metadata": {
    "colab": {
     "base_uri": "https://localhost:8080/"
    },
    "executionInfo": {
     "elapsed": 4,
     "status": "ok",
     "timestamp": 1654046557094,
     "user": {
      "displayName": "Manas Bedmutha",
      "userId": "04322851682834695279"
     },
     "user_tz": 420
    },
    "id": "SQTsrgbMIbTz",
    "outputId": "5f60da59-6cd3-414b-821b-daad55cd28cb"
   },
   "outputs": [
    {
     "name": "stdout",
     "output_type": "stream",
     "text": [
      "Length of the Training Set   : 315\n",
      "Length of the Test Set       : 50\n",
      "Length of the Validation Set : 135\n"
     ]
    }
   ],
   "source": [
    "print(\"Length of the Training Set   : {}\".format(len(x_train)))\n",
    "print(\"Length of the Test Set       : {}\".format(len(x_test)))\n",
    "print(\"Length of the Validation Set : {}\".format(len(x_val)))"
   ]
  },
  {
   "cell_type": "code",
   "execution_count": null,
   "metadata": {
    "id": "8oPOdW_DIiTB"
   },
   "outputs": [],
   "source": [
    "def encoder(img_input):\n",
    "  x = Conv2D(64, (3, 3), padding='same', name='conv1',strides= (1,1))(img_input)\n",
    "  x = BatchNormalization(name='bn1')(x)\n",
    "  x = Activation('relu')(x)\n",
    "  x = Conv2D(64, (3, 3), padding='same', name='conv2')(x)\n",
    "  x = BatchNormalization(name='bn2')(x)\n",
    "  x = Activation('relu')(x)\n",
    "  x = MaxPooling2D()(x)\n",
    "\n",
    "  x = Conv2D(128, (3, 3), padding='same', name='conv3')(x)\n",
    "  x = BatchNormalization(name='bn3')(x)\n",
    "  x = Activation('relu')(x)\n",
    "  x = Conv2D(128, (3, 3), padding='same', name='conv4')(x)\n",
    "  x = BatchNormalization(name='bn4')(x)\n",
    "  x = Activation('relu')(x)\n",
    "  x = MaxPooling2D()(x)\n",
    "\n",
    "  x = Conv2D(256, (3, 3), padding='same', name='conv5')(x)\n",
    "  x = BatchNormalization(name='bn5')(x)\n",
    "  x = Activation('relu')(x)\n",
    "  x = Conv2D(256, (3, 3), padding='same', name='conv6')(x)\n",
    "  x = BatchNormalization(name='bn6')(x)\n",
    "  x = Activation('relu')(x)\n",
    "  x = Conv2D(256, (3, 3), padding='same', name='conv7')(x)\n",
    "  x = BatchNormalization(name='bn7')(x)\n",
    "  x = Activation('relu')(x)\n",
    "  x = MaxPooling2D()(x)\n",
    "\n",
    "  x = Conv2D(512, (3, 3), padding='same', name='conv8')(x)\n",
    "  x = BatchNormalization(name='bn8')(x)\n",
    "  x = Activation('relu')(x)\n",
    "  x = Conv2D(512, (3, 3), padding='same', name='conv9')(x)\n",
    "  x = BatchNormalization(name='bn9')(x)\n",
    "  x = Activation('relu')(x)\n",
    "  x = Conv2D(512, (3, 3), padding='same', name='conv10')(x)\n",
    "  x = BatchNormalization(name='bn10')(x)\n",
    "  x = Activation('relu')(x)\n",
    "  x = MaxPooling2D()(x)\n",
    "\n",
    "  x = Conv2D(512, (3, 3), padding='same', name='conv11')(x)\n",
    "  x = BatchNormalization(name='bn11')(x)\n",
    "  x = Activation('relu')(x)\n",
    "  x = Conv2D(512, (3, 3), padding='same', name='conv12')(x)\n",
    "  x = BatchNormalization(name='bn12')(x)\n",
    "  x = Activation('relu')(x)\n",
    "  x = Conv2D(512, (3, 3), padding='same', name='conv13')(x)\n",
    "  x = BatchNormalization(name='bn13')(x)\n",
    "  x = Activation('relu')(x)\n",
    "  x = MaxPooling2D()(x)\n",
    "\n",
    "  x = Dense(1024, activation = 'relu', name='fc1')(x)\n",
    "  x = Dense(1024, activation = 'relu', name='fc2')(x)\n",
    "\n",
    "  return x"
   ]
  },
  {
   "cell_type": "code",
   "execution_count": null,
   "metadata": {
    "id": "gJDL2-edI-5h"
   },
   "outputs": [],
   "source": [
    "def decoder(enc):\n",
    "  # Decoding Layer \n",
    "  x = UpSampling2D()(enc)\n",
    "  x = Conv2DTranspose(512, (3, 3), padding='same', name='deconv1')(x)\n",
    "  x = BatchNormalization(name='bn14')(x)\n",
    "  x = Activation('relu')(x)\n",
    "  x = Conv2DTranspose(512, (3, 3), padding='same', name='deconv2')(x)\n",
    "  x = BatchNormalization(name='bn15')(x)\n",
    "  x = Activation('relu')(x)\n",
    "  x = Conv2DTranspose(512, (3, 3), padding='same', name='deconv3')(x)\n",
    "  x = BatchNormalization(name='bn16')(x)\n",
    "  x = Activation('relu')(x)\n",
    "\n",
    "  x = UpSampling2D()(x)\n",
    "  x = Conv2DTranspose(512, (3, 3), padding='same', name='deconv4')(x)\n",
    "  x = BatchNormalization(name='bn17')(x)\n",
    "  x = Activation('relu')(x)\n",
    "  x = Conv2DTranspose(512, (3, 3), padding='same', name='deconv5')(x)\n",
    "  x = BatchNormalization(name='bn18')(x)\n",
    "  x = Activation('relu')(x)\n",
    "  x = Conv2DTranspose(256, (3, 3), padding='same', name='deconv6')(x)\n",
    "  x = BatchNormalization(name='bn19')(x)\n",
    "  x = Activation('relu')(x)\n",
    "\n",
    "  x = UpSampling2D()(x)\n",
    "  x = Conv2DTranspose(256, (3, 3), padding='same', name='deconv7')(x)\n",
    "  x = BatchNormalization(name='bn20')(x)\n",
    "  x = Activation('relu')(x)\n",
    "  x = Conv2DTranspose(256, (3, 3), padding='same', name='deconv8')(x)\n",
    "  x = BatchNormalization(name='bn21')(x)\n",
    "  x = Activation('relu')(x)\n",
    "  x = Conv2DTranspose(128, (3, 3), padding='same', name='deconv9')(x)\n",
    "  x = BatchNormalization(name='bn22')(x)\n",
    "  x = Activation('relu')(x)\n",
    "\n",
    "  x = UpSampling2D()(x)\n",
    "  x = Conv2DTranspose(128, (3, 3), padding='same', name='deconv10')(x)\n",
    "  x = BatchNormalization(name='bn23')(x)\n",
    "  x = Activation('relu')(x)\n",
    "  x = Conv2DTranspose(64, (3, 3), padding='same', name='deconv11')(x)\n",
    "  x = BatchNormalization(name='bn24')(x)\n",
    "  x = Activation('relu')(x)\n",
    "\n",
    "  x = UpSampling2D()(x)\n",
    "  x = Conv2DTranspose(64, (3, 3), padding='same', name='deconv12')(x)\n",
    "  x = BatchNormalization(name='bn25')(x)\n",
    "  x = Activation('relu')(x)\n",
    "  x = Conv2DTranspose(1, (3, 3), padding='same', name='deconv13')(x)\n",
    "  x = BatchNormalization(name='bn26')(x)\n",
    "  x = Activation('sigmoid')(x)\n",
    "  return x\n"
   ]
  },
  {
   "cell_type": "code",
   "execution_count": null,
   "metadata": {
    "id": "ElfKNq0JIdOJ"
   },
   "outputs": [],
   "source": [
    "def unet():\n",
    "\n",
    "    # Encoding layer\n",
    "#     img_input = Input(shape= (192, 256, 3))\n",
    "    img_input = Input(shape= (None, None, 3))\n",
    "    enc = encoder(img_input)\n",
    "    dec = decoder(enc)\n",
    "    pred = Reshape((192,256))(dec)\n",
    "    \n",
    "    model = Model(inputs=img_input, outputs=pred)\n",
    "    \n",
    "    model.compile(optimizer= adam_v2.Adam(learning_rate=0.001), loss= [\"binary_crossentropy\"]\n",
    "                  , metrics=[iou, dice_coef, precision, recall, accuracy])\n",
    "    # , momentum=0.9, decay=0.0005, nesterov=False)\n",
    "    print(\"Model compiled successfully\") #model.summary()\n",
    "    return model"
   ]
  },
  {
   "cell_type": "code",
   "execution_count": null,
   "metadata": {
    "id": "veyf1WrWOaQC"
   },
   "outputs": [],
   "source": [
    "def train(epochs_num, savename):\n",
    "    model = unet() #epochs_num, savename)\n",
    "    hist = model.fit(x_train, y_train, epochs= epochs_num, batch_size= 18, validation_data= (x_val, y_val), verbose=1)\n",
    "    model.save(savename)\n",
    "    return model,hist"
   ]
  },
  {
   "cell_type": "code",
   "execution_count": null,
   "metadata": {
    "colab": {
     "base_uri": "https://localhost:8080/"
    },
    "executionInfo": {
     "elapsed": 1351496,
     "status": "ok",
     "timestamp": 1654047910899,
     "user": {
      "displayName": "Manas Bedmutha",
      "userId": "04322851682834695279"
     },
     "user_tz": 420
    },
    "id": "7Ti1uov0JT2A",
    "outputId": "69bca635-a561-4494-faf3-3df8be0f089a"
   },
   "outputs": [
    {
     "name": "stdout",
     "output_type": "stream",
     "text": [
      "Model compiled successfully\n",
      "Epoch 1/100\n",
      "18/18 [==============================] - 16s 717ms/step - loss: 0.5339 - iou: 0.7723 - dice_coef: 0.5363 - precision: 0.6876 - recall: 0.7371 - accuracy: 0.7955 - val_loss: 10.2617 - val_iou: 0.5135 - val_dice_coef: 0.4782 - val_precision: 0.3157 - val_recall: 0.9985 - val_accuracy: 0.3232\n",
      "Epoch 2/100\n",
      "18/18 [==============================] - 12s 671ms/step - loss: 0.4449 - iou: 0.8126 - dice_coef: 0.5847 - precision: 0.8040 - recall: 0.8376 - accuracy: 0.8725 - val_loss: 10.4190 - val_iou: 0.5085 - val_dice_coef: 0.4748 - val_precision: 0.3127 - val_recall: 1.0000 - val_accuracy: 0.3128\n",
      "Epoch 3/100\n",
      "18/18 [==============================] - 12s 678ms/step - loss: 0.4172 - iou: 0.8278 - dice_coef: 0.6042 - precision: 0.8230 - recall: 0.8834 - accuracy: 0.8963 - val_loss: 10.3684 - val_iou: 0.5097 - val_dice_coef: 0.4759 - val_precision: 0.3136 - val_recall: 0.9996 - val_accuracy: 0.3161\n",
      "Epoch 4/100\n",
      "18/18 [==============================] - 12s 690ms/step - loss: 0.4281 - iou: 0.8236 - dice_coef: 0.5968 - precision: 0.8029 - recall: 0.8640 - accuracy: 0.8752 - val_loss: 10.3479 - val_iou: 0.5097 - val_dice_coef: 0.4759 - val_precision: 0.3136 - val_recall: 0.9996 - val_accuracy: 0.3162\n",
      "Epoch 5/100\n",
      "18/18 [==============================] - 12s 691ms/step - loss: 0.4107 - iou: 0.8324 - dice_coef: 0.6068 - precision: 0.8115 - recall: 0.8841 - accuracy: 0.8896 - val_loss: 10.0053 - val_iou: 0.5119 - val_dice_coef: 0.4774 - val_precision: 0.3148 - val_recall: 0.9987 - val_accuracy: 0.3200\n",
      "Epoch 6/100\n",
      "18/18 [==============================] - 12s 696ms/step - loss: 0.4207 - iou: 0.8281 - dice_coef: 0.5988 - precision: 0.8210 - recall: 0.8419 - accuracy: 0.8785 - val_loss: 10.1017 - val_iou: 0.5105 - val_dice_coef: 0.4764 - val_precision: 0.3137 - val_recall: 0.9996 - val_accuracy: 0.3165\n",
      "Epoch 7/100\n",
      "18/18 [==============================] - 13s 702ms/step - loss: 0.3920 - iou: 0.8414 - dice_coef: 0.6162 - precision: 0.8294 - recall: 0.8817 - accuracy: 0.8983 - val_loss: 5.2076 - val_iou: 0.5683 - val_dice_coef: 0.5061 - val_precision: 0.3504 - val_recall: 0.9699 - val_accuracy: 0.4277\n",
      "Epoch 8/100\n",
      "18/18 [==============================] - 13s 706ms/step - loss: 0.3902 - iou: 0.8439 - dice_coef: 0.6133 - precision: 0.8235 - recall: 0.8823 - accuracy: 0.8929 - val_loss: 1.0949 - val_iou: 0.6261 - val_dice_coef: 0.4937 - val_precision: 0.3488 - val_recall: 0.9229 - val_accuracy: 0.4359\n",
      "Epoch 9/100\n",
      "18/18 [==============================] - 13s 711ms/step - loss: 0.3864 - iou: 0.8455 - dice_coef: 0.6216 - precision: 0.8130 - recall: 0.8969 - accuracy: 0.8913 - val_loss: 3.2344 - val_iou: 0.5777 - val_dice_coef: 0.5196 - val_precision: 0.3426 - val_recall: 0.9988 - val_accuracy: 0.4012\n",
      "Epoch 10/100\n",
      "18/18 [==============================] - 13s 718ms/step - loss: 0.3601 - iou: 0.8581 - dice_coef: 0.6391 - precision: 0.8499 - recall: 0.9102 - accuracy: 0.9148 - val_loss: 0.8310 - val_iou: 0.7275 - val_dice_coef: 0.5241 - val_precision: 0.4863 - val_recall: 0.7127 - val_accuracy: 0.6744\n",
      "Epoch 11/100\n",
      "18/18 [==============================] - 13s 715ms/step - loss: 0.3492 - iou: 0.8639 - dice_coef: 0.6452 - precision: 0.8741 - recall: 0.9077 - accuracy: 0.9239 - val_loss: 0.7229 - val_iou: 0.7651 - val_dice_coef: 0.6105 - val_precision: 0.5525 - val_recall: 0.9489 - val_accuracy: 0.7412\n",
      "Epoch 12/100\n",
      "18/18 [==============================] - 13s 720ms/step - loss: 0.3324 - iou: 0.8724 - dice_coef: 0.6563 - precision: 0.8856 - recall: 0.9266 - accuracy: 0.9344 - val_loss: 0.8526 - val_iou: 0.7385 - val_dice_coef: 0.5452 - val_precision: 0.5048 - val_recall: 0.7518 - val_accuracy: 0.6894\n",
      "Epoch 13/100\n",
      "18/18 [==============================] - 13s 726ms/step - loss: 0.3376 - iou: 0.8707 - dice_coef: 0.6537 - precision: 0.8794 - recall: 0.9146 - accuracy: 0.9266 - val_loss: 0.5427 - val_iou: 0.8039 - val_dice_coef: 0.6216 - val_precision: 0.6228 - val_recall: 0.9455 - val_accuracy: 0.7995\n",
      "Epoch 14/100\n",
      "18/18 [==============================] - 13s 729ms/step - loss: 0.3395 - iou: 0.8698 - dice_coef: 0.6527 - precision: 0.8830 - recall: 0.8968 - accuracy: 0.9221 - val_loss: 0.7257 - val_iou: 0.7283 - val_dice_coef: 0.5793 - val_precision: 0.5014 - val_recall: 0.9676 - val_accuracy: 0.6866\n",
      "Epoch 15/100\n",
      "18/18 [==============================] - 13s 732ms/step - loss: 0.3340 - iou: 0.8725 - dice_coef: 0.6565 - precision: 0.8745 - recall: 0.9010 - accuracy: 0.9221 - val_loss: 0.6010 - val_iou: 0.7752 - val_dice_coef: 0.6005 - val_precision: 0.5700 - val_recall: 0.8676 - val_accuracy: 0.7552\n",
      "Epoch 16/100\n",
      "18/18 [==============================] - 13s 739ms/step - loss: 0.3297 - iou: 0.8755 - dice_coef: 0.6584 - precision: 0.8639 - recall: 0.9212 - accuracy: 0.9233 - val_loss: 0.5742 - val_iou: 0.7852 - val_dice_coef: 0.6209 - val_precision: 0.6022 - val_recall: 0.9406 - val_accuracy: 0.7874\n",
      "Epoch 17/100\n",
      "18/18 [==============================] - 13s 739ms/step - loss: 0.3303 - iou: 0.8740 - dice_coef: 0.6580 - precision: 0.8887 - recall: 0.8844 - accuracy: 0.9203 - val_loss: 0.5730 - val_iou: 0.7878 - val_dice_coef: 0.5783 - val_precision: 0.5890 - val_recall: 0.8166 - val_accuracy: 0.7641\n",
      "Epoch 18/100\n",
      "18/18 [==============================] - 13s 743ms/step - loss: 0.3116 - iou: 0.8841 - dice_coef: 0.6722 - precision: 0.8883 - recall: 0.9157 - accuracy: 0.9322 - val_loss: 0.4774 - val_iou: 0.8163 - val_dice_coef: 0.6472 - val_precision: 0.6365 - val_recall: 0.9223 - val_accuracy: 0.8106\n",
      "Epoch 19/100\n",
      "18/18 [==============================] - 13s 746ms/step - loss: 0.3051 - iou: 0.8881 - dice_coef: 0.6766 - precision: 0.8980 - recall: 0.9161 - accuracy: 0.9352 - val_loss: 0.4950 - val_iou: 0.8068 - val_dice_coef: 0.6297 - val_precision: 0.6059 - val_recall: 0.9552 - val_accuracy: 0.7924\n",
      "Epoch 20/100\n",
      "18/18 [==============================] - 13s 749ms/step - loss: 0.2957 - iou: 0.8922 - dice_coef: 0.6833 - precision: 0.9073 - recall: 0.9208 - accuracy: 0.9404 - val_loss: 0.3827 - val_iou: 0.8498 - val_dice_coef: 0.6540 - val_precision: 0.7161 - val_recall: 0.9590 - val_accuracy: 0.8671\n",
      "Epoch 21/100\n",
      "18/18 [==============================] - 13s 751ms/step - loss: 0.2978 - iou: 0.8913 - dice_coef: 0.6843 - precision: 0.8930 - recall: 0.9224 - accuracy: 0.9345 - val_loss: 0.5510 - val_iou: 0.8001 - val_dice_coef: 0.6270 - val_precision: 0.5675 - val_recall: 0.9441 - val_accuracy: 0.7564\n",
      "Epoch 22/100\n",
      "18/18 [==============================] - 13s 751ms/step - loss: 0.2938 - iou: 0.8935 - dice_coef: 0.6855 - precision: 0.9002 - recall: 0.9200 - accuracy: 0.9368 - val_loss: 0.3582 - val_iou: 0.8666 - val_dice_coef: 0.6999 - val_precision: 0.7450 - val_recall: 0.9536 - val_accuracy: 0.8825\n",
      "Epoch 23/100\n",
      "18/18 [==============================] - 13s 753ms/step - loss: 0.2820 - iou: 0.9001 - dice_coef: 0.6981 - precision: 0.9039 - recall: 0.9312 - accuracy: 0.9432 - val_loss: 0.4344 - val_iou: 0.8373 - val_dice_coef: 0.6753 - val_precision: 0.6534 - val_recall: 0.9497 - val_accuracy: 0.8261\n",
      "Epoch 24/100\n",
      "18/18 [==============================] - 14s 758ms/step - loss: 0.2905 - iou: 0.8961 - dice_coef: 0.6905 - precision: 0.9040 - recall: 0.9077 - accuracy: 0.9333 - val_loss: 0.4139 - val_iou: 0.8394 - val_dice_coef: 0.6640 - val_precision: 0.6960 - val_recall: 0.9470 - val_accuracy: 0.8514\n",
      "Epoch 25/100\n",
      "18/18 [==============================] - 14s 760ms/step - loss: 0.2947 - iou: 0.8926 - dice_coef: 0.6879 - precision: 0.8781 - recall: 0.9130 - accuracy: 0.9251 - val_loss: 0.9918 - val_iou: 0.6727 - val_dice_coef: 0.5521 - val_precision: 0.4109 - val_recall: 0.9848 - val_accuracy: 0.5553\n",
      "Epoch 26/100\n",
      "18/18 [==============================] - 14s 758ms/step - loss: 0.2906 - iou: 0.8952 - dice_coef: 0.6907 - precision: 0.8960 - recall: 0.9024 - accuracy: 0.9294 - val_loss: 0.8202 - val_iou: 0.7221 - val_dice_coef: 0.6002 - val_precision: 0.4861 - val_recall: 0.9921 - val_accuracy: 0.6698\n",
      "Epoch 27/100\n",
      "18/18 [==============================] - 14s 764ms/step - loss: 0.2711 - iou: 0.9053 - dice_coef: 0.7040 - precision: 0.9032 - recall: 0.9306 - accuracy: 0.9423 - val_loss: 0.3283 - val_iou: 0.8739 - val_dice_coef: 0.7055 - val_precision: 0.7363 - val_recall: 0.9531 - val_accuracy: 0.8780\n",
      "Epoch 28/100\n",
      "18/18 [==============================] - 14s 763ms/step - loss: 0.2616 - iou: 0.9103 - dice_coef: 0.7126 - precision: 0.9186 - recall: 0.9284 - accuracy: 0.9473 - val_loss: 0.4537 - val_iou: 0.8163 - val_dice_coef: 0.6483 - val_precision: 0.6233 - val_recall: 0.9610 - val_accuracy: 0.8061\n",
      "Epoch 29/100\n",
      "18/18 [==============================] - 14s 763ms/step - loss: 0.2583 - iou: 0.9118 - dice_coef: 0.7131 - precision: 0.9234 - recall: 0.9273 - accuracy: 0.9483 - val_loss: 0.3224 - val_iou: 0.8782 - val_dice_coef: 0.6766 - val_precision: 0.7816 - val_recall: 0.9500 - val_accuracy: 0.9002\n",
      "Epoch 30/100\n",
      "18/18 [==============================] - 14s 765ms/step - loss: 0.2628 - iou: 0.9098 - dice_coef: 0.7103 - precision: 0.9017 - recall: 0.9322 - accuracy: 0.9421 - val_loss: 0.7013 - val_iou: 0.7476 - val_dice_coef: 0.5867 - val_precision: 0.4867 - val_recall: 0.9799 - val_accuracy: 0.6719\n",
      "Epoch 31/100\n",
      "18/18 [==============================] - 14s 765ms/step - loss: 0.2695 - iou: 0.9060 - dice_coef: 0.7078 - precision: 0.9060 - recall: 0.9055 - accuracy: 0.9321 - val_loss: 0.7614 - val_iou: 0.7466 - val_dice_coef: 0.6166 - val_precision: 0.5009 - val_recall: 0.9633 - val_accuracy: 0.6883\n",
      "Epoch 32/100\n",
      "18/18 [==============================] - 14s 765ms/step - loss: 0.2654 - iou: 0.9075 - dice_coef: 0.7087 - precision: 0.9167 - recall: 0.9050 - accuracy: 0.9373 - val_loss: 0.3615 - val_iou: 0.8595 - val_dice_coef: 0.6958 - val_precision: 0.7167 - val_recall: 0.9695 - val_accuracy: 0.8709\n",
      "Epoch 33/100\n",
      "18/18 [==============================] - 14s 760ms/step - loss: 0.2491 - iou: 0.9163 - dice_coef: 0.7247 - precision: 0.9206 - recall: 0.9246 - accuracy: 0.9461 - val_loss: 0.3508 - val_iou: 0.8653 - val_dice_coef: 0.6611 - val_precision: 0.7365 - val_recall: 0.9309 - val_accuracy: 0.8728\n",
      "Epoch 34/100\n",
      "18/18 [==============================] - 14s 762ms/step - loss: 0.2518 - iou: 0.9149 - dice_coef: 0.7236 - precision: 0.9094 - recall: 0.9269 - accuracy: 0.9430 - val_loss: 0.2186 - val_iou: 0.9235 - val_dice_coef: 0.7772 - val_precision: 0.8506 - val_recall: 0.9458 - val_accuracy: 0.9308\n",
      "Epoch 35/100\n",
      "18/18 [==============================] - 14s 764ms/step - loss: 0.2579 - iou: 0.9114 - dice_coef: 0.7184 - precision: 0.9094 - recall: 0.9051 - accuracy: 0.9368 - val_loss: 0.2538 - val_iou: 0.9083 - val_dice_coef: 0.7405 - val_precision: 0.8365 - val_recall: 0.9046 - val_accuracy: 0.9154\n",
      "Epoch 36/100\n",
      "18/18 [==============================] - 14s 762ms/step - loss: 0.2376 - iou: 0.9216 - dice_coef: 0.7347 - precision: 0.9149 - recall: 0.9370 - accuracy: 0.9494 - val_loss: 0.2685 - val_iou: 0.9038 - val_dice_coef: 0.7366 - val_precision: 0.8119 - val_recall: 0.9333 - val_accuracy: 0.9112\n",
      "Epoch 37/100\n",
      "18/18 [==============================] - 14s 761ms/step - loss: 0.2391 - iou: 0.9212 - dice_coef: 0.7315 - precision: 0.9109 - recall: 0.9377 - accuracy: 0.9487 - val_loss: 0.2599 - val_iou: 0.9052 - val_dice_coef: 0.7607 - val_precision: 0.8164 - val_recall: 0.9534 - val_accuracy: 0.9181\n",
      "Epoch 38/100\n",
      "18/18 [==============================] - 14s 760ms/step - loss: 0.2263 - iou: 0.9275 - dice_coef: 0.7413 - precision: 0.9277 - recall: 0.9431 - accuracy: 0.9561 - val_loss: 0.2570 - val_iou: 0.9085 - val_dice_coef: 0.7169 - val_precision: 0.9082 - val_recall: 0.8600 - val_accuracy: 0.9279\n",
      "Epoch 39/100\n",
      "18/18 [==============================] - 14s 759ms/step - loss: 0.2233 - iou: 0.9280 - dice_coef: 0.7440 - precision: 0.9354 - recall: 0.9354 - accuracy: 0.9559 - val_loss: 0.3183 - val_iou: 0.8759 - val_dice_coef: 0.6866 - val_precision: 0.7712 - val_recall: 0.9327 - val_accuracy: 0.8917\n",
      "Epoch 40/100\n",
      "18/18 [==============================] - 14s 758ms/step - loss: 0.2293 - iou: 0.9254 - dice_coef: 0.7424 - precision: 0.9296 - recall: 0.9273 - accuracy: 0.9507 - val_loss: 0.2723 - val_iou: 0.9028 - val_dice_coef: 0.7043 - val_precision: 0.8584 - val_recall: 0.9514 - val_accuracy: 0.9353\n",
      "Epoch 41/100\n",
      "18/18 [==============================] - 14s 759ms/step - loss: 0.2166 - iou: 0.9319 - dice_coef: 0.7531 - precision: 0.9394 - recall: 0.9360 - accuracy: 0.9576 - val_loss: 0.2926 - val_iou: 0.8902 - val_dice_coef: 0.7209 - val_precision: 0.7609 - val_recall: 0.9722 - val_accuracy: 0.8952\n",
      "Epoch 42/100\n",
      "18/18 [==============================] - 14s 759ms/step - loss: 0.2129 - iou: 0.9328 - dice_coef: 0.7536 - precision: 0.9329 - recall: 0.9461 - accuracy: 0.9595 - val_loss: 0.2143 - val_iou: 0.9293 - val_dice_coef: 0.7526 - val_precision: 0.8970 - val_recall: 0.9403 - val_accuracy: 0.9476\n",
      "Epoch 43/100\n",
      "18/18 [==============================] - 14s 759ms/step - loss: 0.2146 - iou: 0.9319 - dice_coef: 0.7552 - precision: 0.9267 - recall: 0.9451 - accuracy: 0.9561 - val_loss: 0.2631 - val_iou: 0.9067 - val_dice_coef: 0.7196 - val_precision: 0.8353 - val_recall: 0.9314 - val_accuracy: 0.9200\n",
      "Epoch 44/100\n",
      "18/18 [==============================] - 14s 757ms/step - loss: 0.2107 - iou: 0.9334 - dice_coef: 0.7563 - precision: 0.9360 - recall: 0.9390 - accuracy: 0.9578 - val_loss: 0.2469 - val_iou: 0.9122 - val_dice_coef: 0.7434 - val_precision: 0.8175 - val_recall: 0.9697 - val_accuracy: 0.9219\n",
      "Epoch 45/100\n",
      "18/18 [==============================] - 14s 757ms/step - loss: 0.2099 - iou: 0.9348 - dice_coef: 0.7586 - precision: 0.9396 - recall: 0.9369 - accuracy: 0.9581 - val_loss: 0.2007 - val_iou: 0.9362 - val_dice_coef: 0.7578 - val_precision: 0.9111 - val_recall: 0.9456 - val_accuracy: 0.9544\n",
      "Epoch 46/100\n",
      "18/18 [==============================] - 14s 756ms/step - loss: 0.2201 - iou: 0.9285 - dice_coef: 0.7531 - precision: 0.9168 - recall: 0.9401 - accuracy: 0.9494 - val_loss: 0.2599 - val_iou: 0.9081 - val_dice_coef: 0.7359 - val_precision: 0.8397 - val_recall: 0.9167 - val_accuracy: 0.9179\n",
      "Epoch 47/100\n",
      "18/18 [==============================] - 14s 756ms/step - loss: 0.2208 - iou: 0.9283 - dice_coef: 0.7524 - precision: 0.9266 - recall: 0.9185 - accuracy: 0.9468 - val_loss: 0.3933 - val_iou: 0.8508 - val_dice_coef: 0.6700 - val_precision: 0.6915 - val_recall: 0.8951 - val_accuracy: 0.8423\n",
      "Epoch 48/100\n",
      "18/18 [==============================] - 14s 758ms/step - loss: 0.2037 - iou: 0.9366 - dice_coef: 0.7669 - precision: 0.9375 - recall: 0.9342 - accuracy: 0.9565 - val_loss: 0.3423 - val_iou: 0.8718 - val_dice_coef: 0.6798 - val_precision: 0.7292 - val_recall: 0.9585 - val_accuracy: 0.8750\n",
      "Epoch 49/100\n",
      "18/18 [==============================] - 14s 757ms/step - loss: 0.2082 - iou: 0.9348 - dice_coef: 0.7632 - precision: 0.9304 - recall: 0.9337 - accuracy: 0.9537 - val_loss: 0.2908 - val_iou: 0.8936 - val_dice_coef: 0.7200 - val_precision: 0.8008 - val_recall: 0.9416 - val_accuracy: 0.9076\n",
      "Epoch 50/100\n",
      "18/18 [==============================] - 14s 762ms/step - loss: 0.1978 - iou: 0.9396 - dice_coef: 0.7722 - precision: 0.9356 - recall: 0.9458 - accuracy: 0.9592 - val_loss: 0.1999 - val_iou: 0.9332 - val_dice_coef: 0.7963 - val_precision: 0.8937 - val_recall: 0.9176 - val_accuracy: 0.9389\n",
      "Epoch 51/100\n",
      "18/18 [==============================] - 14s 763ms/step - loss: 0.1918 - iou: 0.9422 - dice_coef: 0.7744 - precision: 0.9431 - recall: 0.9415 - accuracy: 0.9616 - val_loss: 0.2715 - val_iou: 0.8997 - val_dice_coef: 0.7329 - val_precision: 0.8091 - val_recall: 0.9505 - val_accuracy: 0.9137\n",
      "Epoch 52/100\n",
      "18/18 [==============================] - 14s 759ms/step - loss: 0.1984 - iou: 0.9388 - dice_coef: 0.7723 - precision: 0.9390 - recall: 0.9363 - accuracy: 0.9579 - val_loss: 0.4453 - val_iou: 0.8262 - val_dice_coef: 0.5414 - val_precision: 0.8963 - val_recall: 0.4961 - val_accuracy: 0.8216\n",
      "Epoch 53/100\n",
      "18/18 [==============================] - 14s 761ms/step - loss: 0.1907 - iou: 0.9425 - dice_coef: 0.7773 - precision: 0.9347 - recall: 0.9501 - accuracy: 0.9616 - val_loss: 0.4179 - val_iou: 0.8489 - val_dice_coef: 0.6004 - val_precision: 0.9812 - val_recall: 0.5330 - val_accuracy: 0.8495\n",
      "Epoch 54/100\n",
      "18/18 [==============================] - 14s 762ms/step - loss: 0.2007 - iou: 0.9370 - dice_coef: 0.7701 - precision: 0.9439 - recall: 0.9250 - accuracy: 0.9545 - val_loss: 0.2544 - val_iou: 0.9129 - val_dice_coef: 0.7317 - val_precision: 0.8853 - val_recall: 0.8567 - val_accuracy: 0.9192\n",
      "Epoch 55/100\n",
      "18/18 [==============================] - 14s 760ms/step - loss: 0.1917 - iou: 0.9409 - dice_coef: 0.7759 - precision: 0.9329 - recall: 0.9514 - accuracy: 0.9603 - val_loss: 0.1954 - val_iou: 0.9387 - val_dice_coef: 0.7736 - val_precision: 0.9236 - val_recall: 0.9469 - val_accuracy: 0.9590\n",
      "Epoch 56/100\n",
      "18/18 [==============================] - 14s 763ms/step - loss: 0.1744 - iou: 0.9498 - dice_coef: 0.7932 - precision: 0.9506 - recall: 0.9535 - accuracy: 0.9678 - val_loss: 0.1777 - val_iou: 0.9467 - val_dice_coef: 0.7847 - val_precision: 0.9357 - val_recall: 0.9436 - val_accuracy: 0.9623\n",
      "Epoch 57/100\n",
      "18/18 [==============================] - 14s 764ms/step - loss: 0.1710 - iou: 0.9512 - dice_coef: 0.7949 - precision: 0.9553 - recall: 0.9562 - accuracy: 0.9704 - val_loss: 0.1884 - val_iou: 0.9429 - val_dice_coef: 0.7677 - val_precision: 0.9469 - val_recall: 0.9323 - val_accuracy: 0.9627\n",
      "Epoch 58/100\n",
      "18/18 [==============================] - 14s 763ms/step - loss: 0.1706 - iou: 0.9510 - dice_coef: 0.7968 - precision: 0.9496 - recall: 0.9597 - accuracy: 0.9696 - val_loss: 0.1601 - val_iou: 0.9528 - val_dice_coef: 0.8067 - val_precision: 0.9342 - val_recall: 0.9624 - val_accuracy: 0.9671\n",
      "Epoch 59/100\n",
      "18/18 [==============================] - 14s 764ms/step - loss: 0.1641 - iou: 0.9544 - dice_coef: 0.8031 - precision: 0.9590 - recall: 0.9591 - accuracy: 0.9726 - val_loss: 0.1971 - val_iou: 0.9373 - val_dice_coef: 0.7713 - val_precision: 0.8835 - val_recall: 0.9804 - val_accuracy: 0.9537\n",
      "Epoch 60/100\n",
      "18/18 [==============================] - 14s 764ms/step - loss: 0.1702 - iou: 0.9510 - dice_coef: 0.7963 - precision: 0.9532 - recall: 0.9528 - accuracy: 0.9680 - val_loss: 0.1854 - val_iou: 0.9431 - val_dice_coef: 0.7814 - val_precision: 0.9146 - val_recall: 0.9588 - val_accuracy: 0.9589\n",
      "Epoch 61/100\n",
      "18/18 [==============================] - 14s 762ms/step - loss: 0.1649 - iou: 0.9533 - dice_coef: 0.8013 - precision: 0.9553 - recall: 0.9572 - accuracy: 0.9709 - val_loss: 0.1879 - val_iou: 0.9431 - val_dice_coef: 0.7711 - val_precision: 0.9415 - val_recall: 0.9476 - val_accuracy: 0.9653\n",
      "Epoch 62/100\n",
      "18/18 [==============================] - 14s 764ms/step - loss: 0.1715 - iou: 0.9500 - dice_coef: 0.8000 - precision: 0.9452 - recall: 0.9482 - accuracy: 0.9642 - val_loss: 0.2061 - val_iou: 0.9317 - val_dice_coef: 0.7671 - val_precision: 0.9199 - val_recall: 0.9027 - val_accuracy: 0.9453\n",
      "Epoch 63/100\n",
      "18/18 [==============================] - 14s 764ms/step - loss: 0.1677 - iou: 0.9515 - dice_coef: 0.8021 - precision: 0.9480 - recall: 0.9528 - accuracy: 0.9668 - val_loss: 0.2102 - val_iou: 0.9321 - val_dice_coef: 0.7679 - val_precision: 0.8975 - val_recall: 0.9404 - val_accuracy: 0.9468\n",
      "Epoch 64/100\n",
      "18/18 [==============================] - 14s 764ms/step - loss: 0.1607 - iou: 0.9548 - dice_coef: 0.8071 - precision: 0.9572 - recall: 0.9524 - accuracy: 0.9699 - val_loss: 0.2370 - val_iou: 0.9179 - val_dice_coef: 0.7518 - val_precision: 0.8291 - val_recall: 0.9670 - val_accuracy: 0.9276\n",
      "Epoch 65/100\n",
      "18/18 [==============================] - 14s 764ms/step - loss: 0.1561 - iou: 0.9568 - dice_coef: 0.8117 - precision: 0.9593 - recall: 0.9586 - accuracy: 0.9727 - val_loss: 0.2086 - val_iou: 0.9333 - val_dice_coef: 0.7721 - val_precision: 0.8876 - val_recall: 0.9476 - val_accuracy: 0.9458\n",
      "Epoch 66/100\n",
      "18/18 [==============================] - 14s 764ms/step - loss: 0.1561 - iou: 0.9571 - dice_coef: 0.8094 - precision: 0.9578 - recall: 0.9632 - accuracy: 0.9742 - val_loss: 0.1852 - val_iou: 0.9431 - val_dice_coef: 0.7809 - val_precision: 0.9240 - val_recall: 0.9597 - val_accuracy: 0.9626\n",
      "Epoch 67/100\n",
      "18/18 [==============================] - 14s 764ms/step - loss: 0.1516 - iou: 0.9590 - dice_coef: 0.8179 - precision: 0.9595 - recall: 0.9610 - accuracy: 0.9732 - val_loss: 0.2974 - val_iou: 0.8904 - val_dice_coef: 0.7298 - val_precision: 0.7636 - val_recall: 0.9774 - val_accuracy: 0.8993\n",
      "Epoch 68/100\n",
      "18/18 [==============================] - 14s 767ms/step - loss: 0.1797 - iou: 0.9456 - dice_coef: 0.7990 - precision: 0.9391 - recall: 0.9350 - accuracy: 0.9566 - val_loss: 0.8688 - val_iou: 0.7241 - val_dice_coef: 0.5539 - val_precision: 0.4711 - val_recall: 0.7852 - val_accuracy: 0.6546\n",
      "Epoch 69/100\n",
      "18/18 [==============================] - 14s 763ms/step - loss: 0.1960 - iou: 0.9373 - dice_coef: 0.7863 - precision: 0.9310 - recall: 0.9036 - accuracy: 0.9444 - val_loss: 0.6567 - val_iou: 0.7677 - val_dice_coef: 0.6159 - val_precision: 0.5493 - val_recall: 0.7955 - val_accuracy: 0.7326\n",
      "Epoch 70/100\n",
      "18/18 [==============================] - 14s 764ms/step - loss: 0.1935 - iou: 0.9380 - dice_coef: 0.7866 - precision: 0.9301 - recall: 0.9132 - accuracy: 0.9459 - val_loss: 0.4317 - val_iou: 0.8554 - val_dice_coef: 0.7294 - val_precision: 0.6531 - val_recall: 0.9645 - val_accuracy: 0.8281\n",
      "Epoch 71/100\n",
      "18/18 [==============================] - 14s 764ms/step - loss: 0.1781 - iou: 0.9438 - dice_coef: 0.7994 - precision: 0.9248 - recall: 0.9324 - accuracy: 0.9509 - val_loss: 1.3469 - val_iou: 0.6265 - val_dice_coef: 0.5374 - val_precision: 0.3832 - val_recall: 0.9793 - val_accuracy: 0.5011\n",
      "Epoch 72/100\n",
      "18/18 [==============================] - 14s 764ms/step - loss: 0.1761 - iou: 0.9453 - dice_coef: 0.7977 - precision: 0.9301 - recall: 0.9388 - accuracy: 0.9557 - val_loss: 0.3902 - val_iou: 0.8721 - val_dice_coef: 0.7361 - val_precision: 0.7347 - val_recall: 0.9496 - val_accuracy: 0.8763\n",
      "Epoch 73/100\n",
      "18/18 [==============================] - 14s 761ms/step - loss: 0.1570 - iou: 0.9548 - dice_coef: 0.8164 - precision: 0.9487 - recall: 0.9493 - accuracy: 0.9658 - val_loss: 0.2169 - val_iou: 0.9228 - val_dice_coef: 0.8057 - val_precision: 0.8350 - val_recall: 0.9355 - val_accuracy: 0.9204\n",
      "Epoch 74/100\n",
      "18/18 [==============================] - 14s 762ms/step - loss: 0.1538 - iou: 0.9556 - dice_coef: 0.8187 - precision: 0.9512 - recall: 0.9473 - accuracy: 0.9655 - val_loss: 0.2599 - val_iou: 0.9053 - val_dice_coef: 0.7715 - val_precision: 0.7829 - val_recall: 0.9692 - val_accuracy: 0.9058\n",
      "Epoch 75/100\n",
      "18/18 [==============================] - 14s 761ms/step - loss: 0.1526 - iou: 0.9561 - dice_coef: 0.8202 - precision: 0.9470 - recall: 0.9569 - accuracy: 0.9674 - val_loss: 0.2530 - val_iou: 0.9100 - val_dice_coef: 0.7550 - val_precision: 0.8186 - val_recall: 0.9496 - val_accuracy: 0.9168\n",
      "Epoch 76/100\n",
      "18/18 [==============================] - 14s 762ms/step - loss: 0.1455 - iou: 0.9596 - dice_coef: 0.8243 - precision: 0.9583 - recall: 0.9565 - accuracy: 0.9716 - val_loss: 0.2731 - val_iou: 0.8999 - val_dice_coef: 0.7406 - val_precision: 0.7702 - val_recall: 0.9836 - val_accuracy: 0.9030\n",
      "Epoch 77/100\n",
      "18/18 [==============================] - 14s 762ms/step - loss: 0.1385 - iou: 0.9631 - dice_coef: 0.8319 - precision: 0.9606 - recall: 0.9632 - accuracy: 0.9746 - val_loss: 0.2185 - val_iou: 0.9255 - val_dice_coef: 0.7711 - val_precision: 0.8449 - val_recall: 0.9673 - val_accuracy: 0.9341\n",
      "Epoch 78/100\n",
      "18/18 [==============================] - 14s 762ms/step - loss: 0.1356 - iou: 0.9643 - dice_coef: 0.8351 - precision: 0.9636 - recall: 0.9641 - accuracy: 0.9759 - val_loss: 0.1940 - val_iou: 0.9360 - val_dice_coef: 0.7911 - val_precision: 0.8693 - val_recall: 0.9754 - val_accuracy: 0.9461\n",
      "Epoch 79/100\n",
      "18/18 [==============================] - 14s 764ms/step - loss: 0.1381 - iou: 0.9637 - dice_coef: 0.8305 - precision: 0.9665 - recall: 0.9616 - accuracy: 0.9757 - val_loss: 0.2536 - val_iou: 0.9079 - val_dice_coef: 0.7631 - val_precision: 0.7725 - val_recall: 0.9925 - val_accuracy: 0.9066\n",
      "Epoch 80/100\n",
      "18/18 [==============================] - 14s 762ms/step - loss: 0.1439 - iou: 0.9590 - dice_coef: 0.8291 - precision: 0.9532 - recall: 0.9533 - accuracy: 0.9688 - val_loss: 0.1583 - val_iou: 0.9525 - val_dice_coef: 0.8171 - val_precision: 0.9452 - val_recall: 0.9283 - val_accuracy: 0.9608\n",
      "Epoch 81/100\n",
      "18/18 [==============================] - 14s 762ms/step - loss: 0.1404 - iou: 0.9616 - dice_coef: 0.8301 - precision: 0.9509 - recall: 0.9627 - accuracy: 0.9718 - val_loss: 0.1506 - val_iou: 0.9541 - val_dice_coef: 0.8351 - val_precision: 0.9387 - val_recall: 0.9333 - val_accuracy: 0.9598\n",
      "Epoch 82/100\n",
      "18/18 [==============================] - 14s 764ms/step - loss: 0.1342 - iou: 0.9645 - dice_coef: 0.8365 - precision: 0.9642 - recall: 0.9615 - accuracy: 0.9754 - val_loss: 0.1581 - val_iou: 0.9544 - val_dice_coef: 0.8042 - val_precision: 0.9361 - val_recall: 0.9591 - val_accuracy: 0.9670\n",
      "Epoch 83/100\n",
      "18/18 [==============================] - 14s 764ms/step - loss: 0.1282 - iou: 0.9668 - dice_coef: 0.8415 - precision: 0.9643 - recall: 0.9658 - accuracy: 0.9771 - val_loss: 0.1617 - val_iou: 0.9507 - val_dice_coef: 0.8078 - val_precision: 0.9509 - val_recall: 0.9196 - val_accuracy: 0.9601\n",
      "Epoch 84/100\n",
      "18/18 [==============================] - 14s 759ms/step - loss: 0.1295 - iou: 0.9665 - dice_coef: 0.8392 - precision: 0.9666 - recall: 0.9650 - accuracy: 0.9777 - val_loss: 0.1490 - val_iou: 0.9570 - val_dice_coef: 0.8219 - val_precision: 0.9264 - val_recall: 0.9715 - val_accuracy: 0.9671\n",
      "Epoch 85/100\n",
      "18/18 [==============================] - 14s 759ms/step - loss: 0.1236 - iou: 0.9690 - dice_coef: 0.8481 - precision: 0.9677 - recall: 0.9698 - accuracy: 0.9792 - val_loss: 0.1456 - val_iou: 0.9587 - val_dice_coef: 0.8239 - val_precision: 0.9452 - val_recall: 0.9562 - val_accuracy: 0.9691\n",
      "Epoch 86/100\n",
      "18/18 [==============================] - 13s 754ms/step - loss: 0.1243 - iou: 0.9687 - dice_coef: 0.8421 - precision: 0.9686 - recall: 0.9679 - accuracy: 0.9797 - val_loss: 0.1632 - val_iou: 0.9521 - val_dice_coef: 0.8063 - val_precision: 0.9200 - val_recall: 0.9685 - val_accuracy: 0.9640\n",
      "Epoch 87/100\n",
      "18/18 [==============================] - 14s 756ms/step - loss: 0.1200 - iou: 0.9699 - dice_coef: 0.8509 - precision: 0.9675 - recall: 0.9708 - accuracy: 0.9796 - val_loss: 0.1386 - val_iou: 0.9610 - val_dice_coef: 0.8305 - val_precision: 0.9485 - val_recall: 0.9566 - val_accuracy: 0.9702\n",
      "Epoch 88/100\n",
      "18/18 [==============================] - 14s 755ms/step - loss: 0.1204 - iou: 0.9699 - dice_coef: 0.8502 - precision: 0.9698 - recall: 0.9694 - accuracy: 0.9800 - val_loss: 0.1337 - val_iou: 0.9622 - val_dice_coef: 0.8385 - val_precision: 0.9475 - val_recall: 0.9580 - val_accuracy: 0.9704\n",
      "Epoch 89/100\n",
      "18/18 [==============================] - 14s 757ms/step - loss: 0.1164 - iou: 0.9715 - dice_coef: 0.8551 - precision: 0.9726 - recall: 0.9709 - accuracy: 0.9812 - val_loss: 0.1379 - val_iou: 0.9610 - val_dice_coef: 0.8346 - val_precision: 0.9351 - val_recall: 0.9689 - val_accuracy: 0.9693\n",
      "Epoch 90/100\n",
      "18/18 [==============================] - 14s 758ms/step - loss: 0.1241 - iou: 0.9686 - dice_coef: 0.8461 - precision: 0.9620 - recall: 0.9675 - accuracy: 0.9775 - val_loss: 0.2591 - val_iou: 0.9073 - val_dice_coef: 0.7991 - val_precision: 0.8232 - val_recall: 0.9125 - val_accuracy: 0.9119\n",
      "Epoch 91/100\n",
      "18/18 [==============================] - 14s 759ms/step - loss: 0.1379 - iou: 0.9614 - dice_coef: 0.8356 - precision: 0.9543 - recall: 0.9540 - accuracy: 0.9697 - val_loss: 0.3171 - val_iou: 0.8901 - val_dice_coef: 0.7621 - val_precision: 0.7582 - val_recall: 0.9642 - val_accuracy: 0.8934\n",
      "Epoch 92/100\n",
      "18/18 [==============================] - 14s 759ms/step - loss: 0.1454 - iou: 0.9570 - dice_coef: 0.8333 - precision: 0.9450 - recall: 0.9431 - accuracy: 0.9628 - val_loss: 0.2677 - val_iou: 0.9060 - val_dice_coef: 0.7773 - val_precision: 0.8211 - val_recall: 0.9316 - val_accuracy: 0.9149\n",
      "Epoch 93/100\n",
      "18/18 [==============================] - 14s 760ms/step - loss: 0.1785 - iou: 0.9414 - dice_coef: 0.8147 - precision: 0.9189 - recall: 0.9182 - accuracy: 0.9430 - val_loss: 1.3519 - val_iou: 0.6613 - val_dice_coef: 0.5768 - val_precision: 0.4188 - val_recall: 0.9844 - val_accuracy: 0.5690\n",
      "Epoch 94/100\n",
      "18/18 [==============================] - 14s 761ms/step - loss: 0.1597 - iou: 0.9504 - dice_coef: 0.8263 - precision: 0.9403 - recall: 0.9225 - accuracy: 0.9536 - val_loss: 0.2757 - val_iou: 0.9025 - val_dice_coef: 0.8098 - val_precision: 0.8360 - val_recall: 0.8798 - val_accuracy: 0.9076\n",
      "Epoch 95/100\n",
      "18/18 [==============================] - 14s 760ms/step - loss: 0.1751 - iou: 0.9437 - dice_coef: 0.8158 - precision: 0.9253 - recall: 0.9143 - accuracy: 0.9456 - val_loss: 0.8440 - val_iou: 0.7263 - val_dice_coef: 0.6361 - val_precision: 0.4961 - val_recall: 0.9624 - val_accuracy: 0.6835\n",
      "Epoch 96/100\n",
      "18/18 [==============================] - 14s 760ms/step - loss: 0.1555 - iou: 0.9497 - dice_coef: 0.8269 - precision: 0.9279 - recall: 0.9385 - accuracy: 0.9544 - val_loss: 0.2141 - val_iou: 0.9189 - val_dice_coef: 0.8142 - val_precision: 0.8634 - val_recall: 0.9036 - val_accuracy: 0.9251\n",
      "Epoch 97/100\n",
      "18/18 [==============================] - 14s 761ms/step - loss: 0.1490 - iou: 0.9545 - dice_coef: 0.8346 - precision: 0.9450 - recall: 0.9328 - accuracy: 0.9582 - val_loss: 0.3374 - val_iou: 0.8650 - val_dice_coef: 0.7089 - val_precision: 0.7979 - val_recall: 0.7548 - val_accuracy: 0.8635\n",
      "Epoch 98/100\n",
      "18/18 [==============================] - 14s 761ms/step - loss: 0.1358 - iou: 0.9603 - dice_coef: 0.8448 - precision: 0.9441 - recall: 0.9510 - accuracy: 0.9648 - val_loss: 0.1931 - val_iou: 0.9360 - val_dice_coef: 0.8033 - val_precision: 0.9069 - val_recall: 0.9123 - val_accuracy: 0.9425\n",
      "Epoch 99/100\n",
      "18/18 [==============================] - 14s 758ms/step - loss: 0.1294 - iou: 0.9626 - dice_coef: 0.8489 - precision: 0.9509 - recall: 0.9538 - accuracy: 0.9681 - val_loss: 0.2488 - val_iou: 0.9160 - val_dice_coef: 0.7810 - val_precision: 0.9480 - val_recall: 0.7860 - val_accuracy: 0.9181\n",
      "Epoch 100/100\n",
      "18/18 [==============================] - 14s 759ms/step - loss: 0.1221 - iou: 0.9664 - dice_coef: 0.8535 - precision: 0.9600 - recall: 0.9570 - accuracy: 0.9725 - val_loss: 0.1830 - val_iou: 0.9416 - val_dice_coef: 0.7923 - val_precision: 0.9288 - val_recall: 0.9173 - val_accuracy: 0.9515\n"
     ]
    }
   ],
   "source": [
    "base_epochs = 100\n",
    "weight_path = os.path.join(root_folder,'unet_'+str(base_epochs)+'_epoch.h5')\n",
    "model, hist = train(base_epochs, weight_path)"
   ]
  },
  {
   "cell_type": "code",
   "execution_count": null,
   "metadata": {
    "id": "w2ra_4cf3EWU"
   },
   "outputs": [],
   "source": []
  },
  {
   "cell_type": "code",
   "execution_count": null,
   "metadata": {
    "id": "s_tdY03vLlPZ"
   },
   "outputs": [],
   "source": [
    "img = tf.convert_to_tensor(np.expand_dims(x_train[21],0), dtype='float')"
   ]
  },
  {
   "cell_type": "code",
   "execution_count": null,
   "metadata": {
    "id": "RiW0CzYlJW7F"
   },
   "outputs": [],
   "source": [
    "encoded = encoder(img)\n"
   ]
  },
  {
   "cell_type": "code",
   "execution_count": null,
   "metadata": {
    "colab": {
     "base_uri": "https://localhost:8080/"
    },
    "executionInfo": {
     "elapsed": 167,
     "status": "ok",
     "timestamp": 1654044477187,
     "user": {
      "displayName": "Manas Bedmutha",
      "userId": "04322851682834695279"
     },
     "user_tz": 420
    },
    "id": "6Ap416_dLr0H",
    "outputId": "38aad21a-6639-4c5e-983d-f7e12ba8bffd"
   },
   "outputs": [
    {
     "data": {
      "text/plain": [
       "TensorShape([1, 6, 8, 1024])"
      ]
     },
     "execution_count": 27,
     "metadata": {},
     "output_type": "execute_result"
    }
   ],
   "source": [
    "encoded.shape"
   ]
  },
  {
   "cell_type": "code",
   "execution_count": null,
   "metadata": {
    "colab": {
     "base_uri": "https://localhost:8080/"
    },
    "executionInfo": {
     "elapsed": 852,
     "status": "ok",
     "timestamp": 1654044478031,
     "user": {
      "displayName": "Manas Bedmutha",
      "userId": "04322851682834695279"
     },
     "user_tz": 420
    },
    "id": "OJAGtFsjOy3B",
    "outputId": "db976a4e-de50-4816-88c7-100ca101b92b"
   },
   "outputs": [
    {
     "name": "stdout",
     "output_type": "stream",
     "text": [
      "Model compiled successfully\n"
     ]
    }
   ],
   "source": [
    "model0 = unet()"
   ]
  },
  {
   "cell_type": "code",
   "execution_count": null,
   "metadata": {
    "id": "nKaWLYCSOy51"
   },
   "outputs": [],
   "source": [
    "model0.load_weights(weight_path)"
   ]
  },
  {
   "cell_type": "code",
   "execution_count": null,
   "metadata": {
    "colab": {
     "base_uri": "https://localhost:8080/"
    },
    "executionInfo": {
     "elapsed": 692,
     "status": "ok",
     "timestamp": 1654044478930,
     "user": {
      "displayName": "Manas Bedmutha",
      "userId": "04322851682834695279"
     },
     "user_tz": 420
    },
    "id": "SjwFbzAHPCNM",
    "outputId": "b56512aa-dd31-4b0c-e0d5-5ac57b1126a2"
   },
   "outputs": [
    {
     "name": "stdout",
     "output_type": "stream",
     "text": [
      "Model: \"model_1\"\n",
      "_________________________________________________________________\n",
      " Layer (type)                Output Shape              Param #   \n",
      "=================================================================\n",
      " input_2 (InputLayer)        [(None, None, None, 3)]   0         \n",
      "                                                                 \n",
      " conv1 (Conv2D)              (None, None, None, 64)    1792      \n",
      "                                                                 \n",
      " bn1 (BatchNormalization)    (None, None, None, 64)    256       \n",
      "                                                                 \n",
      " activation_39 (Activation)  (None, None, None, 64)    0         \n",
      "                                                                 \n",
      " conv2 (Conv2D)              (None, None, None, 64)    36928     \n",
      "                                                                 \n",
      " bn2 (BatchNormalization)    (None, None, None, 64)    256       \n",
      "                                                                 \n",
      " activation_40 (Activation)  (None, None, None, 64)    0         \n",
      "                                                                 \n",
      " max_pooling2d_10 (MaxPoolin  (None, None, None, 64)   0         \n",
      " g2D)                                                            \n",
      "                                                                 \n",
      " conv3 (Conv2D)              (None, None, None, 128)   73856     \n",
      "                                                                 \n",
      " bn3 (BatchNormalization)    (None, None, None, 128)   512       \n",
      "                                                                 \n",
      " activation_41 (Activation)  (None, None, None, 128)   0         \n",
      "                                                                 \n",
      " conv4 (Conv2D)              (None, None, None, 128)   147584    \n",
      "                                                                 \n",
      " bn4 (BatchNormalization)    (None, None, None, 128)   512       \n",
      "                                                                 \n",
      " activation_42 (Activation)  (None, None, None, 128)   0         \n",
      "                                                                 \n",
      " max_pooling2d_11 (MaxPoolin  (None, None, None, 128)  0         \n",
      " g2D)                                                            \n",
      "                                                                 \n",
      " conv5 (Conv2D)              (None, None, None, 256)   295168    \n",
      "                                                                 \n",
      " bn5 (BatchNormalization)    (None, None, None, 256)   1024      \n",
      "                                                                 \n",
      " activation_43 (Activation)  (None, None, None, 256)   0         \n",
      "                                                                 \n",
      " conv6 (Conv2D)              (None, None, None, 256)   590080    \n",
      "                                                                 \n",
      " bn6 (BatchNormalization)    (None, None, None, 256)   1024      \n",
      "                                                                 \n",
      " activation_44 (Activation)  (None, None, None, 256)   0         \n",
      "                                                                 \n",
      " conv7 (Conv2D)              (None, None, None, 256)   590080    \n",
      "                                                                 \n",
      " bn7 (BatchNormalization)    (None, None, None, 256)   1024      \n",
      "                                                                 \n",
      " activation_45 (Activation)  (None, None, None, 256)   0         \n",
      "                                                                 \n",
      " max_pooling2d_12 (MaxPoolin  (None, None, None, 256)  0         \n",
      " g2D)                                                            \n",
      "                                                                 \n",
      " conv8 (Conv2D)              (None, None, None, 512)   1180160   \n",
      "                                                                 \n",
      " bn8 (BatchNormalization)    (None, None, None, 512)   2048      \n",
      "                                                                 \n",
      " activation_46 (Activation)  (None, None, None, 512)   0         \n",
      "                                                                 \n",
      " conv9 (Conv2D)              (None, None, None, 512)   2359808   \n",
      "                                                                 \n",
      " bn9 (BatchNormalization)    (None, None, None, 512)   2048      \n",
      "                                                                 \n",
      " activation_47 (Activation)  (None, None, None, 512)   0         \n",
      "                                                                 \n",
      " conv10 (Conv2D)             (None, None, None, 512)   2359808   \n",
      "                                                                 \n",
      " bn10 (BatchNormalization)   (None, None, None, 512)   2048      \n",
      "                                                                 \n",
      " activation_48 (Activation)  (None, None, None, 512)   0         \n",
      "                                                                 \n",
      " max_pooling2d_13 (MaxPoolin  (None, None, None, 512)  0         \n",
      " g2D)                                                            \n",
      "                                                                 \n",
      " conv11 (Conv2D)             (None, None, None, 512)   2359808   \n",
      "                                                                 \n",
      " bn11 (BatchNormalization)   (None, None, None, 512)   2048      \n",
      "                                                                 \n",
      " activation_49 (Activation)  (None, None, None, 512)   0         \n",
      "                                                                 \n",
      " conv12 (Conv2D)             (None, None, None, 512)   2359808   \n",
      "                                                                 \n",
      " bn12 (BatchNormalization)   (None, None, None, 512)   2048      \n",
      "                                                                 \n",
      " activation_50 (Activation)  (None, None, None, 512)   0         \n",
      "                                                                 \n",
      " conv13 (Conv2D)             (None, None, None, 512)   2359808   \n",
      "                                                                 \n",
      " bn13 (BatchNormalization)   (None, None, None, 512)   2048      \n",
      "                                                                 \n",
      " activation_51 (Activation)  (None, None, None, 512)   0         \n",
      "                                                                 \n",
      " max_pooling2d_14 (MaxPoolin  (None, None, None, 512)  0         \n",
      " g2D)                                                            \n",
      "                                                                 \n",
      " fc1 (Dense)                 (None, None, None, 1024)  525312    \n",
      "                                                                 \n",
      " fc2 (Dense)                 (None, None, None, 1024)  1049600   \n",
      "                                                                 \n",
      " up_sampling2d_5 (UpSampling  (None, None, None, 1024)  0        \n",
      " 2D)                                                             \n",
      "                                                                 \n",
      " deconv1 (Conv2DTranspose)   (None, None, None, 512)   4719104   \n",
      "                                                                 \n",
      " bn14 (BatchNormalization)   (None, None, None, 512)   2048      \n",
      "                                                                 \n",
      " activation_52 (Activation)  (None, None, None, 512)   0         \n",
      "                                                                 \n",
      " deconv2 (Conv2DTranspose)   (None, None, None, 512)   2359808   \n",
      "                                                                 \n",
      " bn15 (BatchNormalization)   (None, None, None, 512)   2048      \n",
      "                                                                 \n",
      " activation_53 (Activation)  (None, None, None, 512)   0         \n",
      "                                                                 \n",
      " deconv3 (Conv2DTranspose)   (None, None, None, 512)   2359808   \n",
      "                                                                 \n",
      " bn16 (BatchNormalization)   (None, None, None, 512)   2048      \n",
      "                                                                 \n",
      " activation_54 (Activation)  (None, None, None, 512)   0         \n",
      "                                                                 \n",
      " up_sampling2d_6 (UpSampling  (None, None, None, 512)  0         \n",
      " 2D)                                                             \n",
      "                                                                 \n",
      " deconv4 (Conv2DTranspose)   (None, None, None, 512)   2359808   \n",
      "                                                                 \n",
      " bn17 (BatchNormalization)   (None, None, None, 512)   2048      \n",
      "                                                                 \n",
      " activation_55 (Activation)  (None, None, None, 512)   0         \n",
      "                                                                 \n",
      " deconv5 (Conv2DTranspose)   (None, None, None, 512)   2359808   \n",
      "                                                                 \n",
      " bn18 (BatchNormalization)   (None, None, None, 512)   2048      \n",
      "                                                                 \n",
      " activation_56 (Activation)  (None, None, None, 512)   0         \n",
      "                                                                 \n",
      " deconv6 (Conv2DTranspose)   (None, None, None, 256)   1179904   \n",
      "                                                                 \n",
      " bn19 (BatchNormalization)   (None, None, None, 256)   1024      \n",
      "                                                                 \n",
      " activation_57 (Activation)  (None, None, None, 256)   0         \n",
      "                                                                 \n",
      " up_sampling2d_7 (UpSampling  (None, None, None, 256)  0         \n",
      " 2D)                                                             \n",
      "                                                                 \n",
      " deconv7 (Conv2DTranspose)   (None, None, None, 256)   590080    \n",
      "                                                                 \n",
      " bn20 (BatchNormalization)   (None, None, None, 256)   1024      \n",
      "                                                                 \n",
      " activation_58 (Activation)  (None, None, None, 256)   0         \n",
      "                                                                 \n",
      " deconv8 (Conv2DTranspose)   (None, None, None, 256)   590080    \n",
      "                                                                 \n",
      " bn21 (BatchNormalization)   (None, None, None, 256)   1024      \n",
      "                                                                 \n",
      " activation_59 (Activation)  (None, None, None, 256)   0         \n",
      "                                                                 \n",
      " deconv9 (Conv2DTranspose)   (None, None, None, 128)   295040    \n",
      "                                                                 \n",
      " bn22 (BatchNormalization)   (None, None, None, 128)   512       \n",
      "                                                                 \n",
      " activation_60 (Activation)  (None, None, None, 128)   0         \n",
      "                                                                 \n",
      " up_sampling2d_8 (UpSampling  (None, None, None, 128)  0         \n",
      " 2D)                                                             \n",
      "                                                                 \n",
      " deconv10 (Conv2DTranspose)  (None, None, None, 128)   147584    \n",
      "                                                                 \n",
      " bn23 (BatchNormalization)   (None, None, None, 128)   512       \n",
      "                                                                 \n",
      " activation_61 (Activation)  (None, None, None, 128)   0         \n",
      "                                                                 \n",
      " deconv11 (Conv2DTranspose)  (None, None, None, 64)    73792     \n",
      "                                                                 \n",
      " bn24 (BatchNormalization)   (None, None, None, 64)    256       \n",
      "                                                                 \n",
      " activation_62 (Activation)  (None, None, None, 64)    0         \n",
      "                                                                 \n",
      " up_sampling2d_9 (UpSampling  (None, None, None, 64)   0         \n",
      " 2D)                                                             \n",
      "                                                                 \n",
      " deconv12 (Conv2DTranspose)  (None, None, None, 64)    36928     \n",
      "                                                                 \n",
      " bn25 (BatchNormalization)   (None, None, None, 64)    256       \n",
      "                                                                 \n",
      " activation_63 (Activation)  (None, None, None, 64)    0         \n",
      "                                                                 \n",
      " deconv13 (Conv2DTranspose)  (None, None, None, 1)     577       \n",
      "                                                                 \n",
      " bn26 (BatchNormalization)   (None, None, None, 1)     4         \n",
      "                                                                 \n",
      " activation_64 (Activation)  (None, None, None, 1)     0         \n",
      "                                                                 \n",
      " reshape_1 (Reshape)         (None, 192, 256)          0         \n",
      "                                                                 \n",
      "=================================================================\n",
      "Total params: 33,393,669\n",
      "Trainable params: 33,377,795\n",
      "Non-trainable params: 15,874\n",
      "_________________________________________________________________\n"
     ]
    }
   ],
   "source": [
    "model0.summary()"
   ]
  },
  {
   "cell_type": "code",
   "execution_count": null,
   "metadata": {
    "id": "O4zGmeoLPCPe"
   },
   "outputs": [],
   "source": []
  },
  {
   "cell_type": "code",
   "execution_count": null,
   "metadata": {
    "id": "BXvq_9A1QiSq"
   },
   "outputs": [],
   "source": [
    "enc_in_tensor = model.input\n",
    "enc_out_tensor = model.get_layer('bn10').output # fc2"
   ]
  },
  {
   "cell_type": "code",
   "execution_count": null,
   "metadata": {
    "id": "cNiNLULyQiWL"
   },
   "outputs": [],
   "source": [
    "encoder_model = Model(inputs = enc_in_tensor, outputs = enc_out_tensor)"
   ]
  },
  {
   "cell_type": "code",
   "execution_count": null,
   "metadata": {
    "id": "25A9_alaPCR9"
   },
   "outputs": [],
   "source": [
    "encoder_model.load_weights(weight_path, by_name=True)"
   ]
  },
  {
   "cell_type": "code",
   "execution_count": null,
   "metadata": {
    "colab": {
     "base_uri": "https://localhost:8080/"
    },
    "executionInfo": {
     "elapsed": 37,
     "status": "ok",
     "timestamp": 1654044767033,
     "user": {
      "displayName": "Manas Bedmutha",
      "userId": "04322851682834695279"
     },
     "user_tz": 420
    },
    "id": "HoDnrfl4PCVY",
    "outputId": "dc7fba3a-0ebb-49a5-e4ad-cee6a9779514"
   },
   "outputs": [
    {
     "data": {
      "text/plain": [
       "TensorShape([1, 24, 32, 512])"
      ]
     },
     "execution_count": 59,
     "metadata": {},
     "output_type": "execute_result"
    }
   ],
   "source": [
    "encoder_model(img).shape"
   ]
  },
  {
   "cell_type": "code",
   "execution_count": null,
   "metadata": {
    "id": "3cdvpFgqPCbu"
   },
   "outputs": [],
   "source": [
    "# 1: https://stackoverflow.com/questions/58465937/how-to-use-the-first-layers-of-a-pretrained-model-to-extract-features-inside-a-k\n",
    "# 2: https://stackoverflow.com/questions/58465937/how-to-use-the-first-layers-of-a-pretrained-model-to-extract-features-inside-a-k"
   ]
  },
  {
   "cell_type": "code",
   "execution_count": null,
   "metadata": {
    "id": "wOpBshNPPCfx"
   },
   "outputs": [],
   "source": [
    "def rms_loss20(y_true, y_pred):\n",
    "    y_true_f = 20*K.flatten(y_true)\n",
    "    y_pred_f = 20*K.flatten(y_pred)\n",
    "    return K.sqrt(K.mean(K.square(y_pred - y_true))) "
   ]
  },
  {
   "cell_type": "code",
   "execution_count": null,
   "metadata": {
    "id": "DJEjLE7dOy9n"
   },
   "outputs": [],
   "source": []
  },
  {
   "cell_type": "code",
   "execution_count": null,
   "metadata": {
    "id": "5-P7YafeMGjA"
   },
   "outputs": [],
   "source": [
    "from keras.layers.pooling import GlobalAveragePooling2D\n",
    "def classify(img_input):\n",
    "  enc = encoder_model(img_input)\n",
    "  x = GlobalAveragePooling2D(name='gap0')(enc)\n",
    "  x = Dense(64, activation='relu', name='clf_1')(x)\n",
    "  clf = Dense(1, activation='sigmoid', name='clf_final')(x)\n",
    "  model = Model(inputs=img_input, outputs=clf)\n",
    "  model.compile(loss=['mse'], optimizer=adam_v2.Adam(learning_rate=0.001), metrics=[rms_loss20])\n",
    "  print(\"Classifier compiled successfully\")\n",
    "  return model"
   ]
  },
  {
   "cell_type": "code",
   "execution_count": null,
   "metadata": {
    "colab": {
     "base_uri": "https://localhost:8080/"
    },
    "executionInfo": {
     "elapsed": 234,
     "status": "ok",
     "timestamp": 1654044767253,
     "user": {
      "displayName": "Manas Bedmutha",
      "userId": "04322851682834695279"
     },
     "user_tz": 420
    },
    "id": "mWqUfkgOMJIU",
    "outputId": "41d26d41-1ad2-483a-96b9-abea1c7b9b28"
   },
   "outputs": [
    {
     "name": "stdout",
     "output_type": "stream",
     "text": [
      "Classifier compiled successfully\n"
     ]
    },
    {
     "data": {
      "text/plain": [
       "TensorShape([1, 1])"
      ]
     },
     "execution_count": 63,
     "metadata": {},
     "output_type": "execute_result"
    }
   ],
   "source": [
    "clf_model = classify(Input(shape= (None, None, 3)))\n",
    "out = clf_model(img)\n",
    "out.shape"
   ]
  },
  {
   "cell_type": "code",
   "execution_count": null,
   "metadata": {
    "id": "uPLita_-MJKs"
   },
   "outputs": [],
   "source": [
    "dataset_folder = r\"/content/drive/MyDrive/Spring 2022/Machine Learning for Physical Applications/Project/dataset_anemia/Final_Augmented_Data/\""
   ]
  },
  {
   "cell_type": "code",
   "execution_count": null,
   "metadata": {
    "id": "9HI0gWpoVAEZ"
   },
   "outputs": [],
   "source": [
    "class DataLoader():\n",
    "  def __init__(self) -> None:\n",
    "      self.path = dataset_folder # path to augmented data\n",
    "      self.folders = ['Flip','Rotate','Scale','Translation']\n",
    "      self.y_italy = pd.read_excel(r\"/content/drive/MyDrive/Spring 2022/Machine Learning for Physical Applications/Project/TRIAL/Italy_new.xlsx\")\n",
    "      #r'/content/drive/MyDrive/Course_files/228/dataset_anemia/India/India.xlsx')#np.load(\"/content/drive/MyDrive/Course_files/228/dataset_anemia/y_india.npy\")\n",
    "      self.y_india = pd.read_excel(r\"/content/drive/MyDrive/Spring 2022/Machine Learning for Physical Applications/Project/dataset_anemia/India/India.xlsx\")\n",
    "      #r'/content/drive/MyDrive/Course_files/228/dataset_anemia/Italy/Italy_copy.xlsx')#np.load(\"/content/drive/MyDrive/Course_files/228/dataset_anemia/y_base_italy.npy\")\n",
    "      # self.split = 1#0.5 #italy/india split\n",
    "      self.skip = 95 #Skip value in Italy (No value)\n",
    "      self.split = [0.8,0.1,0.1] #train,val,test\n",
    "  def sample(self,num,j):\n",
    "    # num_italy = int(num*self.split)\n",
    "    # num_india = num - num_italy\n",
    "    X = np.zeros((num,640,480,3))\n",
    "    Y = np.zeros(num)\n",
    "    age = np.zeros(num)\n",
    "    gen = np.zeros(num)\n",
    "    seen =[]\n",
    "    for i in range(num):\n",
    "      f = np.random.randint(0,len(folders))\n",
    "      path = self.path+self.folders[f]\n",
    "      l = os.listdir(path)\n",
    "      if j ==0:\n",
    "        im_p = os.listdir(path)[0:int(len(l)*self.split[j])]\n",
    "      else:\n",
    "        im_p = os.listdir(path)[int(len(l)*self.split[j-1]):int(len(l)*self.split[j])]\n",
    "      image = random.choice(os.listdir(path))\n",
    "      name_list = image.replace(\".jpg\",\"\").split('_')\n",
    "      country = name_list[0]\n",
    "      id = int(name_list[1])\n",
    "      if country =='italy':\n",
    "        try:\n",
    "          s = d.y_italy[\"Number\"]==id\n",
    "          s[s==True].index[-1]\n",
    "          Y[i] = float(self.y_italy['Hgb'][s])/20\n",
    "          # age[i] = \n",
    "        except:\n",
    "          continue\n",
    "      elif country =='india':\n",
    "        s = d.y_india[\"Number\"]==float(id)\n",
    "        s[s==True].index[-1]\n",
    "        Y[i] = float(self.y_india['Hgb'][s])/20\n",
    "      X[i,:,:,:] = cv2.imread(path+'/' + image)/255\n",
    "    X = np.array(X)\n",
    "    Y = np.array(Y)\n",
    "    return X,Y\n",
    "  def sample_v(self,num,j):\n",
    "    # num_italy = int(num*self.split)\n",
    "    # num_india = num - num_italy\n",
    "    X = np.zeros((num,640,480,3))\n",
    "    Y = np.zeros(num)\n",
    "    seen =[]\n",
    "    for i in range(num):\n",
    "      # f = np.random.randint(0,?len(folders))\n",
    "      path = self.path+\"Scale\"\n",
    "      l = os.listdir(path)\n",
    "      im_p = os.listdir(path)[0:int(len(l)*self.split[j])]\n",
    "      image = random.choice(os.listdir(path))\n",
    "      name_list = image.replace(\".jpg\",\"\").split('_')\n",
    "      country = name_list[0]\n",
    "      id = int(name_list[1])\n",
    "      if country =='italy':\n",
    "        try:\n",
    "          s = d.y_italy[\"Number\"]==id\n",
    "          s[s==True].index[-1]\n",
    "          Y[i] = float(self.y_italy['Hgb'][s])/20\n",
    "        except:\n",
    "          continue\n",
    "      elif country =='india':\n",
    "        s = d.y_india[\"Number\"]==float(id)\n",
    "        s[s==True].index[-1]\n",
    "        Y[i] = float(self.y_india['Hgb'][s])/20\n",
    "      X[i,:,:,:] = cv2.imread(path+'/' + image)/255\n",
    "    X = np.array(X)\n",
    "    Y = np.array(Y)\n",
    "    return X,Y"
   ]
  },
  {
   "cell_type": "code",
   "execution_count": null,
   "metadata": {
    "colab": {
     "base_uri": "https://localhost:8080/",
     "height": 221
    },
    "executionInfo": {
     "elapsed": 711,
     "status": "error",
     "timestamp": 1654044767957,
     "user": {
      "displayName": "Manas Bedmutha",
      "userId": "04322851682834695279"
     },
     "user_tz": 420
    },
    "id": "ZaevfiH1iljQ",
    "outputId": "8114421c-663d-4e08-b475-8846750c6691"
   },
   "outputs": [
    {
     "ename": "NameError",
     "evalue": "ignored",
     "output_type": "error",
     "traceback": [
      "\u001b[0;31m---------------------------------------------------------------------------\u001b[0m",
      "\u001b[0;31mNameError\u001b[0m                                 Traceback (most recent call last)",
      "\u001b[0;32m<ipython-input-66-437855070599>\u001b[0m in \u001b[0;36m<module>\u001b[0;34m()\u001b[0m\n\u001b[0;32m----> 1\u001b[0;31m \u001b[0;32mdel\u001b[0m \u001b[0mx_train_full\u001b[0m\u001b[0;34m\u001b[0m\u001b[0;34m\u001b[0m\u001b[0m\n\u001b[0m\u001b[1;32m      2\u001b[0m \u001b[0;32mdel\u001b[0m \u001b[0my_train_full\u001b[0m\u001b[0;34m\u001b[0m\u001b[0;34m\u001b[0m\u001b[0m\n\u001b[1;32m      3\u001b[0m \u001b[0;32mdel\u001b[0m \u001b[0mx_train\u001b[0m\u001b[0;34m\u001b[0m\u001b[0;34m\u001b[0m\u001b[0m\n\u001b[1;32m      4\u001b[0m \u001b[0;32mdel\u001b[0m \u001b[0my_train\u001b[0m\u001b[0;34m\u001b[0m\u001b[0;34m\u001b[0m\u001b[0m\n",
      "\u001b[0;31mNameError\u001b[0m: name 'x_train_full' is not defined"
     ]
    }
   ],
   "source": [
    "del x_train_full\n",
    "del y_train_full\n",
    "del x_train\n",
    "del y_train"
   ]
  },
  {
   "cell_type": "code",
   "execution_count": null,
   "metadata": {
    "id": "mobQ4XtJVAHy"
   },
   "outputs": [],
   "source": [
    "d = DataLoader()\n",
    "X_clf,y_clf = d.sample_v(300,1)\n",
    "# X =np.zeros((200,3,640,480))\n",
    "# X[:,0,:,:] = x[:,:,:,0]\n",
    "# X[:,1,:,:] = x[:,:,:,1]\n",
    "# X[:,2,:,:] = x[:,:,:,2]\n"
   ]
  },
  {
   "cell_type": "code",
   "execution_count": null,
   "metadata": {
    "colab": {
     "base_uri": "https://localhost:8080/",
     "height": 287
    },
    "executionInfo": {
     "elapsed": 843,
     "status": "ok",
     "timestamp": 1654044806498,
     "user": {
      "displayName": "Manas Bedmutha",
      "userId": "04322851682834695279"
     },
     "user_tz": 420
    },
    "id": "M37_ujwAX_ti",
    "outputId": "dba5c5ce-0809-4978-b34e-8722ba6614c9"
   },
   "outputs": [
    {
     "data": {
      "text/plain": [
       "<matplotlib.image.AxesImage at 0x7fed103a7710>"
      ]
     },
     "execution_count": 68,
     "metadata": {},
     "output_type": "execute_result"
    },
    {
     "data": {
      "image/png": "[encoded data removed]",
      "text/plain": [
       "<Figure size 432x288 with 1 Axes>"
      ]
     },
     "metadata": {
      "needs_background": "light"
     },
     "output_type": "display_data"
    }
   ],
   "source": [
    "plt.imshow(X_clf[21], cmap='brg')"
   ]
  },
  {
   "cell_type": "code",
   "execution_count": null,
   "metadata": {
    "id": "cEIJBNo7Tu4B"
   },
   "outputs": [],
   "source": [
    "# filelist_trainx = sorted(glob.glob(os.path.join(root_folder, \"archive/ph2_resized\", \"trainx\",\"*.bmp\"))) #, key=numericalSort\n",
    "# X_train = np.array([np.array(Image.open(fname)) for fname in filelist_trainx])\n",
    "# print(filelist_trainx[21])\n",
    "\n",
    "# filelist_trainy = sorted(glob.glob(os.path.join(root_folder, \"archive/ph2_resized\", \"trainy\",\"*.bmp\"))) # , key=numericalSort\n",
    "# Y_train = np.array([np.array(Image.open(fname)) for fname in filelist_trainy])"
   ]
  },
  {
   "cell_type": "code",
   "execution_count": null,
   "metadata": {
    "id": "aQxagkbtTu4F"
   },
   "outputs": [],
   "source": [
    "X_clf_use, X_clf_test, y_clf_use, y_clf_test = train_test_split(X_clf, y_clf, test_size = 0.1, random_state = 101)\n",
    "X_clf_train, X_clf_val, y_clf_train, y_clf_val = train_test_split(X_clf_use, y_clf_use, test_size = 0.1, random_state = 101)"
   ]
  },
  {
   "cell_type": "code",
   "execution_count": null,
   "metadata": {
    "colab": {
     "base_uri": "https://localhost:8080/"
    },
    "executionInfo": {
     "elapsed": 5,
     "status": "ok",
     "timestamp": 1654044821614,
     "user": {
      "displayName": "Manas Bedmutha",
      "userId": "04322851682834695279"
     },
     "user_tz": 420
    },
    "id": "0ijS996nMJMz",
    "outputId": "df05b7ad-59b0-4040-8c3b-934b87e7d087"
   },
   "outputs": [
    {
     "data": {
      "text/plain": [
       "((243, 640, 480, 3), (27, 640, 480, 3), (30, 640, 480, 3))"
      ]
     },
     "execution_count": 70,
     "metadata": {},
     "output_type": "execute_result"
    }
   ],
   "source": [
    "X_clf_train.shape, X_clf_val.shape, X_clf_test.shape"
   ]
  },
  {
   "cell_type": "code",
   "execution_count": null,
   "metadata": {
    "colab": {
     "base_uri": "https://localhost:8080/"
    },
    "executionInfo": {
     "elapsed": 131,
     "status": "ok",
     "timestamp": 1654044822990,
     "user": {
      "displayName": "Manas Bedmutha",
      "userId": "04322851682834695279"
     },
     "user_tz": 420
    },
    "id": "8TeOC435MJQT",
    "outputId": "a434a8c6-cdcd-4f08-c11a-573103069a32"
   },
   "outputs": [
    {
     "data": {
      "text/plain": [
       "array([0.54 , 0.765, 0.61 , 0.76 , 0.635, 0.634, 0.68 , 0.81 , 0.445,\n",
       "       0.77 , 0.74 , 0.   , 0.725, 0.805, 0.685, 0.53 , 0.565, 0.55 ,\n",
       "       0.695, 0.735, 0.555, 0.765, 0.7  , 0.75 , 0.515, 0.705, 0.56 ,\n",
       "       0.79 , 0.775, 0.745])"
      ]
     },
     "execution_count": 71,
     "metadata": {},
     "output_type": "execute_result"
    }
   ],
   "source": [
    "y_clf_test"
   ]
  },
  {
   "cell_type": "code",
   "execution_count": null,
   "metadata": {
    "id": "Rx7FdOUZY78o"
   },
   "outputs": [],
   "source": [
    "def train_clf(epochs_num, savename):\n",
    "    model =  classify(Input(shape= (None, None, 3))) #epochs_num, savename)\n",
    "    hist = model.fit(X_clf_use, y_clf_use, epochs= epochs_num, batch_size= 6, validation_data= (X_clf_val, y_clf_val), verbose=1)\n",
    "    model.save(savename)\n",
    "    return model,hist"
   ]
  },
  {
   "cell_type": "code",
   "execution_count": null,
   "metadata": {
    "id": "xJycyTfVk1Oj"
   },
   "outputs": [],
   "source": [
    "del X_clf\n",
    "del y_clf"
   ]
  },
  {
   "cell_type": "code",
   "execution_count": null,
   "metadata": {
    "colab": {
     "base_uri": "https://localhost:8080/"
    },
    "executionInfo": {
     "elapsed": 143837,
     "status": "ok",
     "timestamp": 1654045155347,
     "user": {
      "displayName": "Manas Bedmutha",
      "userId": "04322851682834695279"
     },
     "user_tz": 420
    },
    "id": "Dsjfa0KzZQb2",
    "outputId": "36539a32-93d0-40c9-aebd-bc6d4e52f6bc"
   },
   "outputs": [
    {
     "name": "stdout",
     "output_type": "stream",
     "text": [
      "Classifier compiled successfully\n",
      "Epoch 1/10\n",
      "45/45 [==============================] - 34s 681ms/step - loss: 0.0217 - rms_loss20: 0.1379 - val_loss: 0.1536 - val_rms_loss20: 0.3841\n",
      "Epoch 2/10\n",
      "45/45 [==============================] - 30s 675ms/step - loss: 0.0093 - rms_loss20: 0.0921 - val_loss: 0.1536 - val_rms_loss20: 0.3841\n",
      "Epoch 3/10\n",
      "45/45 [==============================] - 30s 678ms/step - loss: 0.0079 - rms_loss20: 0.0857 - val_loss: 0.0241 - val_rms_loss20: 0.1482\n",
      "Epoch 4/10\n",
      "45/45 [==============================] - 31s 687ms/step - loss: 0.0078 - rms_loss20: 0.0830 - val_loss: 0.0153 - val_rms_loss20: 0.1217\n",
      "Epoch 5/10\n",
      "45/45 [==============================] - 31s 694ms/step - loss: 0.0081 - rms_loss20: 0.0868 - val_loss: 0.0144 - val_rms_loss20: 0.1197\n",
      "Epoch 6/10\n",
      "45/45 [==============================] - 31s 699ms/step - loss: 0.0085 - rms_loss20: 0.0884 - val_loss: 0.0139 - val_rms_loss20: 0.1144\n",
      "Epoch 7/10\n",
      "45/45 [==============================] - 32s 705ms/step - loss: 0.0076 - rms_loss20: 0.0842 - val_loss: 0.0294 - val_rms_loss20: 0.1638\n",
      "Epoch 8/10\n",
      "45/45 [==============================] - 32s 708ms/step - loss: 0.0068 - rms_loss20: 0.0793 - val_loss: 0.1520 - val_rms_loss20: 0.3905\n",
      "Epoch 9/10\n",
      "45/45 [==============================] - 32s 711ms/step - loss: 0.0076 - rms_loss20: 0.0831 - val_loss: 0.0168 - val_rms_loss20: 0.1259\n",
      "Epoch 10/10\n",
      "45/45 [==============================] - 32s 713ms/step - loss: 0.0070 - rms_loss20: 0.0788 - val_loss: 0.0571 - val_rms_loss20: 0.2304\n"
     ]
    }
   ],
   "source": [
    "epochs = 10\n",
    "clf_weight_path = os.path.join(root_folder,'clf_'+str(epochs)+'_epoch.h5')\n",
    "clf_model, hist = train_clf(epochs, clf_weight_path)"
   ]
  },
  {
   "cell_type": "code",
   "execution_count": null,
   "metadata": {
    "colab": {
     "base_uri": "https://localhost:8080/"
    },
    "executionInfo": {
     "elapsed": 163,
     "status": "ok",
     "timestamp": 1654045183012,
     "user": {
      "displayName": "Manas Bedmutha",
      "userId": "04322851682834695279"
     },
     "user_tz": 420
    },
    "id": "lVlJJ6_GaMo-",
    "outputId": "ba6eb40f-f4fb-4d3c-e91b-4bec271a3226"
   },
   "outputs": [
    {
     "data": {
      "text/plain": [
       "((243, 640, 480, 3), (243,))"
      ]
     },
     "execution_count": 75,
     "metadata": {},
     "output_type": "execute_result"
    }
   ],
   "source": [
    " X_clf_train.shape, y_clf_train.shape"
   ]
  },
  {
   "cell_type": "code",
   "execution_count": null,
   "metadata": {
    "colab": {
     "base_uri": "https://localhost:8080/"
    },
    "executionInfo": {
     "elapsed": 27,
     "status": "ok",
     "timestamp": 1654044757515,
     "user": {
      "displayName": "Manas Bedmutha",
      "userId": "04322851682834695279"
     },
     "user_tz": 420
    },
    "id": "S7-P2VWBaP7f",
    "outputId": "48d43ecc-6745-4b7d-beb9-b3e870f1a2ea"
   },
   "outputs": [
    {
     "data": {
      "text/plain": [
       "array([0.41 , 0.635, 0.65 ])"
      ]
     },
     "execution_count": 52,
     "metadata": {},
     "output_type": "execute_result"
    }
   ],
   "source": [
    "y_clf_test[2:5]"
   ]
  },
  {
   "cell_type": "code",
   "execution_count": null,
   "metadata": {
    "colab": {
     "base_uri": "https://localhost:8080/"
    },
    "executionInfo": {
     "elapsed": 315,
     "status": "ok",
     "timestamp": 1654044758581,
     "user": {
      "displayName": "Manas Bedmutha",
      "userId": "04322851682834695279"
     },
     "user_tz": 420
    },
    "id": "ihwnBmpabs58",
    "outputId": "3eb6d583-08c7-4a6c-8ba4-50ab83aa8320"
   },
   "outputs": [
    {
     "data": {
      "text/plain": [
       "<tf.Tensor: shape=(), dtype=float32, numpy=0.2576797>"
      ]
     },
     "execution_count": 53,
     "metadata": {},
     "output_type": "execute_result"
    }
   ],
   "source": [
    "rms_loss20(y_clf_test[12:15],clf_model(X_clf_test[12:15]))"
   ]
  },
  {
   "cell_type": "code",
   "execution_count": null,
   "metadata": {
    "colab": {
     "base_uri": "https://localhost:8080/"
    },
    "executionInfo": {
     "elapsed": 50,
     "status": "ok",
     "timestamp": 1654044758583,
     "user": {
      "displayName": "Manas Bedmutha",
      "userId": "04322851682834695279"
     },
     "user_tz": 420
    },
    "id": "V8u-BVkjb00k",
    "outputId": "97dfa19e-72fc-49ba-fe64-54eb2ed01734"
   },
   "outputs": [
    {
     "data": {
      "text/plain": [
       "(<tf.Tensor: shape=(3, 1), dtype=float32, numpy=\n",
       " array([[0.8713867 ],\n",
       "        [0.87366927],\n",
       "        [0.8712872 ]], dtype=float32)>, array([0.685, 0.48 , 0.77 ]))"
      ]
     },
     "execution_count": 54,
     "metadata": {},
     "output_type": "execute_result"
    }
   ],
   "source": [
    "clf_model(X_clf_test[12:15]), y_clf_test[12:15]"
   ]
  },
  {
   "cell_type": "code",
   "execution_count": null,
   "metadata": {
    "id": "t_jFslmOj1jf"
   },
   "outputs": [],
   "source": []
  },
  {
   "cell_type": "code",
   "execution_count": null,
   "metadata": {
    "id": "q_aVsf-mj7U7"
   },
   "outputs": [],
   "source": [
    "  "
   ]
  }
 ],
 "metadata": {
  "accelerator": "GPU",
  "colab": {
   "collapsed_sections": [],
   "name": "I_hope_this_works",
   "provenance": []
  },
  "kernelspec": {
   "display_name": "Python 3 (ipykernel)",
   "language": "python",
   "name": "python3"
  },
  "language_info": {
   "codemirror_mode": {
    "name": "ipython",
    "version": 3
   },
   "file_extension": ".py",
   "mimetype": "text/x-python",
   "name": "python",
   "nbconvert_exporter": "python",
   "pygments_lexer": "ipython3",
   "version": "3.9.7"
  }
 },
 "nbformat": 4,
 "nbformat_minor": 1
}
